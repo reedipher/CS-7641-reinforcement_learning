{
 "cells": [
  {
   "cell_type": "markdown",
   "metadata": {},
   "source": [
    "# Common\n",
    "## Imports"
   ]
  },
  {
   "cell_type": "code",
   "execution_count": 1,
   "metadata": {},
   "outputs": [
    {
     "name": "stdout",
     "output_type": "stream",
     "text": [
      "3.7.6\n"
     ]
    }
   ],
   "source": [
    "from platform import python_version\n",
    "\n",
    "print(python_version())"
   ]
  },
  {
   "cell_type": "code",
   "execution_count": 2,
   "metadata": {},
   "outputs": [],
   "source": [
    "import hiive.mdptoolbox as mdptoolbox\n",
    "import hiive.mdptoolbox.example\n",
    "from hiive.mdptoolbox.mdp import ValueIteration, PolicyIteration, QLearning\n",
    "\n",
    "import numpy as np\n",
    "import pandas as pd\n",
    "import matplotlib.pyplot as plt\n",
    "import seaborn as sns\n",
    "from time import time\n",
    "\n",
    "from IPython.display import clear_output, display\n",
    "\n",
    "# suppress pandas warning\n",
    "pd.options.mode.chained_assignment = None\n",
    "\n",
    "# set seed\n",
    "np.random.seed(0)\n",
    "\n",
    "%matplotlib inline"
   ]
  },
  {
   "cell_type": "markdown",
   "metadata": {},
   "source": [
    "# Helper Functions"
   ]
  },
  {
   "cell_type": "code",
   "execution_count": 3,
   "metadata": {},
   "outputs": [],
   "source": [
    "# code based on:\n",
    "# https://medium.com/analytics-vidhya/solving-the-frozenlake-environment-from-openai-gym-using-value-iteration-5a078dffe438\n",
    "def get_score(env, policy, printInfo=False, episodes=1000):\n",
    "    misses = 0\n",
    "    steps_list = []\n",
    "    for episode in range(episodes):\n",
    "        observation = env.reset()\n",
    "        steps=0\n",
    "        while True:\n",
    "            action = policy[observation]\n",
    "            observation, reward, done, _ = env.step(action)\n",
    "            steps+=1\n",
    "            if done and reward == 1:\n",
    "                # print('You have got the Frisbee after {} steps'.format(steps))\n",
    "                steps_list.append(steps)\n",
    "                break\n",
    "            elif done and reward == 0:\n",
    "                # print(\"You fell in a hole!\")\n",
    "                misses += 1\n",
    "                break\n",
    "    ave_steps = np.mean(steps_list)\n",
    "    std_steps = np.std(steps_list)\n",
    "    pct_fail  = (misses/episodes)* 100\n",
    "    \n",
    "    if (printInfo):\n",
    "        print('----------------------------------------------')\n",
    "        print('You took an average of {:.0f} steps to get the frisbee'.format(ave_steps))\n",
    "        print('And you fell in the hole {:.2f} % of the times'.format(pct_fail))\n",
    "        print('----------------------------------------------')\n",
    "  \n",
    "    return ave_steps, std_steps, pct_fail\n"
   ]
  },
  {
   "cell_type": "markdown",
   "metadata": {},
   "source": [
    "# Setup Problem"
   ]
  },
  {
   "cell_type": "code",
   "execution_count": 4,
   "metadata": {
    "scrolled": false
   },
   "outputs": [],
   "source": [
    "T,R = hiive.mdptoolbox.example.forest(S=500)"
   ]
  },
  {
   "cell_type": "markdown",
   "metadata": {},
   "source": [
    "# Value Iteration\n",
    "## Function"
   ]
  },
  {
   "cell_type": "code",
   "execution_count": 5,
   "metadata": {},
   "outputs": [],
   "source": [
    "def valueIteration(t, r, gammas, epsilons, showResults=False, max_iterations=100000):\n",
    "    # create data structure to save off\n",
    "    columns = ['gamma', 'epsilon', 'time', 'iterations', 'reward', 'average_steps', 'steps_stddev', 'success_pct', 'policy', 'mean_rewards', 'max_rewards', 'error']\n",
    "    data = pd.DataFrame(0.0, index=np.arange(len(gammas)*len(epsilons)), columns=columns)\n",
    "    \n",
    "    print('Gamma,\\tEps,\\tTime,\\tIter,\\tReward')\n",
    "    print(80*'_')\n",
    "    \n",
    "    testNum = 0\n",
    "    for g in gammas:\n",
    "        for e in epsilons:\n",
    "            test = ValueIteration(t, r, gamma=g, epsilon=e, max_iter=max_iterations)\n",
    "            \n",
    "            runs  = test.run()\n",
    "            time  = runs[-1]['Time']\n",
    "            iters = runs[-1]['Iteration']\n",
    "            maxR  = runs[-1]['Max V']\n",
    "            \n",
    "            max_rewards, mean_rewards, errors = [], [], []\n",
    "            for run in runs:\n",
    "                max_rewards.append(run['Max V'])\n",
    "                mean_rewards.append(run['Mean V'])\n",
    "                errors.append(run['Error'])\n",
    "            \n",
    "            policy = np.array(test.policy)\n",
    "            \n",
    "            data['gamma'][testNum]        = g\n",
    "            data['epsilon'][testNum]      = e\n",
    "            data['time'][testNum]         = time\n",
    "            data['iterations'][testNum]   = iters\n",
    "            data['reward'][testNum]       = maxR\n",
    "            data['mean_rewards'][testNum] = {tuple(mean_rewards)}\n",
    "            data['max_rewards'][testNum]  = {tuple(max_rewards)}\n",
    "            data['error'][testNum]        = {tuple(errors)}\n",
    "            data['policy'][testNum]       = {test.policy}\n",
    "            \n",
    "            print('%.2f,\\t%.0E,\\t%.2f,\\t%d,\\t%f' % (g, e, time, iters, maxR))\n",
    "            \n",
    "            testNum = testNum + 1\n",
    "            \n",
    "    # See differences in policy\n",
    "    policies = data['policy']\n",
    "    \n",
    "    ''' TODO - how to evaluate performance?\n",
    "    for i,p in enumerate(policies):\n",
    "        pol = list(p)[0]\n",
    "        steps, steps_stddev, failures = get_score(env, pol, showResults)\n",
    "        data['average_steps'][i] = steps\n",
    "        data['steps_stddev'][i]  = steps_stddev\n",
    "        data['success_pct'][i]   = 100-failures      \n",
    "        \n",
    "    \n",
    "    '''\n",
    "    # replace all NaN's\n",
    "    data.fillna(0, inplace=True)\n",
    "    data.head()\n",
    "        \n",
    "    return data"
   ]
  },
  {
   "cell_type": "markdown",
   "metadata": {},
   "source": [
    "## Setup"
   ]
  },
  {
   "cell_type": "code",
   "execution_count": 54,
   "metadata": {
    "scrolled": false
   },
   "outputs": [
    {
     "name": "stdout",
     "output_type": "stream",
     "text": [
      "Gamma,\tEps,\tTime,\tIter,\tReward\n",
      "________________________________________________________________________________\n",
      "0.10,\t1E-02,\t0.00,\t2,\t4.360000\n",
      "0.10,\t1E-03,\t0.00,\t3,\t4.393300\n",
      "0.10,\t1E-08,\t0.00,\t8,\t4.396613\n",
      "0.10,\t1E-12,\t0.00,\t12,\t4.396613\n",
      "0.30,\t1E-02,\t0.00,\t4,\t5.460862\n",
      "0.30,\t1E-03,\t0.00,\t6,\t5.489575\n",
      "0.30,\t1E-08,\t0.00,\t15,\t5.491933\n",
      "0.30,\t1E-12,\t0.00,\t22,\t5.491933\n",
      "0.60,\t1E-02,\t0.00,\t11,\t8.797055\n",
      "0.60,\t1E-03,\t0.01,\t15,\t8.808703\n",
      "0.60,\t1E-08,\t0.01,\t33,\t8.809994\n",
      "0.60,\t1E-12,\t0.01,\t48,\t8.809994\n",
      "0.90,\t1E-02,\t0.02,\t39,\t23.089675\n",
      "0.90,\t1E-03,\t0.02,\t50,\t23.147532\n",
      "0.90,\t1E-08,\t0.05,\t105,\t23.172360\n",
      "0.90,\t1E-12,\t0.02,\t149,\t23.172433\n",
      "1.00,\t1E-02,\t0.09,\t298,\t176.171745\n",
      "1.00,\t1E-03,\t0.08,\t320,\t186.592798\n",
      "1.00,\t1E-08,\t0.09,\t429,\t238.224376\n",
      "1.00,\t1E-12,\t0.12,\t516,\t279.434902\n"
     ]
    }
   ],
   "source": [
    "gammas   = [0.1, 0.3, 0.6, 0.9, 0.99999999999]\n",
    "epsilons = [1e-2, 1e-3, 1e-8, 1e-12]\n",
    "vi_data  = valueIteration(T, R, gammas, epsilons, showResults=False)\n",
    "\n",
    "#vi_data.head()"
   ]
  },
  {
   "cell_type": "code",
   "execution_count": null,
   "metadata": {},
   "outputs": [],
   "source": []
  },
  {
   "cell_type": "markdown",
   "metadata": {},
   "source": [
    "## Plots"
   ]
  },
  {
   "cell_type": "code",
   "execution_count": 59,
   "metadata": {},
   "outputs": [
    {
     "data": {
      "image/png": "[encoded data removed]",
      "text/plain": [
       "<Figure size 432x288 with 1 Axes>"
      ]
     },
     "metadata": {
      "needs_background": "light"
     },
     "output_type": "display_data"
    },
    {
     "data": {
      "image/png": "[encoded data removed]",
      "text/plain": [
       "<Figure size 432x288 with 1 Axes>"
      ]
     },
     "metadata": {
      "needs_background": "light"
     },
     "output_type": "display_data"
    }
   ],
   "source": [
    "vi_data.plot(x='gamma', y='reward')\n",
    "plt.grid()\n",
    "\n",
    "vi_data.plot(x='iterations', y='reward')\n",
    "plt.grid(True)"
   ]
  },
  {
   "cell_type": "markdown",
   "metadata": {},
   "source": [
    "## Results"
   ]
  },
  {
   "cell_type": "code",
   "execution_count": 7,
   "metadata": {},
   "outputs": [],
   "source": [
    "\n",
    "# Save off data to a csv file\n",
    "vi_data.to_csv('forest/VI_results.csv')"
   ]
  },
  {
   "cell_type": "markdown",
   "metadata": {},
   "source": [
    "# Policy Iteration\n",
    "## Function"
   ]
  },
  {
   "cell_type": "code",
   "execution_count": 8,
   "metadata": {},
   "outputs": [],
   "source": [
    "def policyIteration(t, r, gammas, showResults=False, max_iterations=100000):\n",
    "    # create data structure to save off\n",
    "    columns = ['gamma', 'epsilon', 'time', 'iterations', 'reward', 'average_steps', 'steps_stddev', 'success_pct', 'policy', 'mean_rewards', 'max_rewards', 'error']\n",
    "    data = pd.DataFrame(0.0, index=np.arange(len(gammas)), columns=columns)\n",
    "    \n",
    "    print('gamma,\\ttime,\\titer,\\treward')\n",
    "    print(80*'_')\n",
    "    \n",
    "    testnum = 0\n",
    "    for g in gammas:\n",
    "        test = PolicyIteration(t, r, gamma=g, max_iter=max_iterations, eval_type=\"matrix\") # eval_type=\"iterative\"\n",
    "        \n",
    "        runs  = test.run()\n",
    "        time  = test.time\n",
    "        iters = test.iter\n",
    "        maxr  = runs[-1]['Max V']\n",
    "        \n",
    "        print(iters, time)\n",
    "        \n",
    "        max_rewards, mean_rewards, errors = [], [], []\n",
    "        for run in runs:\n",
    "            max_rewards.append(run['Max V'])\n",
    "            mean_rewards.append(run['Mean V'])\n",
    "            errors.append(run['Error'])\n",
    "        \n",
    "        #policy = np.array(test.policy)\n",
    "        #policy = policy.reshape(4,4)\n",
    "        \n",
    "        data['gamma'][testnum]        = g\n",
    "        data['time'][testnum]         = time\n",
    "        data['iterations'][testnum]   = iters\n",
    "        data['reward'][testnum]       = maxr\n",
    "        data['mean_rewards'][testnum] = {tuple(mean_rewards)}\n",
    "        data['max_rewards'][testnum]  = {tuple(max_rewards)}\n",
    "        data['error'][testnum]        = {tuple(errors)}\n",
    "        data['policy'][testnum]       = {test.policy}\n",
    "        \n",
    "        print('%.2f,\\t%.2f,\\t%d,\\t%f' % (g, time, iters, maxr))\n",
    "        \n",
    "        if showResults:\n",
    "            plot_forest(policy, title)\n",
    "            pass\n",
    "        \n",
    "        testnum = testnum + 1\n",
    "            \n",
    "    # see differences in policy\n",
    "    policies = data['policy']\n",
    "    \n",
    "    ''' TODO - how to evaluate performance?\n",
    "    for i,p in enumerate(policies):\n",
    "        pol = list(p)[0]\n",
    "        steps, steps_stddev, failures = get_score(env, pol, showResults)\n",
    "        data['average_steps'][i] = steps\n",
    "        data['steps_stddev'][i]  = steps_stddev\n",
    "        data['success_pct'][i]   = 100-failures      \n",
    "    '''\n",
    "        \n",
    "    # replace all nan's\n",
    "    data.fillna(0, inplace=True)\n",
    "    data.head()\n",
    "        \n",
    "    return data"
   ]
  },
  {
   "cell_type": "markdown",
   "metadata": {},
   "source": [
    "## Setup"
   ]
  },
  {
   "cell_type": "code",
   "execution_count": 60,
   "metadata": {},
   "outputs": [
    {
     "name": "stdout",
     "output_type": "stream",
     "text": [
      "gamma,\ttime,\titer,\treward\n",
      "________________________________________________________________________________\n",
      "1 0.01090550422668457\n",
      "0.10,\t0.01,\t1,\t4.396613\n",
      "1 0.007845401763916016\n",
      "0.20,\t0.01,\t1,\t4.882699\n",
      "2 0.022479534149169922\n",
      "0.30,\t0.02,\t2,\t5.491933\n",
      "2 0.012441873550415039\n",
      "0.40,\t0.01,\t2,\t6.277574\n",
      "3 0.020111083984375\n",
      "0.50,\t0.02,\t3,\t7.329154\n",
      "3 0.019748926162719727\n",
      "0.60,\t0.02,\t3,\t8.809994\n",
      "5 0.033034324645996094\n",
      "0.70,\t0.03,\t5,\t11.054551\n",
      "6 0.06403613090515137\n",
      "0.80,\t0.06,\t6,\t14.883721\n",
      "10 0.08640336990356445\n",
      "0.90,\t0.09,\t10,\t23.172434\n",
      "18 0.14874887466430664\n",
      "0.99,\t0.15,\t18,\t79.492429\n"
     ]
    }
   ],
   "source": [
    "gammas   = [0.1, 0.2, 0.3, 0.4, 0.5, 0.6, 0.7, 0.8, 0.9, 0.99]\n",
    "pi_data  = policyIteration(T, R, gammas, showResults=False)\n",
    "\n",
    "#pi_data.head()"
   ]
  },
  {
   "cell_type": "markdown",
   "metadata": {},
   "source": [
    "## Plots"
   ]
  },
  {
   "cell_type": "code",
   "execution_count": 61,
   "metadata": {},
   "outputs": [
    {
     "data": {
      "image/png": "[encoded data removed]",
      "text/plain": [
       "<Figure size 432x288 with 1 Axes>"
      ]
     },
     "metadata": {
      "needs_background": "light"
     },
     "output_type": "display_data"
    }
   ],
   "source": [
    "pi_data.plot(x='gamma', y='reward')\n",
    "plt.grid()"
   ]
  },
  {
   "cell_type": "markdown",
   "metadata": {},
   "source": [
    "## Results"
   ]
  },
  {
   "cell_type": "code",
   "execution_count": 10,
   "metadata": {},
   "outputs": [],
   "source": [
    "\n",
    "# Save off data to a csv file\n",
    "pi_data.to_csv('forest/PI_results.csv')"
   ]
  },
  {
   "cell_type": "markdown",
   "metadata": {},
   "source": [
    "# Q-Learning\n",
    "## Function"
   ]
  },
  {
   "cell_type": "code",
   "execution_count": 65,
   "metadata": {},
   "outputs": [],
   "source": [
    "def qLearning(t, r, gammas, alphas, alpha_decays=[0.99], epsilon_decays=[0.99], n_iterations=[10000000], showResults=False):\n",
    "    # create data structure to save off\n",
    "    columns = ['gamma', 'alpha', 'alpha_decay', 'epsilon_decay', 'iterations', 'time', 'reward', 'average_steps', 'steps_stddev', 'success_pct', 'policy', 'mean_rewards', 'max_rewards', 'error']\n",
    "    numTests = len(gammas)*len(alphas)*len(alpha_decays)*len(epsilon_decays)*len(n_iterations)\n",
    "    data = pd.DataFrame(0.0, index=np.arange(numTests), columns=columns)\n",
    "    \n",
    "    print('Gamma,\\tAlpha,\\tTime,\\tIter,\\tReward')\n",
    "    print(80*'_')\n",
    "    \n",
    "    testNum = 0\n",
    "    for g in gammas:\n",
    "        for a in alphas:\n",
    "            for a_decay in alpha_decays:\n",
    "                for e_decay in epsilon_decays:\n",
    "                    for n in n_iterations:\n",
    "                        print('Test Num %d/%d' %(testNum+1, numTests))\n",
    "                        print('Gamma: %.2f,\\tAlpha: %.2f,\\tAlpha Decay:%.3f,\\tEpsilon Decay:%.3f,\\tIterations:%d' \n",
    "                             %(g, a, a_decay, e_decay, n))\n",
    "                        \n",
    "                        test = QLearning(t, r, gamma=g, alpha=a, alpha_decay=a_decay, epsilon_decay=e_decay, n_iter=n)\n",
    "                        \n",
    "                        runs  = test.run()\n",
    "                        time  = runs[-1]['Time']\n",
    "                        iters = runs[-1]['Iteration']\n",
    "                        maxR  = runs[-1]['Max V']\n",
    "                        \n",
    "                        max_rewards, mean_rewards, errors = [], [], []\n",
    "                        for run in runs:\n",
    "                            max_rewards.append(run['Max V'])\n",
    "                            mean_rewards.append(run['Mean V'])\n",
    "                            errors.append(run['Error'])\n",
    "                        \n",
    "                        #policy = np.array(test.policy)\n",
    "                        #policy = policy.reshape(4,4)\n",
    "                        \n",
    "                        data['gamma'][testNum]         = g\n",
    "                        data['alpha'][testNum]         = a\n",
    "                        data['alpha_decay'][testNum]   = a_decay\n",
    "                        data['epsilon_decay'][testNum] = e_decay\n",
    "                        data['time'][testNum]          = time\n",
    "                        data['iterations'][testNum]    = iters\n",
    "                        data['reward'][testNum]        = maxR\n",
    "                        data['mean_rewards'][testNum]  = {tuple(mean_rewards)}\n",
    "                        data['max_rewards'][testNum]   = {tuple(max_rewards)}\n",
    "                        data['error'][testNum]         = {tuple(errors)}\n",
    "                        data['policy'][testNum]        = {test.policy}\n",
    "                        \n",
    "                        print('%.2f,\\t%.2f,\\t%.2f,\\t%d,\\t%f' % (g, a, time, iters, maxR))\n",
    "                        \n",
    "                        if showResults:\n",
    "                            pass\n",
    "                        \n",
    "                        testNum = testNum + 1\n",
    "            \n",
    "    # See differences in policy\n",
    "    policies = data['policy']\n",
    "    \n",
    "    '''\n",
    "    for i,p in enumerate(policies):\n",
    "        pol = list(p)[0]\n",
    "        steps, steps_stddev, failures = get_score(env, pol, showResults)\n",
    "        data['average_steps'][i] = steps\n",
    "        data['steps_stddev'][i]  = steps_stddev\n",
    "        data['success_pct'][i]   = 100-failures      \n",
    "    '''\n",
    "        \n",
    "    # replace all NaN's\n",
    "    data.fillna(0, inplace=True)\n",
    "    data.head()\n",
    "        \n",
    "    return data"
   ]
  },
  {
   "cell_type": "markdown",
   "metadata": {},
   "source": [
    "## Setup"
   ]
  },
  {
   "cell_type": "code",
   "execution_count": 66,
   "metadata": {
    "scrolled": true
   },
   "outputs": [
    {
     "name": "stdout",
     "output_type": "stream",
     "text": [
      "Gamma,\tAlpha,\tTime,\tIter,\tReward\n",
      "________________________________________________________________________________\n",
      "Test Num 1/36\n",
      "Gamma: 0.80,\tAlpha: 0.01,\tAlpha Decay:0.900,\tEpsilon Decay:0.900,\tIterations:100000\n",
      "0.80,\t0.01,\t5.24,\t100000,\t2.673711\n",
      "Test Num 2/36\n",
      "Gamma: 0.80,\tAlpha: 0.01,\tAlpha Decay:0.900,\tEpsilon Decay:0.999,\tIterations:100000\n",
      "0.80,\t0.01,\t5.09,\t100000,\t2.678689\n",
      "Test Num 3/36\n",
      "Gamma: 0.80,\tAlpha: 0.01,\tAlpha Decay:0.999,\tEpsilon Decay:0.900,\tIterations:100000\n",
      "0.80,\t0.01,\t5.46,\t100000,\t2.679111\n",
      "Test Num 4/36\n",
      "Gamma: 0.80,\tAlpha: 0.01,\tAlpha Decay:0.999,\tEpsilon Decay:0.999,\tIterations:100000\n",
      "0.80,\t0.01,\t5.45,\t100000,\t2.673143\n",
      "Test Num 5/36\n",
      "Gamma: 0.80,\tAlpha: 0.10,\tAlpha Decay:0.900,\tEpsilon Decay:0.900,\tIterations:100000\n",
      "0.80,\t0.10,\t5.36,\t100000,\t2.670295\n",
      "Test Num 6/36\n",
      "Gamma: 0.80,\tAlpha: 0.10,\tAlpha Decay:0.900,\tEpsilon Decay:0.999,\tIterations:100000\n",
      "0.80,\t0.10,\t5.37,\t100000,\t2.673820\n",
      "Test Num 7/36\n",
      "Gamma: 0.80,\tAlpha: 0.10,\tAlpha Decay:0.999,\tEpsilon Decay:0.900,\tIterations:100000\n",
      "0.80,\t0.10,\t5.31,\t100000,\t2.678270\n",
      "Test Num 8/36\n",
      "Gamma: 0.80,\tAlpha: 0.10,\tAlpha Decay:0.999,\tEpsilon Decay:0.999,\tIterations:100000\n",
      "0.80,\t0.10,\t5.35,\t100000,\t2.674627\n",
      "Test Num 9/36\n",
      "Gamma: 0.80,\tAlpha: 0.20,\tAlpha Decay:0.900,\tEpsilon Decay:0.900,\tIterations:100000\n",
      "0.80,\t0.20,\t5.41,\t100000,\t2.677915\n",
      "Test Num 10/36\n",
      "Gamma: 0.80,\tAlpha: 0.20,\tAlpha Decay:0.900,\tEpsilon Decay:0.999,\tIterations:100000\n",
      "0.80,\t0.20,\t5.32,\t100000,\t2.676031\n",
      "Test Num 11/36\n",
      "Gamma: 0.80,\tAlpha: 0.20,\tAlpha Decay:0.999,\tEpsilon Decay:0.900,\tIterations:100000\n",
      "0.80,\t0.20,\t5.42,\t100000,\t2.666645\n",
      "Test Num 12/36\n",
      "Gamma: 0.80,\tAlpha: 0.20,\tAlpha Decay:0.999,\tEpsilon Decay:0.999,\tIterations:100000\n",
      "0.80,\t0.20,\t5.31,\t100000,\t2.680141\n",
      "Test Num 13/36\n",
      "Gamma: 0.90,\tAlpha: 0.01,\tAlpha Decay:0.900,\tEpsilon Decay:0.900,\tIterations:100000\n",
      "0.90,\t0.01,\t5.39,\t100000,\t4.979745\n",
      "Test Num 14/36\n",
      "Gamma: 0.90,\tAlpha: 0.01,\tAlpha Decay:0.900,\tEpsilon Decay:0.999,\tIterations:100000\n",
      "0.90,\t0.01,\t5.40,\t100000,\t4.974488\n",
      "Test Num 15/36\n",
      "Gamma: 0.90,\tAlpha: 0.01,\tAlpha Decay:0.999,\tEpsilon Decay:0.900,\tIterations:100000\n",
      "0.90,\t0.01,\t5.49,\t100000,\t4.984236\n",
      "Test Num 16/36\n",
      "Gamma: 0.90,\tAlpha: 0.01,\tAlpha Decay:0.999,\tEpsilon Decay:0.999,\tIterations:100000\n",
      "0.90,\t0.01,\t5.48,\t100000,\t4.980473\n",
      "Test Num 17/36\n",
      "Gamma: 0.90,\tAlpha: 0.10,\tAlpha Decay:0.900,\tEpsilon Decay:0.900,\tIterations:100000\n",
      "0.90,\t0.10,\t5.37,\t100000,\t4.976931\n",
      "Test Num 18/36\n",
      "Gamma: 0.90,\tAlpha: 0.10,\tAlpha Decay:0.900,\tEpsilon Decay:0.999,\tIterations:100000\n",
      "0.90,\t0.10,\t5.33,\t100000,\t4.967392\n",
      "Test Num 19/36\n",
      "Gamma: 0.90,\tAlpha: 0.10,\tAlpha Decay:0.999,\tEpsilon Decay:0.900,\tIterations:100000\n",
      "0.90,\t0.10,\t5.21,\t100000,\t5.028071\n",
      "Test Num 20/36\n",
      "Gamma: 0.90,\tAlpha: 0.10,\tAlpha Decay:0.999,\tEpsilon Decay:0.999,\tIterations:100000\n",
      "0.90,\t0.10,\t5.26,\t100000,\t5.014568\n",
      "Test Num 21/36\n",
      "Gamma: 0.90,\tAlpha: 0.20,\tAlpha Decay:0.900,\tEpsilon Decay:0.900,\tIterations:100000\n",
      "0.90,\t0.20,\t5.41,\t100000,\t4.974492\n",
      "Test Num 22/36\n",
      "Gamma: 0.90,\tAlpha: 0.20,\tAlpha Decay:0.900,\tEpsilon Decay:0.999,\tIterations:100000\n",
      "0.90,\t0.20,\t5.37,\t100000,\t4.980802\n",
      "Test Num 23/36\n",
      "Gamma: 0.90,\tAlpha: 0.20,\tAlpha Decay:0.999,\tEpsilon Decay:0.900,\tIterations:100000\n",
      "0.90,\t0.20,\t5.40,\t100000,\t5.032252\n",
      "Test Num 24/36\n",
      "Gamma: 0.90,\tAlpha: 0.20,\tAlpha Decay:0.999,\tEpsilon Decay:0.999,\tIterations:100000\n",
      "0.90,\t0.20,\t5.40,\t100000,\t5.030407\n",
      "Test Num 25/36\n",
      "Gamma: 0.99,\tAlpha: 0.01,\tAlpha Decay:0.900,\tEpsilon Decay:0.900,\tIterations:100000\n",
      "0.99,\t0.01,\t5.24,\t100000,\t17.384924\n",
      "Test Num 26/36\n",
      "Gamma: 0.99,\tAlpha: 0.01,\tAlpha Decay:0.900,\tEpsilon Decay:0.999,\tIterations:100000\n",
      "0.99,\t0.01,\t5.36,\t100000,\t17.293187\n",
      "Test Num 27/36\n",
      "Gamma: 0.99,\tAlpha: 0.01,\tAlpha Decay:0.999,\tEpsilon Decay:0.900,\tIterations:100000\n",
      "0.99,\t0.01,\t5.41,\t100000,\t18.205447\n",
      "Test Num 28/36\n",
      "Gamma: 0.99,\tAlpha: 0.01,\tAlpha Decay:0.999,\tEpsilon Decay:0.999,\tIterations:100000\n",
      "0.99,\t0.01,\t5.36,\t100000,\t17.833175\n",
      "Test Num 29/36\n",
      "Gamma: 0.99,\tAlpha: 0.10,\tAlpha Decay:0.900,\tEpsilon Decay:0.900,\tIterations:100000\n",
      "0.99,\t0.10,\t5.34,\t100000,\t17.325140\n",
      "Test Num 30/36\n",
      "Gamma: 0.99,\tAlpha: 0.10,\tAlpha Decay:0.900,\tEpsilon Decay:0.999,\tIterations:100000\n",
      "0.99,\t0.10,\t5.42,\t100000,\t17.322894\n",
      "Test Num 31/36\n",
      "Gamma: 0.99,\tAlpha: 0.10,\tAlpha Decay:0.999,\tEpsilon Decay:0.900,\tIterations:100000\n",
      "0.99,\t0.10,\t5.46,\t100000,\t7.803281\n",
      "Test Num 32/36\n",
      "Gamma: 0.99,\tAlpha: 0.10,\tAlpha Decay:0.999,\tEpsilon Decay:0.999,\tIterations:100000\n",
      "0.99,\t0.10,\t5.29,\t100000,\t24.950683\n",
      "Test Num 33/36\n",
      "Gamma: 0.99,\tAlpha: 0.20,\tAlpha Decay:0.900,\tEpsilon Decay:0.900,\tIterations:100000\n",
      "0.99,\t0.20,\t5.27,\t100000,\t17.341995\n",
      "Test Num 34/36\n",
      "Gamma: 0.99,\tAlpha: 0.20,\tAlpha Decay:0.900,\tEpsilon Decay:0.999,\tIterations:100000\n",
      "0.99,\t0.20,\t5.24,\t100000,\t17.392947\n",
      "Test Num 35/36\n",
      "Gamma: 0.99,\tAlpha: 0.20,\tAlpha Decay:0.999,\tEpsilon Decay:0.900,\tIterations:100000\n",
      "0.99,\t0.20,\t5.39,\t100000,\t17.758816\n",
      "Test Num 36/36\n",
      "Gamma: 0.99,\tAlpha: 0.20,\tAlpha Decay:0.999,\tEpsilon Decay:0.999,\tIterations:100000\n",
      "0.99,\t0.20,\t5.35,\t100000,\t31.293627\n"
     ]
    },
    {
     "data": {
      "text/html": [
       "<div>\n",
       "<style scoped>\n",
       "    .dataframe tbody tr th:only-of-type {\n",
       "        vertical-align: middle;\n",
       "    }\n",
       "\n",
       "    .dataframe tbody tr th {\n",
       "        vertical-align: top;\n",
       "    }\n",
       "\n",
       "    .dataframe thead th {\n",
       "        text-align: right;\n",
       "    }\n",
       "</style>\n",
       "<table border=\"1\" class=\"dataframe\">\n",
       "  <thead>\n",
       "    <tr style=\"text-align: right;\">\n",
       "      <th></th>\n",
       "      <th>gamma</th>\n",
       "      <th>alpha</th>\n",
       "      <th>alpha_decay</th>\n",
       "      <th>epsilon_decay</th>\n",
       "      <th>iterations</th>\n",
       "      <th>time</th>\n",
       "      <th>reward</th>\n",
       "      <th>average_steps</th>\n",
       "      <th>steps_stddev</th>\n",
       "      <th>success_pct</th>\n",
       "      <th>policy</th>\n",
       "      <th>mean_rewards</th>\n",
       "      <th>max_rewards</th>\n",
       "      <th>error</th>\n",
       "    </tr>\n",
       "  </thead>\n",
       "  <tbody>\n",
       "    <tr>\n",
       "      <th>0</th>\n",
       "      <td>0.8</td>\n",
       "      <td>0.01</td>\n",
       "      <td>0.900</td>\n",
       "      <td>0.900</td>\n",
       "      <td>100000.0</td>\n",
       "      <td>5.237613</td>\n",
       "      <td>2.673711</td>\n",
       "      <td>0.0</td>\n",
       "      <td>0.0</td>\n",
       "      <td>0.0</td>\n",
       "      <td>{(0, 1, 1, 0, 1, 0, 1, 0, 0, 0, 0, 0, 1, 1, 0,...</td>\n",
       "      <td>{(2.8628820000000008e-05, 3.760049202397361e-0...</td>\n",
       "      <td>{(0.009000000000000001, 0.009775294929568435, ...</td>\n",
       "      <td>{(0.0, 0.0013394561503680981, 0.0, 3.171371884...</td>\n",
       "    </tr>\n",
       "    <tr>\n",
       "      <th>1</th>\n",
       "      <td>0.8</td>\n",
       "      <td>0.01</td>\n",
       "      <td>0.900</td>\n",
       "      <td>0.999</td>\n",
       "      <td>100000.0</td>\n",
       "      <td>5.093589</td>\n",
       "      <td>2.678689</td>\n",
       "      <td>0.0</td>\n",
       "      <td>0.0</td>\n",
       "      <td>0.0</td>\n",
       "      <td>{(0, 1, 1, 1, 1, 1, 0, 0, 0, 0, 0, 0, 0, 0, 1,...</td>\n",
       "      <td>{(3.295265442150902e-05, 4.5597344689647095e-0...</td>\n",
       "      <td>{(0.00916802577679054, 0.00916802577679054, 0....</td>\n",
       "      <td>{(0.003853615776790537, 0.0013441293924965213,...</td>\n",
       "    </tr>\n",
       "    <tr>\n",
       "      <th>2</th>\n",
       "      <td>0.8</td>\n",
       "      <td>0.01</td>\n",
       "      <td>0.999</td>\n",
       "      <td>0.900</td>\n",
       "      <td>100000.0</td>\n",
       "      <td>5.455986</td>\n",
       "      <td>2.679111</td>\n",
       "      <td>0.0</td>\n",
       "      <td>0.0</td>\n",
       "      <td>0.0</td>\n",
       "      <td>{(0, 1, 1, 1, 1, 1, 0, 0, 1, 0, 0, 0, 1, 0, 0,...</td>\n",
       "      <td>{(6.009469933329334e-05, 0.0001575415101118679...</td>\n",
       "      <td>{(0.019811076198537354, 0.03879366917327372, 0...</td>\n",
       "      <td>{(0.00015628139614095668, 0.009528180145740675...</td>\n",
       "    </tr>\n",
       "    <tr>\n",
       "      <th>3</th>\n",
       "      <td>0.8</td>\n",
       "      <td>0.01</td>\n",
       "      <td>0.999</td>\n",
       "      <td>0.999</td>\n",
       "      <td>100000.0</td>\n",
       "      <td>5.451304</td>\n",
       "      <td>2.673143</td>\n",
       "      <td>0.0</td>\n",
       "      <td>0.0</td>\n",
       "      <td>0.0</td>\n",
       "      <td>{(0, 1, 1, 1, 1, 1, 0, 0, 0, 1, 1, 1, 0, 1, 0,...</td>\n",
       "      <td>{(7.982284496385154e-05, 0.0001385823313293392...</td>\n",
       "      <td>{(0.019773554198919352, 0.02945100878360874, 0...</td>\n",
       "      <td>{(3.135078513159247e-07, 3.5940292879585536e-0...</td>\n",
       "    </tr>\n",
       "    <tr>\n",
       "      <th>4</th>\n",
       "      <td>0.8</td>\n",
       "      <td>0.10</td>\n",
       "      <td>0.900</td>\n",
       "      <td>0.900</td>\n",
       "      <td>100000.0</td>\n",
       "      <td>5.358209</td>\n",
       "      <td>2.670295</td>\n",
       "      <td>0.0</td>\n",
       "      <td>0.0</td>\n",
       "      <td>0.0</td>\n",
       "      <td>{(0, 1, 1, 1, 0, 1, 0, 0, 0, 0, 0, 1, 0, 1, 0,...</td>\n",
       "      <td>{(0.000375851478224, 0.0005467435466387662, 0....</td>\n",
       "      <td>{(0.1, 0.1314877935718779, 0.15170053542967696...</td>\n",
       "      <td>{(0.0030993639120000024, 0.001379096283754637,...</td>\n",
       "    </tr>\n",
       "  </tbody>\n",
       "</table>\n",
       "</div>"
      ],
      "text/plain": [
       "   gamma  alpha  alpha_decay  epsilon_decay  iterations      time    reward  \\\n",
       "0    0.8   0.01        0.900          0.900    100000.0  5.237613  2.673711   \n",
       "1    0.8   0.01        0.900          0.999    100000.0  5.093589  2.678689   \n",
       "2    0.8   0.01        0.999          0.900    100000.0  5.455986  2.679111   \n",
       "3    0.8   0.01        0.999          0.999    100000.0  5.451304  2.673143   \n",
       "4    0.8   0.10        0.900          0.900    100000.0  5.358209  2.670295   \n",
       "\n",
       "   average_steps  steps_stddev  success_pct  \\\n",
       "0            0.0           0.0          0.0   \n",
       "1            0.0           0.0          0.0   \n",
       "2            0.0           0.0          0.0   \n",
       "3            0.0           0.0          0.0   \n",
       "4            0.0           0.0          0.0   \n",
       "\n",
       "                                              policy  \\\n",
       "0  {(0, 1, 1, 0, 1, 0, 1, 0, 0, 0, 0, 0, 1, 1, 0,...   \n",
       "1  {(0, 1, 1, 1, 1, 1, 0, 0, 0, 0, 0, 0, 0, 0, 1,...   \n",
       "2  {(0, 1, 1, 1, 1, 1, 0, 0, 1, 0, 0, 0, 1, 0, 0,...   \n",
       "3  {(0, 1, 1, 1, 1, 1, 0, 0, 0, 1, 1, 1, 0, 1, 0,...   \n",
       "4  {(0, 1, 1, 1, 0, 1, 0, 0, 0, 0, 0, 1, 0, 1, 0,...   \n",
       "\n",
       "                                        mean_rewards  \\\n",
       "0  {(2.8628820000000008e-05, 3.760049202397361e-0...   \n",
       "1  {(3.295265442150902e-05, 4.5597344689647095e-0...   \n",
       "2  {(6.009469933329334e-05, 0.0001575415101118679...   \n",
       "3  {(7.982284496385154e-05, 0.0001385823313293392...   \n",
       "4  {(0.000375851478224, 0.0005467435466387662, 0....   \n",
       "\n",
       "                                         max_rewards  \\\n",
       "0  {(0.009000000000000001, 0.009775294929568435, ...   \n",
       "1  {(0.00916802577679054, 0.00916802577679054, 0....   \n",
       "2  {(0.019811076198537354, 0.03879366917327372, 0...   \n",
       "3  {(0.019773554198919352, 0.02945100878360874, 0...   \n",
       "4  {(0.1, 0.1314877935718779, 0.15170053542967696...   \n",
       "\n",
       "                                               error  \n",
       "0  {(0.0, 0.0013394561503680981, 0.0, 3.171371884...  \n",
       "1  {(0.003853615776790537, 0.0013441293924965213,...  \n",
       "2  {(0.00015628139614095668, 0.009528180145740675...  \n",
       "3  {(3.135078513159247e-07, 3.5940292879585536e-0...  \n",
       "4  {(0.0030993639120000024, 0.001379096283754637,...  "
      ]
     },
     "execution_count": 66,
     "metadata": {},
     "output_type": "execute_result"
    }
   ],
   "source": [
    "gammas         = [0.8, 0.9, 0.99]\n",
    "alphas         = [0.01, 0.1, 0.2]\n",
    "alpha_decays   = [0.9, 0.999]\n",
    "epsilon_decays = [0.9, 0.999]\n",
    "iterations     = [1e5]\n",
    "\n",
    "''' PROCEED WITH CAUTION >>>> THIS WILL OVERWRITE DATA AND TAKE HOURS'''\n",
    "\n",
    "ql_data  = qLearning(T, R, gammas, alphas, alpha_decays=alpha_decays, epsilon_decays=epsilon_decays, n_iterations=iterations, showResults=False)\n",
    "\n",
    "# write all results to csv file\n",
    "csvFile = 'forest/QL_results.csv'\n",
    "ql_data.to_csv(csvFile)\n",
    "\n",
    "''''''\n",
    "\n",
    "ql_data.head()"
   ]
  },
  {
   "cell_type": "markdown",
   "metadata": {},
   "source": [
    "## Plots"
   ]
  },
  {
   "cell_type": "code",
   "execution_count": null,
   "metadata": {},
   "outputs": [],
   "source": []
  },
  {
   "cell_type": "markdown",
   "metadata": {},
   "source": [
    "## Results"
   ]
  },
  {
   "cell_type": "code",
   "execution_count": null,
   "metadata": {},
   "outputs": [],
   "source": []
  }
 ],
 "metadata": {
  "kernelspec": {
   "display_name": "Python 3",
   "language": "python",
   "name": "python3"
  },
  "language_info": {
   "codemirror_mode": {
    "name": "ipython",
    "version": 3
   },
   "file_extension": ".py",
   "mimetype": "text/x-python",
   "name": "python",
   "nbconvert_exporter": "python",
   "pygments_lexer": "ipython3",
   "version": "3.7.6"
  }
 },
 "nbformat": 4,
 "nbformat_minor": 2
}
