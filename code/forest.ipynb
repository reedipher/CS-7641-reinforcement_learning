{
 "cells": [
  {
   "cell_type": "markdown",
   "metadata": {},
   "source": [
    "# Common\n",
    "## Imports"
   ]
  },
  {
   "cell_type": "code",
   "execution_count": 3,
   "metadata": {},
   "outputs": [
    {
     "name": "stdout",
     "output_type": "stream",
     "text": [
      "3.7.6\n"
     ]
    }
   ],
   "source": [
    "from platform import python_version\n",
    "\n",
    "print(python_version())"
   ]
  },
  {
   "cell_type": "code",
   "execution_count": 4,
   "metadata": {},
   "outputs": [],
   "source": [
    "import hiive.mdptoolbox as mdptoolbox\n",
    "import hiive.mdptoolbox.example\n",
    "from hiive.mdptoolbox.mdp import ValueIteration, PolicyIteration, QLearning\n",
    "\n",
    "import numpy as np\n",
    "import pandas as pd\n",
    "import matplotlib.pyplot as plt\n",
    "import seaborn as sns\n",
    "from time import time\n",
    "\n",
    "from IPython.display import clear_output, display\n",
    "\n",
    "# suppress pandas warning\n",
    "pd.options.mode.chained_assignment = None\n",
    "\n",
    "# set seed\n",
    "np.random.seed(0)\n",
    "\n",
    "%matplotlib inline"
   ]
  },
  {
   "cell_type": "markdown",
   "metadata": {},
   "source": [
    "# Helper Functions"
   ]
  },
  {
   "cell_type": "code",
   "execution_count": 5,
   "metadata": {},
   "outputs": [],
   "source": [
    "# code based on:\n",
    "# https://medium.com/analytics-vidhya/solving-the-frozenlake-environment-from-openai-gym-using-value-iteration-5a078dffe438\n",
    "def get_score(env, policy, printInfo=False, episodes=1000):\n",
    "    misses = 0\n",
    "    steps_list = []\n",
    "    for episode in range(episodes):\n",
    "        observation = env.reset()\n",
    "        steps=0\n",
    "        while True:\n",
    "            action = policy[observation]\n",
    "            observation, reward, done, _ = env.step(action)\n",
    "            steps+=1\n",
    "            if done and reward == 1:\n",
    "                # print('You have got the Frisbee after {} steps'.format(steps))\n",
    "                steps_list.append(steps)\n",
    "                break\n",
    "            elif done and reward == 0:\n",
    "                # print(\"You fell in a hole!\")\n",
    "                misses += 1\n",
    "                break\n",
    "    ave_steps = np.mean(steps_list)\n",
    "    std_steps = np.std(steps_list)\n",
    "    pct_fail  = (misses/episodes)* 100\n",
    "    \n",
    "    if (printInfo):\n",
    "        print('----------------------------------------------')\n",
    "        print('You took an average of {:.0f} steps to get the frisbee'.format(ave_steps))\n",
    "        print('And you fell in the hole {:.2f} % of the times'.format(pct_fail))\n",
    "        print('----------------------------------------------')\n",
    "  \n",
    "    return ave_steps, std_steps, pct_fail\n"
   ]
  },
  {
   "cell_type": "code",
   "execution_count": 69,
   "metadata": {},
   "outputs": [],
   "source": [
    "colors = {\n",
    "    0: 'g',\n",
    "    1: 'k'\n",
    "}\n",
    "\n",
    "labels = {\n",
    "    0: 'W',\n",
    "    1: 'C',\n",
    "}\n",
    "\n",
    "def plot_forest(policy, title='Forest Management'):\n",
    "    rows = 25\n",
    "    cols = 25\n",
    "    \n",
    "    # reshape policy array to be 2-D - assumes 500 states...\n",
    "    policy = np.array(list(policy)).reshape(rows,cols)\n",
    "    \n",
    "    fig = plt.figure(figsize=(10,10))\n",
    "    ax = fig.add_subplot(111, xlim=(-.01, cols+0.01), ylim = (-.01, rows+0.01))\n",
    "    plt.title(title, fontsize=16, weight='bold', y=1.01)\n",
    "    \n",
    "    for i in range(25):\n",
    "        for j in range(25):\n",
    "            y = 25 - i - 1\n",
    "            x = j\n",
    "            p = plt.Rectangle([x, y], 1, 1, linewidth=1, edgecolor='k')\n",
    "            p.set_facecolor(colors[policy[i,j]])\n",
    "            ax.add_patch(p)\n",
    "            \n",
    "            text = ax.text(x+0.5, y+0.5, labels[policy[i, j]],\n",
    "                           horizontalalignment='center', size=10, verticalalignment='center', color='w')\n",
    "    \n",
    "    plt.axis('off')\n",
    "    plt.savefig('./forest/' + title + '.png', dpi=400)\n",
    "    \n",
    "    \n",
    "#plot_forest(bestPolicy)"
   ]
  },
  {
   "cell_type": "markdown",
   "metadata": {},
   "source": [
    "# Setup Problem"
   ]
  },
  {
   "cell_type": "code",
   "execution_count": 70,
   "metadata": {
    "scrolled": false
   },
   "outputs": [],
   "source": [
    "T,R = hiive.mdptoolbox.example.forest(S=625)"
   ]
  },
  {
   "cell_type": "markdown",
   "metadata": {},
   "source": [
    "# Value Iteration\n",
    "## Function"
   ]
  },
  {
   "cell_type": "code",
   "execution_count": 71,
   "metadata": {},
   "outputs": [],
   "source": [
    "def valueIteration(t, r, gammas, epsilons, showResults=False, max_iterations=100000):\n",
    "    # create data structure to save off\n",
    "    columns = ['gamma', 'epsilon', 'time', 'iterations', 'reward', 'average_steps', 'steps_stddev', 'success_pct', 'policy', 'mean_rewards', 'max_rewards', 'error']\n",
    "    data = pd.DataFrame(0.0, index=np.arange(len(gammas)*len(epsilons)), columns=columns)\n",
    "    \n",
    "    print('Gamma,\\tEps,\\tTime,\\tIter,\\tReward')\n",
    "    print(80*'_')\n",
    "    \n",
    "    testNum = 0\n",
    "    for g in gammas:\n",
    "        for e in epsilons:\n",
    "            test = ValueIteration(t, r, gamma=g, epsilon=e, max_iter=max_iterations)\n",
    "            \n",
    "            runs  = test.run()\n",
    "            time  = runs[-1]['Time']\n",
    "            iters = runs[-1]['Iteration']\n",
    "            maxR  = runs[-1]['Max V']\n",
    "            \n",
    "            max_rewards, mean_rewards, errors = [], [], []\n",
    "            for run in runs:\n",
    "                max_rewards.append(run['Max V'])\n",
    "                mean_rewards.append(run['Mean V'])\n",
    "                errors.append(run['Error'])\n",
    "            \n",
    "            policy = np.array(test.policy)\n",
    "            \n",
    "            data['gamma'][testNum]        = g\n",
    "            data['epsilon'][testNum]      = e\n",
    "            data['time'][testNum]         = time\n",
    "            data['iterations'][testNum]   = iters\n",
    "            data['reward'][testNum]       = maxR\n",
    "            data['mean_rewards'][testNum] = {tuple(mean_rewards)}\n",
    "            data['max_rewards'][testNum]  = {tuple(max_rewards)}\n",
    "            data['error'][testNum]        = {tuple(errors)}\n",
    "            data['policy'][testNum]       = {test.policy}\n",
    "            \n",
    "            print('%.2f,\\t%.0E,\\t%.2f,\\t%d,\\t%f' % (g, e, time, iters, maxR))\n",
    "            \n",
    "            testNum = testNum + 1\n",
    "            \n",
    "    # See differences in policy\n",
    "    policies = data['policy']\n",
    "    \n",
    "    ''' TODO - how to evaluate performance?\n",
    "    for i,p in enumerate(policies):\n",
    "        pol = list(p)[0]\n",
    "        steps, steps_stddev, failures = get_score(env, pol, showResults)\n",
    "        data['average_steps'][i] = steps\n",
    "        data['steps_stddev'][i]  = steps_stddev\n",
    "        data['success_pct'][i]   = 100-failures      \n",
    "        \n",
    "    \n",
    "    '''\n",
    "    # replace all NaN's\n",
    "    data.fillna(0, inplace=True)\n",
    "    data.head()\n",
    "        \n",
    "    return data"
   ]
  },
  {
   "cell_type": "markdown",
   "metadata": {},
   "source": [
    "## Setup"
   ]
  },
  {
   "cell_type": "code",
   "execution_count": 72,
   "metadata": {
    "scrolled": false
   },
   "outputs": [
    {
     "name": "stdout",
     "output_type": "stream",
     "text": [
      "Gamma,\tEps,\tTime,\tIter,\tReward\n",
      "________________________________________________________________________________\n",
      "0.10,\t1E-02,\t0.00,\t2,\t4.360000\n",
      "0.10,\t1E-03,\t0.00,\t3,\t4.393300\n",
      "0.10,\t1E-08,\t0.00,\t8,\t4.396613\n",
      "0.10,\t1E-12,\t0.00,\t12,\t4.396613\n",
      "0.30,\t1E-02,\t0.00,\t4,\t5.460862\n",
      "0.30,\t1E-03,\t0.00,\t6,\t5.489575\n",
      "0.30,\t1E-08,\t0.00,\t15,\t5.491933\n",
      "0.30,\t1E-12,\t0.00,\t22,\t5.491933\n",
      "0.60,\t1E-02,\t0.00,\t11,\t8.797055\n",
      "0.60,\t1E-03,\t0.00,\t15,\t8.808703\n",
      "0.60,\t1E-08,\t0.00,\t33,\t8.809994\n",
      "0.60,\t1E-12,\t0.01,\t48,\t8.809994\n",
      "0.90,\t1E-02,\t0.00,\t39,\t23.089675\n",
      "0.90,\t1E-03,\t0.01,\t50,\t23.147532\n",
      "0.90,\t1E-08,\t0.01,\t105,\t23.172360\n",
      "0.90,\t1E-12,\t0.03,\t149,\t23.172433\n",
      "1.00,\t1E-02,\t0.04,\t298,\t176.171745\n",
      "1.00,\t1E-03,\t0.04,\t320,\t186.592798\n",
      "1.00,\t1E-08,\t0.05,\t429,\t238.224376\n",
      "1.00,\t1E-12,\t0.09,\t516,\t279.434902\n"
     ]
    }
   ],
   "source": [
    "gammas   = [0.1, 0.3, 0.6, 0.9, 0.99999999999]\n",
    "epsilons = [1e-2, 1e-3, 1e-8, 1e-12]\n",
    "vi_data  = valueIteration(T, R, gammas, epsilons, showResults=False)\n",
    "\n",
    "#vi_data.head()"
   ]
  },
  {
   "cell_type": "code",
   "execution_count": 73,
   "metadata": {},
   "outputs": [],
   "source": [
    "policies = vi_data['policy']"
   ]
  },
  {
   "cell_type": "markdown",
   "metadata": {},
   "source": [
    "## Plots"
   ]
  },
  {
   "cell_type": "code",
   "execution_count": 74,
   "metadata": {},
   "outputs": [
    {
     "data": {
      "image/png": "[encoded data removed]",
      "text/plain": [
       "<Figure size 432x288 with 1 Axes>"
      ]
     },
     "metadata": {
      "needs_background": "light"
     },
     "output_type": "display_data"
    },
    {
     "data": {
      "image/png": "[encoded data removed]",
      "text/plain": [
       "<Figure size 432x288 with 1 Axes>"
      ]
     },
     "metadata": {
      "needs_background": "light"
     },
     "output_type": "display_data"
    }
   ],
   "source": [
    "vi_data.plot(x='gamma', y='reward', title=\"Gamma vs. Reward\")\n",
    "plt.grid()\n",
    "\n",
    "vi_data.plot(x='iterations', y='reward', title=\"Iterations vs. Reward\")\n",
    "plt.grid(True)"
   ]
  },
  {
   "cell_type": "markdown",
   "metadata": {},
   "source": [
    "## Results"
   ]
  },
  {
   "cell_type": "code",
   "execution_count": 76,
   "metadata": {},
   "outputs": [
    {
     "data": {
      "image/png": "[encoded data removed]",
      "text/plain": [
       "<Figure size 720x720 with 1 Axes>"
      ]
     },
     "metadata": {
      "needs_background": "light"
     },
     "output_type": "display_data"
    }
   ],
   "source": [
    "# find the highest score\n",
    "bestRun = vi_data['reward'].argmax()\n",
    "bestPolicy = vi_data['policy'][bestRun]\n",
    "\n",
    "title='Forest Management VI Optimal Policy'\n",
    "plot_forest(bestPolicy, title)\n",
    "\n",
    "# Save off data to a csv file\n",
    "vi_data.to_csv('forest/VI_results.csv')"
   ]
  },
  {
   "cell_type": "markdown",
   "metadata": {},
   "source": [
    "# Policy Iteration\n",
    "## Function"
   ]
  },
  {
   "cell_type": "code",
   "execution_count": 77,
   "metadata": {},
   "outputs": [],
   "source": [
    "def policyIteration(t, r, gammas, showResults=False, max_iterations=100000):\n",
    "    # create data structure to save off\n",
    "    columns = ['gamma', 'epsilon', 'time', 'iterations', 'reward', 'average_steps', 'steps_stddev', 'success_pct', 'policy', 'mean_rewards', 'max_rewards', 'error']\n",
    "    data = pd.DataFrame(0.0, index=np.arange(len(gammas)), columns=columns)\n",
    "    \n",
    "    print('gamma,\\ttime,\\titer,\\treward')\n",
    "    print(80*'_')\n",
    "    \n",
    "    testnum = 0\n",
    "    for g in gammas:\n",
    "        test = PolicyIteration(t, r, gamma=g, max_iter=max_iterations, eval_type=\"matrix\") # eval_type=\"iterative\"\n",
    "        \n",
    "        runs  = test.run()\n",
    "        time  = test.time\n",
    "        iters = test.iter\n",
    "        maxr  = runs[-1]['Max V']\n",
    "        \n",
    "        print(iters, time)\n",
    "        \n",
    "        max_rewards, mean_rewards, errors = [], [], []\n",
    "        for run in runs:\n",
    "            max_rewards.append(run['Max V'])\n",
    "            mean_rewards.append(run['Mean V'])\n",
    "            errors.append(run['Error'])\n",
    "        \n",
    "        #policy = np.array(test.policy)\n",
    "        #policy = policy.reshape(4,4)\n",
    "        \n",
    "        data['gamma'][testnum]        = g\n",
    "        data['time'][testnum]         = time\n",
    "        data['iterations'][testnum]   = iters\n",
    "        data['reward'][testnum]       = maxr\n",
    "        data['mean_rewards'][testnum] = {tuple(mean_rewards)}\n",
    "        data['max_rewards'][testnum]  = {tuple(max_rewards)}\n",
    "        data['error'][testnum]        = {tuple(errors)}\n",
    "        data['policy'][testnum]       = {test.policy}\n",
    "        \n",
    "        print('%.2f,\\t%.2f,\\t%d,\\t%f' % (g, time, iters, maxr))\n",
    "        \n",
    "        if showResults:\n",
    "            plot_forest(policy, title)\n",
    "            pass\n",
    "        \n",
    "        testnum = testnum + 1\n",
    "            \n",
    "    # see differences in policy\n",
    "    policies = data['policy']\n",
    "    \n",
    "    ''' TODO - how to evaluate performance?\n",
    "    for i,p in enumerate(policies):\n",
    "        pol = list(p)[0]\n",
    "        steps, steps_stddev, failures = get_score(env, pol, showResults)\n",
    "        data['average_steps'][i] = steps\n",
    "        data['steps_stddev'][i]  = steps_stddev\n",
    "        data['success_pct'][i]   = 100-failures      \n",
    "    '''\n",
    "        \n",
    "    # replace all nan's\n",
    "    data.fillna(0, inplace=True)\n",
    "    data.head()\n",
    "        \n",
    "    return data"
   ]
  },
  {
   "cell_type": "markdown",
   "metadata": {},
   "source": [
    "## Setup"
   ]
  },
  {
   "cell_type": "code",
   "execution_count": 78,
   "metadata": {},
   "outputs": [
    {
     "name": "stdout",
     "output_type": "stream",
     "text": [
      "gamma,\ttime,\titer,\treward\n",
      "________________________________________________________________________________\n",
      "1 0.022469043731689453\n",
      "0.10,\t0.02,\t1,\t4.396613\n",
      "1 0.016829490661621094\n",
      "0.20,\t0.02,\t1,\t4.882699\n",
      "2 0.03324294090270996\n",
      "0.30,\t0.03,\t2,\t5.491933\n",
      "2 0.03060626983642578\n",
      "0.40,\t0.03,\t2,\t6.277574\n",
      "3 0.044863224029541016\n",
      "0.50,\t0.04,\t3,\t7.329154\n",
      "3 0.059107065200805664\n",
      "0.60,\t0.06,\t3,\t8.809994\n",
      "5 0.07662367820739746\n",
      "0.70,\t0.08,\t5,\t11.054551\n",
      "6 0.09439349174499512\n",
      "0.80,\t0.09,\t6,\t14.883721\n",
      "10 0.17876839637756348\n",
      "0.90,\t0.18,\t10,\t23.172434\n",
      "18 0.30365610122680664\n",
      "0.99,\t0.30,\t18,\t79.492429\n"
     ]
    }
   ],
   "source": [
    "gammas   = [0.1, 0.2, 0.3, 0.4, 0.5, 0.6, 0.7, 0.8, 0.9, 0.99]\n",
    "pi_data  = policyIteration(T, R, gammas, showResults=False)\n",
    "\n",
    "#pi_data.head()"
   ]
  },
  {
   "cell_type": "markdown",
   "metadata": {},
   "source": [
    "## Plots"
   ]
  },
  {
   "cell_type": "code",
   "execution_count": 79,
   "metadata": {},
   "outputs": [
    {
     "data": {
      "image/png": "[encoded data removed]",
      "text/plain": [
       "<Figure size 432x288 with 1 Axes>"
      ]
     },
     "metadata": {
      "needs_background": "light"
     },
     "output_type": "display_data"
    }
   ],
   "source": [
    "pi_data.plot(x='gamma', y='reward')\n",
    "plt.grid()"
   ]
  },
  {
   "cell_type": "markdown",
   "metadata": {},
   "source": [
    "## Results"
   ]
  },
  {
   "cell_type": "code",
   "execution_count": 80,
   "metadata": {},
   "outputs": [
    {
     "data": {
      "image/png": "[encoded data removed]",
      "text/plain": [
       "<Figure size 720x720 with 1 Axes>"
      ]
     },
     "metadata": {
      "needs_background": "light"
     },
     "output_type": "display_data"
    }
   ],
   "source": [
    "# find the highest score\n",
    "bestRun = pi_data['reward'].argmax()\n",
    "bestPolicy = pi_data['policy'][bestRun]\n",
    "\n",
    "title='Forest Management PI Optimal Policy'\n",
    "plot_forest(bestPolicy, title)\n",
    "\n",
    "# Save off data to a csv file\n",
    "pi_data.to_csv('forest/PI_results.csv')"
   ]
  },
  {
   "cell_type": "markdown",
   "metadata": {},
   "source": [
    "# Q-Learning\n",
    "## Function"
   ]
  },
  {
   "cell_type": "code",
   "execution_count": 82,
   "metadata": {},
   "outputs": [],
   "source": [
    "def qLearning(t, r, gammas, alphas, alpha_decays=[0.99], epsilon_decays=[0.99], n_iterations=[10000000], showResults=False):\n",
    "    # create data structure to save off\n",
    "    columns = ['gamma', 'alpha', 'alpha_decay', 'epsilon_decay', 'iterations', 'time', 'reward', 'average_steps', 'steps_stddev', 'success_pct', 'policy', 'mean_rewards', 'max_rewards', 'error']\n",
    "    numTests = len(gammas)*len(alphas)*len(alpha_decays)*len(epsilon_decays)*len(n_iterations)\n",
    "    data = pd.DataFrame(0.0, index=np.arange(numTests), columns=columns)\n",
    "    \n",
    "    print('Gamma,\\tAlpha,\\tTime,\\tIter,\\tReward')\n",
    "    print(80*'_')\n",
    "    \n",
    "    testNum = 0\n",
    "    for g in gammas:\n",
    "        for a in alphas:\n",
    "            for a_decay in alpha_decays:\n",
    "                for e_decay in epsilon_decays:\n",
    "                    for n in n_iterations:\n",
    "                        print('Test Num %d/%d' %(testNum+1, numTests))\n",
    "                        print('Gamma: %.2f,\\tAlpha: %.2f,\\tAlpha Decay:%.3f,\\tEpsilon Decay:%.3f,\\tIterations:%d' \n",
    "                             %(g, a, a_decay, e_decay, n))\n",
    "                        \n",
    "                        test = QLearning(t, r, gamma=g, alpha=a, alpha_decay=a_decay, epsilon_decay=e_decay, n_iter=n)\n",
    "                        \n",
    "                        runs  = test.run()\n",
    "                        time  = runs[-1]['Time']\n",
    "                        iters = runs[-1]['Iteration']\n",
    "                        maxR  = runs[-1]['Max V']\n",
    "                        \n",
    "                        max_rewards, mean_rewards, errors = [], [], []\n",
    "                        for run in runs:\n",
    "                            max_rewards.append(run['Max V'])\n",
    "                            mean_rewards.append(run['Mean V'])\n",
    "                            errors.append(run['Error'])\n",
    "                        \n",
    "                        #policy = np.array(test.policy)\n",
    "                        #policy = policy.reshape(4,4)\n",
    "                        \n",
    "                        data['gamma'][testNum]         = g\n",
    "                        data['alpha'][testNum]         = a\n",
    "                        data['alpha_decay'][testNum]   = a_decay\n",
    "                        data['epsilon_decay'][testNum] = e_decay\n",
    "                        data['time'][testNum]          = time\n",
    "                        data['iterations'][testNum]    = iters\n",
    "                        data['reward'][testNum]        = maxR\n",
    "                        data['mean_rewards'][testNum]  = {tuple(mean_rewards)}\n",
    "                        data['max_rewards'][testNum]   = {tuple(max_rewards)}\n",
    "                        data['error'][testNum]         = {tuple(errors)}\n",
    "                        data['policy'][testNum]        = {test.policy}\n",
    "                        \n",
    "                        print('%.2f,\\t%.2f,\\t%.2f,\\t%d,\\t%f' % (g, a, time, iters, maxR))\n",
    "                        \n",
    "                        if showResults:\n",
    "                            pass\n",
    "                        \n",
    "                        testNum = testNum + 1\n",
    "            \n",
    "    # See differences in policy\n",
    "    policies = data['policy']\n",
    "    \n",
    "    '''\n",
    "    for i,p in enumerate(policies):\n",
    "        pol = list(p)[0]\n",
    "        steps, steps_stddev, failures = get_score(env, pol, showResults)\n",
    "        data['average_steps'][i] = steps\n",
    "        data['steps_stddev'][i]  = steps_stddev\n",
    "        data['success_pct'][i]   = 100-failures      \n",
    "    '''\n",
    "        \n",
    "    # replace all NaN's\n",
    "    data.fillna(0, inplace=True)\n",
    "    data.head()\n",
    "        \n",
    "    return data"
   ]
  },
  {
   "cell_type": "markdown",
   "metadata": {},
   "source": [
    "## Setup"
   ]
  },
  {
   "cell_type": "code",
   "execution_count": 83,
   "metadata": {
    "scrolled": true
   },
   "outputs": [
    {
     "name": "stdout",
     "output_type": "stream",
     "text": [
      "Gamma,\tAlpha,\tTime,\tIter,\tReward\n",
      "________________________________________________________________________________\n",
      "Test Num 1/108\n",
      "Gamma: 0.80,\tAlpha: 0.01,\tAlpha Decay:0.900,\tEpsilon Decay:0.900,\tIterations:100000\n",
      "0.80,\t0.01,\t5.03,\t100000,\t2.668032\n",
      "Test Num 2/108\n",
      "Gamma: 0.80,\tAlpha: 0.01,\tAlpha Decay:0.900,\tEpsilon Decay:0.900,\tIterations:1000000\n",
      "0.80,\t0.01,\t46.56,\t1000000,\t2.678451\n",
      "Test Num 3/108\n",
      "Gamma: 0.80,\tAlpha: 0.01,\tAlpha Decay:0.900,\tEpsilon Decay:0.900,\tIterations:10000000\n",
      "0.80,\t0.01,\t451.28,\t10000000,\t4.722792\n",
      "Test Num 4/108\n",
      "Gamma: 0.80,\tAlpha: 0.01,\tAlpha Decay:0.900,\tEpsilon Decay:0.999,\tIterations:100000\n",
      "0.80,\t0.01,\t5.02,\t100000,\t2.674275\n",
      "Test Num 5/108\n",
      "Gamma: 0.80,\tAlpha: 0.01,\tAlpha Decay:0.900,\tEpsilon Decay:0.999,\tIterations:1000000\n",
      "0.80,\t0.01,\t46.52,\t1000000,\t2.676825\n",
      "Test Num 6/108\n",
      "Gamma: 0.80,\tAlpha: 0.01,\tAlpha Decay:0.900,\tEpsilon Decay:0.999,\tIterations:10000000\n",
      "0.80,\t0.01,\t450.90,\t10000000,\t3.532889\n",
      "Test Num 7/108\n",
      "Gamma: 0.80,\tAlpha: 0.01,\tAlpha Decay:0.999,\tEpsilon Decay:0.900,\tIterations:100000\n",
      "0.80,\t0.01,\t5.07,\t100000,\t1.927248\n",
      "Test Num 8/108\n",
      "Gamma: 0.80,\tAlpha: 0.01,\tAlpha Decay:0.999,\tEpsilon Decay:0.900,\tIterations:1000000\n",
      "0.80,\t0.01,\t47.01,\t1000000,\t2.676748\n",
      "Test Num 9/108\n",
      "Gamma: 0.80,\tAlpha: 0.01,\tAlpha Decay:0.999,\tEpsilon Decay:0.900,\tIterations:10000000\n",
      "0.80,\t0.01,\t455.73,\t10000000,\t8.228531\n",
      "Test Num 10/108\n",
      "Gamma: 0.80,\tAlpha: 0.01,\tAlpha Decay:0.999,\tEpsilon Decay:0.999,\tIterations:100000\n",
      "0.80,\t0.01,\t5.03,\t100000,\t2.671313\n",
      "Test Num 11/108\n",
      "Gamma: 0.80,\tAlpha: 0.01,\tAlpha Decay:0.999,\tEpsilon Decay:0.999,\tIterations:1000000\n",
      "0.80,\t0.01,\t46.59,\t1000000,\t2.674197\n",
      "Test Num 12/108\n",
      "Gamma: 0.80,\tAlpha: 0.01,\tAlpha Decay:0.999,\tEpsilon Decay:0.999,\tIterations:10000000\n",
      "0.80,\t0.01,\t457.99,\t10000000,\t7.240985\n",
      "Test Num 13/108\n",
      "Gamma: 0.80,\tAlpha: 0.10,\tAlpha Decay:0.900,\tEpsilon Decay:0.900,\tIterations:100000\n",
      "0.80,\t0.10,\t5.01,\t100000,\t2.672328\n",
      "Test Num 14/108\n",
      "Gamma: 0.80,\tAlpha: 0.10,\tAlpha Decay:0.900,\tEpsilon Decay:0.900,\tIterations:1000000\n",
      "0.80,\t0.10,\t46.58,\t1000000,\t2.676523\n",
      "Test Num 15/108\n",
      "Gamma: 0.80,\tAlpha: 0.10,\tAlpha Decay:0.900,\tEpsilon Decay:0.900,\tIterations:10000000\n",
      "0.80,\t0.10,\t454.53,\t10000000,\t6.817335\n",
      "Test Num 16/108\n",
      "Gamma: 0.80,\tAlpha: 0.10,\tAlpha Decay:0.900,\tEpsilon Decay:0.999,\tIterations:100000\n",
      "0.80,\t0.10,\t5.02,\t100000,\t2.673911\n",
      "Test Num 17/108\n",
      "Gamma: 0.80,\tAlpha: 0.10,\tAlpha Decay:0.900,\tEpsilon Decay:0.999,\tIterations:1000000\n",
      "0.80,\t0.10,\t46.87,\t1000000,\t2.675137\n",
      "Test Num 18/108\n",
      "Gamma: 0.80,\tAlpha: 0.10,\tAlpha Decay:0.900,\tEpsilon Decay:0.999,\tIterations:10000000\n",
      "0.80,\t0.10,\t457.86,\t10000000,\t7.231750\n",
      "Test Num 19/108\n",
      "Gamma: 0.80,\tAlpha: 0.10,\tAlpha Decay:0.999,\tEpsilon Decay:0.900,\tIterations:100000\n",
      "0.80,\t0.10,\t4.96,\t100000,\t2.671708\n",
      "Test Num 20/108\n",
      "Gamma: 0.80,\tAlpha: 0.10,\tAlpha Decay:0.999,\tEpsilon Decay:0.900,\tIterations:1000000\n",
      "0.80,\t0.10,\t46.81,\t1000000,\t2.678963\n",
      "Test Num 21/108\n",
      "Gamma: 0.80,\tAlpha: 0.10,\tAlpha Decay:0.999,\tEpsilon Decay:0.900,\tIterations:10000000\n",
      "0.80,\t0.10,\t459.87,\t10000000,\t7.988826\n",
      "Test Num 22/108\n",
      "Gamma: 0.80,\tAlpha: 0.10,\tAlpha Decay:0.999,\tEpsilon Decay:0.999,\tIterations:100000\n",
      "0.80,\t0.10,\t5.02,\t100000,\t2.670840\n",
      "Test Num 23/108\n",
      "Gamma: 0.80,\tAlpha: 0.10,\tAlpha Decay:0.999,\tEpsilon Decay:0.999,\tIterations:1000000\n",
      "0.80,\t0.10,\t46.67,\t1000000,\t2.675535\n",
      "Test Num 24/108\n",
      "Gamma: 0.80,\tAlpha: 0.10,\tAlpha Decay:0.999,\tEpsilon Decay:0.999,\tIterations:10000000\n",
      "0.80,\t0.10,\t458.22,\t10000000,\t6.942662\n",
      "Test Num 25/108\n",
      "Gamma: 0.80,\tAlpha: 0.20,\tAlpha Decay:0.900,\tEpsilon Decay:0.900,\tIterations:100000\n",
      "0.80,\t0.20,\t5.04,\t100000,\t2.673060\n",
      "Test Num 26/108\n",
      "Gamma: 0.80,\tAlpha: 0.20,\tAlpha Decay:0.900,\tEpsilon Decay:0.900,\tIterations:1000000\n",
      "0.80,\t0.20,\t46.76,\t1000000,\t2.675968\n",
      "Test Num 27/108\n",
      "Gamma: 0.80,\tAlpha: 0.20,\tAlpha Decay:0.900,\tEpsilon Decay:0.900,\tIterations:10000000\n",
      "0.80,\t0.20,\t456.08,\t10000000,\t3.970185\n",
      "Test Num 28/108\n",
      "Gamma: 0.80,\tAlpha: 0.20,\tAlpha Decay:0.900,\tEpsilon Decay:0.999,\tIterations:100000\n",
      "0.80,\t0.20,\t5.00,\t100000,\t2.676219\n",
      "Test Num 29/108\n",
      "Gamma: 0.80,\tAlpha: 0.20,\tAlpha Decay:0.900,\tEpsilon Decay:0.999,\tIterations:1000000\n",
      "0.80,\t0.20,\t46.84,\t1000000,\t2.673838\n",
      "Test Num 30/108\n",
      "Gamma: 0.80,\tAlpha: 0.20,\tAlpha Decay:0.900,\tEpsilon Decay:0.999,\tIterations:10000000\n",
      "0.80,\t0.20,\t454.94,\t10000000,\t4.893677\n",
      "Test Num 31/108\n",
      "Gamma: 0.80,\tAlpha: 0.20,\tAlpha Decay:0.999,\tEpsilon Decay:0.900,\tIterations:100000\n",
      "0.80,\t0.20,\t5.06,\t100000,\t2.676534\n",
      "Test Num 32/108\n",
      "Gamma: 0.80,\tAlpha: 0.20,\tAlpha Decay:0.999,\tEpsilon Decay:0.900,\tIterations:1000000\n",
      "0.80,\t0.20,\t46.68,\t1000000,\t2.673508\n",
      "Test Num 33/108\n",
      "Gamma: 0.80,\tAlpha: 0.20,\tAlpha Decay:0.999,\tEpsilon Decay:0.900,\tIterations:10000000\n",
      "0.80,\t0.20,\t459.22,\t10000000,\t5.027665\n",
      "Test Num 34/108\n",
      "Gamma: 0.80,\tAlpha: 0.20,\tAlpha Decay:0.999,\tEpsilon Decay:0.999,\tIterations:100000\n",
      "0.80,\t0.20,\t5.09,\t100000,\t2.675527\n",
      "Test Num 35/108\n",
      "Gamma: 0.80,\tAlpha: 0.20,\tAlpha Decay:0.999,\tEpsilon Decay:0.999,\tIterations:1000000\n",
      "0.80,\t0.20,\t46.62,\t1000000,\t2.672203\n",
      "Test Num 36/108\n",
      "Gamma: 0.80,\tAlpha: 0.20,\tAlpha Decay:0.999,\tEpsilon Decay:0.999,\tIterations:10000000\n",
      "0.80,\t0.20,\t459.55,\t10000000,\t7.795126\n",
      "Test Num 37/108\n",
      "Gamma: 0.90,\tAlpha: 0.01,\tAlpha Decay:0.900,\tEpsilon Decay:0.900,\tIterations:100000\n",
      "0.90,\t0.01,\t5.06,\t100000,\t4.976208\n",
      "Test Num 38/108\n",
      "Gamma: 0.90,\tAlpha: 0.01,\tAlpha Decay:0.900,\tEpsilon Decay:0.900,\tIterations:1000000\n",
      "0.90,\t0.01,\t46.89,\t1000000,\t5.031307\n",
      "Test Num 39/108\n",
      "Gamma: 0.90,\tAlpha: 0.01,\tAlpha Decay:0.900,\tEpsilon Decay:0.900,\tIterations:10000000\n",
      "0.90,\t0.01,\t462.78,\t10000000,\t6.235686\n",
      "Test Num 40/108\n",
      "Gamma: 0.90,\tAlpha: 0.01,\tAlpha Decay:0.900,\tEpsilon Decay:0.999,\tIterations:100000\n",
      "0.90,\t0.01,\t5.00,\t100000,\t4.977100\n",
      "Test Num 41/108\n",
      "Gamma: 0.90,\tAlpha: 0.01,\tAlpha Decay:0.900,\tEpsilon Decay:0.999,\tIterations:1000000\n",
      "0.90,\t0.01,\t46.84,\t1000000,\t5.034930\n",
      "Test Num 42/108\n",
      "Gamma: 0.90,\tAlpha: 0.01,\tAlpha Decay:0.900,\tEpsilon Decay:0.999,\tIterations:10000000\n",
      "0.90,\t0.01,\t464.87,\t10000000,\t5.027381\n",
      "Test Num 43/108\n",
      "Gamma: 0.90,\tAlpha: 0.01,\tAlpha Decay:0.999,\tEpsilon Decay:0.900,\tIterations:100000\n",
      "0.90,\t0.01,\t5.05,\t100000,\t4.988530\n",
      "Test Num 44/108\n",
      "Gamma: 0.90,\tAlpha: 0.01,\tAlpha Decay:0.999,\tEpsilon Decay:0.900,\tIterations:1000000\n",
      "0.90,\t0.01,\t46.76,\t1000000,\t5.027049\n",
      "Test Num 45/108\n",
      "Gamma: 0.90,\tAlpha: 0.01,\tAlpha Decay:0.999,\tEpsilon Decay:0.900,\tIterations:10000000\n",
      "0.90,\t0.01,\t457.58,\t10000000,\t5.026428\n",
      "Test Num 46/108\n",
      "Gamma: 0.90,\tAlpha: 0.01,\tAlpha Decay:0.999,\tEpsilon Decay:0.999,\tIterations:100000\n",
      "0.90,\t0.01,\t5.02,\t100000,\t4.983461\n",
      "Test Num 47/108\n",
      "Gamma: 0.90,\tAlpha: 0.01,\tAlpha Decay:0.999,\tEpsilon Decay:0.999,\tIterations:1000000\n",
      "0.90,\t0.01,\t46.99,\t1000000,\t5.023885\n",
      "Test Num 48/108\n",
      "Gamma: 0.90,\tAlpha: 0.01,\tAlpha Decay:0.999,\tEpsilon Decay:0.999,\tIterations:10000000\n",
      "0.90,\t0.01,\t460.35,\t10000000,\t6.832762\n",
      "Test Num 49/108\n",
      "Gamma: 0.90,\tAlpha: 0.10,\tAlpha Decay:0.900,\tEpsilon Decay:0.900,\tIterations:100000\n",
      "0.90,\t0.10,\t5.06,\t100000,\t4.971292\n",
      "Test Num 50/108\n",
      "Gamma: 0.90,\tAlpha: 0.10,\tAlpha Decay:0.900,\tEpsilon Decay:0.900,\tIterations:1000000\n",
      "0.90,\t0.10,\t46.74,\t1000000,\t5.036063\n",
      "Test Num 51/108\n",
      "Gamma: 0.90,\tAlpha: 0.10,\tAlpha Decay:0.900,\tEpsilon Decay:0.900,\tIterations:10000000\n",
      "0.90,\t0.10,\t458.53,\t10000000,\t5.036524\n",
      "Test Num 52/108\n",
      "Gamma: 0.90,\tAlpha: 0.10,\tAlpha Decay:0.900,\tEpsilon Decay:0.999,\tIterations:100000\n",
      "0.90,\t0.10,\t4.97,\t100000,\t4.982517\n",
      "Test Num 53/108\n",
      "Gamma: 0.90,\tAlpha: 0.10,\tAlpha Decay:0.900,\tEpsilon Decay:0.999,\tIterations:1000000\n",
      "0.90,\t0.10,\t46.64,\t1000000,\t5.030791\n",
      "Test Num 54/108\n",
      "Gamma: 0.90,\tAlpha: 0.10,\tAlpha Decay:0.900,\tEpsilon Decay:0.999,\tIterations:10000000\n",
      "0.90,\t0.10,\t461.31,\t10000000,\t5.026350\n",
      "Test Num 55/108\n",
      "Gamma: 0.90,\tAlpha: 0.10,\tAlpha Decay:0.999,\tEpsilon Decay:0.900,\tIterations:100000\n",
      "0.90,\t0.10,\t5.05,\t100000,\t5.023985\n",
      "Test Num 56/108\n",
      "Gamma: 0.90,\tAlpha: 0.10,\tAlpha Decay:0.999,\tEpsilon Decay:0.900,\tIterations:1000000\n",
      "0.90,\t0.10,\t46.99,\t1000000,\t5.030374\n",
      "Test Num 57/108\n",
      "Gamma: 0.90,\tAlpha: 0.10,\tAlpha Decay:0.999,\tEpsilon Decay:0.900,\tIterations:10000000\n",
      "0.90,\t0.10,\t465.92,\t10000000,\t5.028245\n",
      "Test Num 58/108\n",
      "Gamma: 0.90,\tAlpha: 0.10,\tAlpha Decay:0.999,\tEpsilon Decay:0.999,\tIterations:100000\n",
      "0.90,\t0.10,\t5.01,\t100000,\t5.024499\n",
      "Test Num 59/108\n",
      "Gamma: 0.90,\tAlpha: 0.10,\tAlpha Decay:0.999,\tEpsilon Decay:0.999,\tIterations:1000000\n"
     ]
    },
    {
     "name": "stdout",
     "output_type": "stream",
     "text": [
      "0.90,\t0.10,\t46.81,\t1000000,\t5.024306\n",
      "Test Num 60/108\n",
      "Gamma: 0.90,\tAlpha: 0.10,\tAlpha Decay:0.999,\tEpsilon Decay:0.999,\tIterations:10000000\n",
      "0.90,\t0.10,\t460.40,\t10000000,\t5.026743\n",
      "Test Num 61/108\n",
      "Gamma: 0.90,\tAlpha: 0.20,\tAlpha Decay:0.900,\tEpsilon Decay:0.900,\tIterations:100000\n",
      "0.90,\t0.20,\t5.02,\t100000,\t4.985333\n",
      "Test Num 62/108\n",
      "Gamma: 0.90,\tAlpha: 0.20,\tAlpha Decay:0.900,\tEpsilon Decay:0.900,\tIterations:1000000\n",
      "0.90,\t0.20,\t46.94,\t1000000,\t5.025373\n",
      "Test Num 63/108\n",
      "Gamma: 0.90,\tAlpha: 0.20,\tAlpha Decay:0.900,\tEpsilon Decay:0.900,\tIterations:10000000\n",
      "0.90,\t0.20,\t465.29,\t10000000,\t7.726936\n",
      "Test Num 64/108\n",
      "Gamma: 0.90,\tAlpha: 0.20,\tAlpha Decay:0.900,\tEpsilon Decay:0.999,\tIterations:100000\n",
      "0.90,\t0.20,\t5.01,\t100000,\t4.970744\n",
      "Test Num 65/108\n",
      "Gamma: 0.90,\tAlpha: 0.20,\tAlpha Decay:0.900,\tEpsilon Decay:0.999,\tIterations:1000000\n",
      "0.90,\t0.20,\t48.22,\t1000000,\t5.030004\n",
      "Test Num 66/108\n",
      "Gamma: 0.90,\tAlpha: 0.20,\tAlpha Decay:0.900,\tEpsilon Decay:0.999,\tIterations:10000000\n",
      "0.90,\t0.20,\t481.34,\t10000000,\t7.733554\n",
      "Test Num 67/108\n",
      "Gamma: 0.90,\tAlpha: 0.20,\tAlpha Decay:0.999,\tEpsilon Decay:0.900,\tIterations:100000\n",
      "0.90,\t0.20,\t5.00,\t100000,\t5.023378\n",
      "Test Num 68/108\n",
      "Gamma: 0.90,\tAlpha: 0.20,\tAlpha Decay:0.999,\tEpsilon Decay:0.900,\tIterations:1000000\n",
      "0.90,\t0.20,\t48.11,\t1000000,\t5.021893\n",
      "Test Num 69/108\n",
      "Gamma: 0.90,\tAlpha: 0.20,\tAlpha Decay:0.999,\tEpsilon Decay:0.900,\tIterations:10000000\n",
      "0.90,\t0.20,\t488.05,\t10000000,\t7.480109\n",
      "Test Num 70/108\n",
      "Gamma: 0.90,\tAlpha: 0.20,\tAlpha Decay:0.999,\tEpsilon Decay:0.999,\tIterations:100000\n",
      "0.90,\t0.20,\t5.26,\t100000,\t5.037194\n",
      "Test Num 71/108\n",
      "Gamma: 0.90,\tAlpha: 0.20,\tAlpha Decay:0.999,\tEpsilon Decay:0.999,\tIterations:1000000\n",
      "0.90,\t0.20,\t49.27,\t1000000,\t5.030913\n",
      "Test Num 72/108\n",
      "Gamma: 0.90,\tAlpha: 0.20,\tAlpha Decay:0.999,\tEpsilon Decay:0.999,\tIterations:10000000\n",
      "0.90,\t0.20,\t492.81,\t10000000,\t9.715103\n",
      "Test Num 73/108\n",
      "Gamma: 0.99,\tAlpha: 0.01,\tAlpha Decay:0.900,\tEpsilon Decay:0.900,\tIterations:100000\n",
      "0.99,\t0.01,\t5.27,\t100000,\t17.301609\n",
      "Test Num 74/108\n",
      "Gamma: 0.99,\tAlpha: 0.01,\tAlpha Decay:0.900,\tEpsilon Decay:0.900,\tIterations:1000000\n",
      "0.99,\t0.01,\t48.78,\t1000000,\t47.173414\n",
      "Test Num 75/108\n",
      "Gamma: 0.99,\tAlpha: 0.01,\tAlpha Decay:0.900,\tEpsilon Decay:0.900,\tIterations:10000000\n",
      "0.99,\t0.01,\t491.17,\t10000000,\t47.646568\n",
      "Test Num 76/108\n",
      "Gamma: 0.99,\tAlpha: 0.01,\tAlpha Decay:0.900,\tEpsilon Decay:0.999,\tIterations:100000\n",
      "0.99,\t0.01,\t5.44,\t100000,\t17.180958\n",
      "Test Num 77/108\n",
      "Gamma: 0.99,\tAlpha: 0.01,\tAlpha Decay:0.900,\tEpsilon Decay:0.999,\tIterations:1000000\n",
      "0.99,\t0.01,\t49.92,\t1000000,\t47.135867\n",
      "Test Num 78/108\n",
      "Gamma: 0.99,\tAlpha: 0.01,\tAlpha Decay:0.900,\tEpsilon Decay:0.999,\tIterations:10000000\n",
      "0.99,\t0.01,\t495.25,\t10000000,\t47.679443\n",
      "Test Num 79/108\n",
      "Gamma: 0.99,\tAlpha: 0.01,\tAlpha Decay:0.999,\tEpsilon Decay:0.900,\tIterations:100000\n",
      "0.99,\t0.01,\t5.47,\t100000,\t8.430554\n",
      "Test Num 80/108\n",
      "Gamma: 0.99,\tAlpha: 0.01,\tAlpha Decay:0.999,\tEpsilon Decay:0.900,\tIterations:1000000\n",
      "0.99,\t0.01,\t49.88,\t1000000,\t33.279831\n",
      "Test Num 81/108\n",
      "Gamma: 0.99,\tAlpha: 0.01,\tAlpha Decay:0.999,\tEpsilon Decay:0.900,\tIterations:10000000\n",
      "0.99,\t0.01,\t493.58,\t10000000,\t47.644584\n",
      "Test Num 82/108\n",
      "Gamma: 0.99,\tAlpha: 0.01,\tAlpha Decay:0.999,\tEpsilon Decay:0.999,\tIterations:100000\n",
      "0.99,\t0.01,\t5.27,\t100000,\t17.806107\n",
      "Test Num 83/108\n",
      "Gamma: 0.99,\tAlpha: 0.01,\tAlpha Decay:0.999,\tEpsilon Decay:0.999,\tIterations:1000000\n",
      "0.99,\t0.01,\t49.28,\t1000000,\t47.187393\n",
      "Test Num 84/108\n",
      "Gamma: 0.99,\tAlpha: 0.01,\tAlpha Decay:0.999,\tEpsilon Decay:0.999,\tIterations:10000000\n",
      "0.99,\t0.01,\t504.61,\t10000000,\t47.633758\n",
      "Test Num 85/108\n",
      "Gamma: 0.99,\tAlpha: 0.10,\tAlpha Decay:0.900,\tEpsilon Decay:0.900,\tIterations:100000\n",
      "0.99,\t0.10,\t5.40,\t100000,\t17.365691\n",
      "Test Num 86/108\n",
      "Gamma: 0.99,\tAlpha: 0.10,\tAlpha Decay:0.900,\tEpsilon Decay:0.900,\tIterations:1000000\n",
      "0.99,\t0.10,\t49.66,\t1000000,\t47.162315\n",
      "Test Num 87/108\n",
      "Gamma: 0.99,\tAlpha: 0.10,\tAlpha Decay:0.900,\tEpsilon Decay:0.900,\tIterations:10000000\n",
      "0.99,\t0.10,\t488.85,\t10000000,\t47.646232\n",
      "Test Num 88/108\n",
      "Gamma: 0.99,\tAlpha: 0.10,\tAlpha Decay:0.900,\tEpsilon Decay:0.999,\tIterations:100000\n",
      "0.99,\t0.10,\t5.53,\t100000,\t17.304453\n",
      "Test Num 89/108\n",
      "Gamma: 0.99,\tAlpha: 0.10,\tAlpha Decay:0.900,\tEpsilon Decay:0.999,\tIterations:1000000\n",
      "0.99,\t0.10,\t48.44,\t1000000,\t47.154984\n",
      "Test Num 90/108\n",
      "Gamma: 0.99,\tAlpha: 0.10,\tAlpha Decay:0.900,\tEpsilon Decay:0.999,\tIterations:10000000\n",
      "0.99,\t0.10,\t458.69,\t10000000,\t47.643888\n",
      "Test Num 91/108\n",
      "Gamma: 0.99,\tAlpha: 0.10,\tAlpha Decay:0.999,\tEpsilon Decay:0.900,\tIterations:100000\n",
      "0.99,\t0.10,\t5.01,\t100000,\t27.546214\n",
      "Test Num 92/108\n",
      "Gamma: 0.99,\tAlpha: 0.10,\tAlpha Decay:0.999,\tEpsilon Decay:0.900,\tIterations:1000000\n",
      "0.99,\t0.10,\t48.77,\t1000000,\t38.047537\n",
      "Test Num 93/108\n",
      "Gamma: 0.99,\tAlpha: 0.10,\tAlpha Decay:0.999,\tEpsilon Decay:0.900,\tIterations:10000000\n",
      "0.99,\t0.10,\t469.08,\t10000000,\t47.633677\n",
      "Test Num 94/108\n",
      "Gamma: 0.99,\tAlpha: 0.10,\tAlpha Decay:0.999,\tEpsilon Decay:0.999,\tIterations:100000\n",
      "0.99,\t0.10,\t5.00,\t100000,\t25.409029\n",
      "Test Num 95/108\n",
      "Gamma: 0.99,\tAlpha: 0.10,\tAlpha Decay:0.999,\tEpsilon Decay:0.999,\tIterations:1000000\n",
      "0.99,\t0.10,\t46.95,\t1000000,\t47.293085\n",
      "Test Num 96/108\n",
      "Gamma: 0.99,\tAlpha: 0.10,\tAlpha Decay:0.999,\tEpsilon Decay:0.999,\tIterations:10000000\n",
      "0.99,\t0.10,\t465.53,\t10000000,\t47.635667\n",
      "Test Num 97/108\n",
      "Gamma: 0.99,\tAlpha: 0.20,\tAlpha Decay:0.900,\tEpsilon Decay:0.900,\tIterations:100000\n",
      "0.99,\t0.20,\t5.09,\t100000,\t17.391176\n",
      "Test Num 98/108\n",
      "Gamma: 0.99,\tAlpha: 0.20,\tAlpha Decay:0.900,\tEpsilon Decay:0.900,\tIterations:1000000\n",
      "0.99,\t0.20,\t47.05,\t1000000,\t47.159355\n",
      "Test Num 99/108\n",
      "Gamma: 0.99,\tAlpha: 0.20,\tAlpha Decay:0.900,\tEpsilon Decay:0.900,\tIterations:10000000\n",
      "0.99,\t0.20,\t468.16,\t10000000,\t47.662567\n",
      "Test Num 100/108\n",
      "Gamma: 0.99,\tAlpha: 0.20,\tAlpha Decay:0.900,\tEpsilon Decay:0.999,\tIterations:100000\n",
      "0.99,\t0.20,\t5.01,\t100000,\t17.286226\n",
      "Test Num 101/108\n",
      "Gamma: 0.99,\tAlpha: 0.20,\tAlpha Decay:0.900,\tEpsilon Decay:0.999,\tIterations:1000000\n",
      "0.99,\t0.20,\t46.54,\t1000000,\t47.125691\n",
      "Test Num 102/108\n",
      "Gamma: 0.99,\tAlpha: 0.20,\tAlpha Decay:0.900,\tEpsilon Decay:0.999,\tIterations:10000000\n",
      "0.99,\t0.20,\t460.17,\t10000000,\t47.649891\n",
      "Test Num 103/108\n",
      "Gamma: 0.99,\tAlpha: 0.20,\tAlpha Decay:0.999,\tEpsilon Decay:0.900,\tIterations:100000\n",
      "0.99,\t0.20,\t5.02,\t100000,\t34.671048\n",
      "Test Num 104/108\n",
      "Gamma: 0.99,\tAlpha: 0.20,\tAlpha Decay:0.999,\tEpsilon Decay:0.900,\tIterations:1000000\n",
      "0.99,\t0.20,\t46.75,\t1000000,\t47.440933\n",
      "Test Num 105/108\n",
      "Gamma: 0.99,\tAlpha: 0.20,\tAlpha Decay:0.999,\tEpsilon Decay:0.900,\tIterations:10000000\n",
      "0.99,\t0.20,\t469.35,\t10000000,\t47.654502\n",
      "Test Num 106/108\n",
      "Gamma: 0.99,\tAlpha: 0.20,\tAlpha Decay:0.999,\tEpsilon Decay:0.999,\tIterations:100000\n",
      "0.99,\t0.20,\t5.16,\t100000,\t31.034814\n",
      "Test Num 107/108\n",
      "Gamma: 0.99,\tAlpha: 0.20,\tAlpha Decay:0.999,\tEpsilon Decay:0.999,\tIterations:1000000\n",
      "0.99,\t0.20,\t48.45,\t1000000,\t47.383779\n",
      "Test Num 108/108\n",
      "Gamma: 0.99,\tAlpha: 0.20,\tAlpha Decay:0.999,\tEpsilon Decay:0.999,\tIterations:10000000\n",
      "0.99,\t0.20,\t484.70,\t10000000,\t47.631773\n"
     ]
    },
    {
     "data": {
      "text/html": [
       "<div>\n",
       "<style scoped>\n",
       "    .dataframe tbody tr th:only-of-type {\n",
       "        vertical-align: middle;\n",
       "    }\n",
       "\n",
       "    .dataframe tbody tr th {\n",
       "        vertical-align: top;\n",
       "    }\n",
       "\n",
       "    .dataframe thead th {\n",
       "        text-align: right;\n",
       "    }\n",
       "</style>\n",
       "<table border=\"1\" class=\"dataframe\">\n",
       "  <thead>\n",
       "    <tr style=\"text-align: right;\">\n",
       "      <th></th>\n",
       "      <th>gamma</th>\n",
       "      <th>alpha</th>\n",
       "      <th>alpha_decay</th>\n",
       "      <th>epsilon_decay</th>\n",
       "      <th>iterations</th>\n",
       "      <th>time</th>\n",
       "      <th>reward</th>\n",
       "      <th>average_steps</th>\n",
       "      <th>steps_stddev</th>\n",
       "      <th>success_pct</th>\n",
       "      <th>policy</th>\n",
       "      <th>mean_rewards</th>\n",
       "      <th>max_rewards</th>\n",
       "      <th>error</th>\n",
       "    </tr>\n",
       "  </thead>\n",
       "  <tbody>\n",
       "    <tr>\n",
       "      <th>0</th>\n",
       "      <td>0.8</td>\n",
       "      <td>0.01</td>\n",
       "      <td>0.9</td>\n",
       "      <td>0.900</td>\n",
       "      <td>100000.0</td>\n",
       "      <td>5.031898</td>\n",
       "      <td>2.668032</td>\n",
       "      <td>0.0</td>\n",
       "      <td>0.0</td>\n",
       "      <td>0.0</td>\n",
       "      <td>{(0, 1, 1, 1, 0, 0, 0, 1, 1, 1, 0, 0, 0, 1, 0,...</td>\n",
       "      <td>{(1.6e-05, 1.6e-05, 1.6e-05, 1.6e-05, 1.6e-05,...</td>\n",
       "      <td>{(0.01, 0.01, 0.01, 0.01, 0.01, 0.01, 0.01, 0....</td>\n",
       "      <td>{(0.0, 0.0, 0.0, 0.0, 0.0, 0.0, 0.0, 0.0, 6.38...</td>\n",
       "    </tr>\n",
       "    <tr>\n",
       "      <th>1</th>\n",
       "      <td>0.8</td>\n",
       "      <td>0.01</td>\n",
       "      <td>0.9</td>\n",
       "      <td>0.900</td>\n",
       "      <td>1000000.0</td>\n",
       "      <td>46.560156</td>\n",
       "      <td>2.678451</td>\n",
       "      <td>0.0</td>\n",
       "      <td>0.0</td>\n",
       "      <td>0.0</td>\n",
       "      <td>{(0, 1, 1, 1, 1, 1, 0, 1, 0, 1, 1, 0, 1, 1, 1,...</td>\n",
       "      <td>{(8.236472286496183e-05, 0.0001382634139595224...</td>\n",
       "      <td>{(0.033134426034374304, 0.04753641996650868, 0...</td>\n",
       "      <td>{(0.0, 0.0, 0.0, 0.0, 0.0, 9.361986065990639e-...</td>\n",
       "    </tr>\n",
       "    <tr>\n",
       "      <th>2</th>\n",
       "      <td>0.8</td>\n",
       "      <td>0.01</td>\n",
       "      <td>0.9</td>\n",
       "      <td>0.900</td>\n",
       "      <td>10000000.0</td>\n",
       "      <td>451.275376</td>\n",
       "      <td>4.722792</td>\n",
       "      <td>0.0</td>\n",
       "      <td>0.0</td>\n",
       "      <td>0.0</td>\n",
       "      <td>{(0, 1, 1, 1, 1, 1, 0, 1, 1, 1, 0, 0, 0, 1, 1,...</td>\n",
       "      <td>{(0.000584208440679025, 0.0011847944937786723,...</td>\n",
       "      <td>{(0.26625076453995544, 0.5170525734711292, 0.7...</td>\n",
       "      <td>{(0.0010189230081535546, 0.0, 0.0, 0.0, 2.5474...</td>\n",
       "    </tr>\n",
       "    <tr>\n",
       "      <th>3</th>\n",
       "      <td>0.8</td>\n",
       "      <td>0.01</td>\n",
       "      <td>0.9</td>\n",
       "      <td>0.999</td>\n",
       "      <td>100000.0</td>\n",
       "      <td>5.017631</td>\n",
       "      <td>2.674275</td>\n",
       "      <td>0.0</td>\n",
       "      <td>0.0</td>\n",
       "      <td>0.0</td>\n",
       "      <td>{(0, 1, 1, 1, 1, 1, 0, 1, 1, 0, 0, 0, 0, 1, 0,...</td>\n",
       "      <td>{(3.619341006490812e-05, 4.442842816290353e-05...</td>\n",
       "      <td>{(0.01, 0.010435820534575587, 0.01340168829287...</td>\n",
       "      <td>{(1.6471290567571935e-05, 7.878167217468897e-0...</td>\n",
       "    </tr>\n",
       "    <tr>\n",
       "      <th>4</th>\n",
       "      <td>0.8</td>\n",
       "      <td>0.01</td>\n",
       "      <td>0.9</td>\n",
       "      <td>0.999</td>\n",
       "      <td>1000000.0</td>\n",
       "      <td>46.515526</td>\n",
       "      <td>2.676825</td>\n",
       "      <td>0.0</td>\n",
       "      <td>0.0</td>\n",
       "      <td>0.0</td>\n",
       "      <td>{(0, 1, 1, 1, 1, 1, 1, 0, 1, 1, 0, 1, 1, 1, 1,...</td>\n",
       "      <td>{(6.303303328198855e-05, 0.0001079622392218077...</td>\n",
       "      <td>{(0.0148288765186204, 0.030479044905281055, 0....</td>\n",
       "      <td>{(0.0, 0.001000546223763191, 0.001001068084960...</td>\n",
       "    </tr>\n",
       "  </tbody>\n",
       "</table>\n",
       "</div>"
      ],
      "text/plain": [
       "   gamma  alpha  alpha_decay  epsilon_decay  iterations        time    reward  \\\n",
       "0    0.8   0.01          0.9          0.900    100000.0    5.031898  2.668032   \n",
       "1    0.8   0.01          0.9          0.900   1000000.0   46.560156  2.678451   \n",
       "2    0.8   0.01          0.9          0.900  10000000.0  451.275376  4.722792   \n",
       "3    0.8   0.01          0.9          0.999    100000.0    5.017631  2.674275   \n",
       "4    0.8   0.01          0.9          0.999   1000000.0   46.515526  2.676825   \n",
       "\n",
       "   average_steps  steps_stddev  success_pct  \\\n",
       "0            0.0           0.0          0.0   \n",
       "1            0.0           0.0          0.0   \n",
       "2            0.0           0.0          0.0   \n",
       "3            0.0           0.0          0.0   \n",
       "4            0.0           0.0          0.0   \n",
       "\n",
       "                                              policy  \\\n",
       "0  {(0, 1, 1, 1, 0, 0, 0, 1, 1, 1, 0, 0, 0, 1, 0,...   \n",
       "1  {(0, 1, 1, 1, 1, 1, 0, 1, 0, 1, 1, 0, 1, 1, 1,...   \n",
       "2  {(0, 1, 1, 1, 1, 1, 0, 1, 1, 1, 0, 0, 0, 1, 1,...   \n",
       "3  {(0, 1, 1, 1, 1, 1, 0, 1, 1, 0, 0, 0, 0, 1, 0,...   \n",
       "4  {(0, 1, 1, 1, 1, 1, 1, 0, 1, 1, 0, 1, 1, 1, 1,...   \n",
       "\n",
       "                                        mean_rewards  \\\n",
       "0  {(1.6e-05, 1.6e-05, 1.6e-05, 1.6e-05, 1.6e-05,...   \n",
       "1  {(8.236472286496183e-05, 0.0001382634139595224...   \n",
       "2  {(0.000584208440679025, 0.0011847944937786723,...   \n",
       "3  {(3.619341006490812e-05, 4.442842816290353e-05...   \n",
       "4  {(6.303303328198855e-05, 0.0001079622392218077...   \n",
       "\n",
       "                                         max_rewards  \\\n",
       "0  {(0.01, 0.01, 0.01, 0.01, 0.01, 0.01, 0.01, 0....   \n",
       "1  {(0.033134426034374304, 0.04753641996650868, 0...   \n",
       "2  {(0.26625076453995544, 0.5170525734711292, 0.7...   \n",
       "3  {(0.01, 0.010435820534575587, 0.01340168829287...   \n",
       "4  {(0.0148288765186204, 0.030479044905281055, 0....   \n",
       "\n",
       "                                               error  \n",
       "0  {(0.0, 0.0, 0.0, 0.0, 0.0, 0.0, 0.0, 0.0, 6.38...  \n",
       "1  {(0.0, 0.0, 0.0, 0.0, 0.0, 9.361986065990639e-...  \n",
       "2  {(0.0010189230081535546, 0.0, 0.0, 0.0, 2.5474...  \n",
       "3  {(1.6471290567571935e-05, 7.878167217468897e-0...  \n",
       "4  {(0.0, 0.001000546223763191, 0.001001068084960...  "
      ]
     },
     "execution_count": 83,
     "metadata": {},
     "output_type": "execute_result"
    }
   ],
   "source": [
    "gammas         = [0.8, 0.9, 0.99]\n",
    "alphas         = [0.01, 0.1, 0.2]\n",
    "alpha_decays   = [0.9, 0.999]\n",
    "epsilon_decays = [0.9, 0.999]\n",
    "iterations     = [1e5, 1e6, 1e7]\n",
    "\n",
    "''' PROCEED WITH CAUTION >>>> THIS WILL OVERWRITE DATA AND TAKE HOURS'''\n",
    "\n",
    "ql_data  = qLearning(T, R, gammas, alphas, alpha_decays=alpha_decays, epsilon_decays=epsilon_decays, n_iterations=iterations, showResults=False)\n",
    "\n",
    "# write all results to csv file\n",
    "csvFile = 'forest/QL_results.csv'\n",
    "ql_data.to_csv(csvFile)\n",
    "\n",
    "''''''\n",
    "\n",
    "ql_data.head()"
   ]
  },
  {
   "cell_type": "code",
   "execution_count": null,
   "metadata": {},
   "outputs": [],
   "source": [
    "# Read in Q-Learning data\n",
    "ql_data = pd.read_csv('forest/QL_results.csv')\n",
    "ql_data.head()"
   ]
  },
  {
   "cell_type": "code",
   "execution_count": 93,
   "metadata": {},
   "outputs": [],
   "source": [
    "# Look at correlation matrix\n",
    "interest = ['gamma', 'alpha', 'alpha_decay', 'epsilon_decay', 'iterations', 'reward', 'time']\n",
    "\n",
    "# pick out hyperparameters and how succesful they were\n",
    "df = ql_data[interest]\n",
    "\n",
    "# See what affected the success_pct the most\n",
    "ql_corr = df.corr()"
   ]
  },
  {
   "cell_type": "markdown",
   "metadata": {},
   "source": [
    "## Plots"
   ]
  },
  {
   "cell_type": "code",
   "execution_count": 94,
   "metadata": {},
   "outputs": [
    {
     "data": {
      "text/plain": [
       "<matplotlib.axes._subplots.AxesSubplot at 0x7fd428384d50>"
      ]
     },
     "execution_count": 94,
     "metadata": {},
     "output_type": "execute_result"
    },
    {
     "data": {
      "image/png": "[encoded data removed]",
      "text/plain": [
       "<Figure size 576x504 with 2 Axes>"
      ]
     },
     "metadata": {},
     "output_type": "display_data"
    }
   ],
   "source": [
    "# Create heatmap of correlation matrix\n",
    "sns.set(style=\"white\")\n",
    "fig, ax = plt.subplots(figsize=(8,7))\n",
    "ax.set_title('Correlation Matrix of Q-Learning Parameters', fontsize=20)\n",
    "mask = np.triu(np.ones_like(ql_corr, dtype=np.bool))\n",
    "cmap = sns.diverging_palette(255, 0, as_cmap=True)\n",
    "sns.heatmap(ql_corr, mask=mask, cmap=cmap, square=True, linewidths=0.5, cbar_kws={\"shrink\":.75})"
   ]
  },
  {
   "cell_type": "code",
   "execution_count": 95,
   "metadata": {},
   "outputs": [],
   "source": [
    "def plot_QL(dependent, independent, title=None, logscale=False):\n",
    "    if dependent not in interest:\n",
    "        print('Dependent variable not available')\n",
    "        return\n",
    "    if independent not in interest:\n",
    "        print('Independent variable not available')\n",
    "        return\n",
    "    \n",
    "    x = np.unique(df[dependent])\n",
    "    y = []\n",
    "    \n",
    "    for i in x:\n",
    "        y.append(df.loc[df[dependent] == i][independent].mean())\n",
    "        \n",
    "    fig = plt.figure(figsize=(6,4))\n",
    "    plt.plot(x, y, 'o-')\n",
    "    \n",
    "    if title == None:\n",
    "        title = independent + ' vs. ' + dependent\n",
    "    plt.title(title, fontsize=15)\n",
    "    plt.xlabel(dependent)\n",
    "    plt.ylabel(independent)\n",
    "    plt.grid(True)\n",
    "    if logscale:\n",
    "        plt.xscale('log')\n",
    "    \n",
    "    title='QL_' + independent + '_vs_' + dependent\n",
    "    plt.savefig('./forest/' + title + '.png', dpi=400)"
   ]
  },
  {
   "cell_type": "code",
   "execution_count": 97,
   "metadata": {},
   "outputs": [
    {
     "data": {
      "image/png": "[encoded data removed]",
      "text/plain": [
       "<Figure size 432x288 with 1 Axes>"
      ]
     },
     "metadata": {},
     "output_type": "display_data"
    },
    {
     "data": {
      "image/png": "[encoded data removed]",
      "text/plain": [
       "<Figure size 432x288 with 1 Axes>"
      ]
     },
     "metadata": {},
     "output_type": "display_data"
    },
    {
     "data": {
      "image/png": "[encoded data removed]",
      "text/plain": [
       "<Figure size 432x288 with 1 Axes>"
      ]
     },
     "metadata": {},
     "output_type": "display_data"
    },
    {
     "data": {
      "image/png": "[encoded data removed]",
      "text/plain": [
       "<Figure size 432x288 with 1 Axes>"
      ]
     },
     "metadata": {},
     "output_type": "display_data"
    }
   ],
   "source": [
    "# Plot time vs. Iterations\n",
    "plot_QL('iterations', 'time', title='Mean Time Taken vs. Iterations', logscale=True)\n",
    "\n",
    "plot_QL('iterations', 'reward', title='Mean Reward vs. Iterations', logscale=True)\n",
    "\n",
    "# Plot alpha decay vs success pct\n",
    "plot_QL('alpha_decay', 'reward', title='Mean Reward vs. Alpha Decay')\n",
    "\n",
    "# Plot results vs. gamma\n",
    "plot_QL('gamma', 'reward', title='Mean Reward vs. Gamma')"
   ]
  },
  {
   "cell_type": "markdown",
   "metadata": {},
   "source": [
    "## Results"
   ]
  },
  {
   "cell_type": "code",
   "execution_count": 90,
   "metadata": {},
   "outputs": [
    {
     "name": "stdout",
     "output_type": "stream",
     "text": [
      "Best Result:\n",
      "\tReward = 47.68\n",
      "\tGamma = 0.99,\n",
      "\tAlpha = 0.01,\n",
      "\tAlpha Decay: 0.900,\n",
      "\tEpsilon Decay: 0.999,\n",
      "\tIterations: 1.0E+07\n"
     ]
    },
    {
     "data": {
      "image/png": "[encoded data removed]",
      "text/plain": [
       "<Figure size 720x720 with 1 Axes>"
      ]
     },
     "metadata": {},
     "output_type": "display_data"
    }
   ],
   "source": [
    "# Plot most successful gamma\n",
    "\n",
    "# find the score with the highest success percentage and get its policy\n",
    "bestRun = ql_data['reward'].argmax()\n",
    "\n",
    "best_policy = ql_data['policy'][bestRun]\n",
    "\n",
    "# reshape the policy since we pulled from a csv file\n",
    "#best_policy = best_policy[1:-1]\n",
    "#best_policy = eval(best_policy)\n",
    "#best_policy = np.array(best_policy)\n",
    "#best_policy = best_policy.reshape(rows, cols)\n",
    "\n",
    "# plot the policy\n",
    "title='Frozen Lake QL Optimal Policy'\n",
    "plot_forest(best_policy, title)\n",
    "\n",
    "print('Best Result:\\n\\tReward = %.2f\\n\\tGamma = %.2f,\\n\\tAlpha = %.2f,\\n\\tAlpha Decay: %.3f,\\n\\tEpsilon Decay: %.3f,\\n\\tIterations: %.1E' \n",
    "      % (ql_data['reward'].max(), ql_data['gamma'][bestRun], ql_data['alpha'][bestRun], ql_data['alpha_decay'][bestRun], ql_data['epsilon_decay'][bestRun], ql_data['iterations'][bestRun]))"
   ]
  }
 ],
 "metadata": {
  "kernelspec": {
   "display_name": "Python 3",
   "language": "python",
   "name": "python3"
  },
  "language_info": {
   "codemirror_mode": {
    "name": "ipython",
    "version": 3
   },
   "file_extension": ".py",
   "mimetype": "text/x-python",
   "name": "python",
   "nbconvert_exporter": "python",
   "pygments_lexer": "ipython3",
   "version": "3.7.6"
  }
 },
 "nbformat": 4,
 "nbformat_minor": 2
}
