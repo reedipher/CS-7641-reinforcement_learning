{
 "cells": [
  {
   "cell_type": "markdown",
   "metadata": {},
   "source": [
    "# Common\n",
    "## Imports"
   ]
  },
  {
   "cell_type": "code",
   "execution_count": 1,
   "metadata": {},
   "outputs": [
    {
     "name": "stdout",
     "output_type": "stream",
     "text": [
      "3.7.6\n"
     ]
    }
   ],
   "source": [
    "from platform import python_version\n",
    "\n",
    "print(python_version())"
   ]
  },
  {
   "cell_type": "code",
   "execution_count": 35,
   "metadata": {},
   "outputs": [],
   "source": [
    "import gym\n",
    "\n",
    "import hiive.mdptoolbox as mdptoolbox\n",
    "from hiive.mdptoolbox.mdp import ValueIteration, PolicyIteration, QLearning\n",
    "\n",
    "import numpy as np\n",
    "import pandas as pd\n",
    "import matplotlib.pyplot as plt\n",
    "import seaborn as sns\n",
    "from time import time\n",
    "\n",
    "from IPython.display import clear_output, display\n",
    "\n",
    "# suppress pandas warning\n",
    "pd.options.mode.chained_assignment = None\n",
    "\n",
    "# set seed\n",
    "np.random.seed(0)\n",
    "\n",
    "%matplotlib inline"
   ]
  },
  {
   "cell_type": "markdown",
   "metadata": {},
   "source": [
    "# Helper Functions"
   ]
  },
  {
   "cell_type": "code",
   "execution_count": 3,
   "metadata": {},
   "outputs": [],
   "source": [
    "colors = {\n",
    "    b'S': 'b',\n",
    "    b'F': 'w',\n",
    "    b'H': 'k',\n",
    "    b'G': 'g'\n",
    "}\n",
    "\n",
    "directions = {\n",
    "            0: '←',\n",
    "            1: '↓',\n",
    "            2: '→',\n",
    "            3: '↑'\n",
    "}\n",
    "\n",
    "def plot_forest(env, policy=None, title='Forest Management'):\n",
    "    squares = env.nrow\n",
    "    fig = plt.figure(figsize=(6, 6))\n",
    "    ax = fig.add_subplot(111, xlim=(-.01, squares+0.01), ylim=(-.01, squares+0.01))\n",
    "    plt.title(title, fontsize=16, weight='bold', y=1.01)\n",
    "    for i in range(squares):\n",
    "        for j in range(squares):\n",
    "            y = squares - i - 1\n",
    "            x = j\n",
    "            p = plt.Rectangle([x, y], 1, 1, linewidth=1, edgecolor='k')\n",
    "            p.set_facecolor(colors[env.desc[i,j]])\n",
    "            ax.add_patch(p)\n",
    "            \n",
    "            if policy is not None:\n",
    "                text = ax.text(x+0.5, y+0.5, directions[policy[i, j]],\n",
    "                               horizontalalignment='center', size=25, verticalalignment='center',\n",
    "                               color='k')\n",
    "            \n",
    "    plt.axis('off')\n",
    "    plt.savefig('./frozen/' + title + '.png', dpi=400)\n",
    "    \n",
    "#plot_lake(env, policy)"
   ]
  },
  {
   "cell_type": "code",
   "execution_count": 4,
   "metadata": {},
   "outputs": [],
   "source": [
    "# code based on:\n",
    "# https://medium.com/analytics-vidhya/solving-the-frozenlake-environment-from-openai-gym-using-value-iteration-5a078dffe438\n",
    "def get_score(env, policy, printInfo=False, episodes=1000):\n",
    "    misses = 0\n",
    "    steps_list = []\n",
    "    for episode in range(episodes):\n",
    "        observation = env.reset()\n",
    "        steps=0\n",
    "        while True:\n",
    "            action = policy[observation]\n",
    "            observation, reward, done, _ = env.step(action)\n",
    "            steps+=1\n",
    "            if done and reward == 1:\n",
    "                # print('You have got the Frisbee after {} steps'.format(steps))\n",
    "                steps_list.append(steps)\n",
    "                break\n",
    "            elif done and reward == 0:\n",
    "                # print(\"You fell in a hole!\")\n",
    "                misses += 1\n",
    "                break\n",
    "    ave_steps = np.mean(steps_list)\n",
    "    std_steps = np.std(steps_list)\n",
    "    pct_fail  = (misses/episodes)* 100\n",
    "    \n",
    "    if (printInfo):\n",
    "        print('----------------------------------------------')\n",
    "        print('You took an average of {:.0f} steps to get the frisbee'.format(ave_steps))\n",
    "        print('And you fell in the hole {:.2f} % of the times'.format(pct_fail))\n",
    "        print('----------------------------------------------')\n",
    "  \n",
    "    return ave_steps, std_steps, pct_fail\n"
   ]
  },
  {
   "cell_type": "code",
   "execution_count": 5,
   "metadata": {},
   "outputs": [],
   "source": [
    "# code based on:\n",
    "# https://medium.com/analytics-vidhya/solving-the-frozenlake-environment-from-openai-gym-using-value-iteration-5a078dffe438\n",
    "def get_policy(env,stateValue, lmbda=0.9):\n",
    "    policy = [0 for i in range(env.nS)]\n",
    "    for state in range(env.nS):\n",
    "        action_values = []\n",
    "        for action in range(env.nA):\n",
    "            action_value = 0\n",
    "            for i in range(len(env.P[state][action])):\n",
    "                prob, next_state, r, _ = env.P[state][action][i]\n",
    "                action_value += prob * (r + lmbda * stateValue[next_state])\n",
    "            action_values.append(action_value)\n",
    "        best_action = np.argmax(np.asarray(action_values))\n",
    "        policy[state] = best_action\n",
    "    return policy "
   ]
  },
  {
   "cell_type": "markdown",
   "metadata": {},
   "source": [
    "# Setup Problem"
   ]
  },
  {
   "cell_type": "code",
   "execution_count": 6,
   "metadata": {
    "scrolled": false
   },
   "outputs": [
    {
     "data": {
      "image/png": "[encoded data removed]",
      "text/plain": [
       "<Figure size 432x432 with 1 Axes>"
      ]
     },
     "metadata": {
      "needs_background": "light"
     },
     "output_type": "display_data"
    }
   ],
   "source": [
    "# Setup 4x4\n",
    "env = gym.make('FrozenLake-v0').unwrapped\n",
    "\n",
    "# Create transition and reward matrices from OpenAI P matrix\n",
    "rows = env.nrow\n",
    "cols = env.ncol\n",
    "T = np.zeros((4, rows*cols, rows*cols))\n",
    "R = np.zeros((4, rows*cols, rows*cols))\n",
    "\n",
    "old_state = np.inf\n",
    "\n",
    "for square in env.P:\n",
    "    for action in env.P[square]:\n",
    "        for i in range(len(env.P[square][action])):\n",
    "            new_state = env.P[square][action][i][1]\n",
    "            if new_state == old_state:\n",
    "                T[action][square][env.P[square][action][i][1]] = T[action][square][old_state] + env.P[square][action][i][0]\n",
    "                R[action][square][env.P[square][action][i][1]] = R[action][square][old_state] + env.P[square][action][i][2]\n",
    "            else:\n",
    "                T[action][square][env.P[square][action][i][1]] = env.P[square][action][i][0]\n",
    "                R[action][square][env.P[square][action][i][1]] = env.P[square][action][i][2]\n",
    "            old_state = env.P[square][action][i][1]\n",
    "            \n",
    "#print(T)\n",
    "#print(R)\n",
    "plot_lake(env)"
   ]
  },
  {
   "cell_type": "markdown",
   "metadata": {},
   "source": [
    "# Value Iteration\n",
    "## Function"
   ]
  },
  {
   "cell_type": "code",
   "execution_count": 7,
   "metadata": {},
   "outputs": [],
   "source": [
    "def valueIteration(t, r, gammas, epsilons, showResults=False, max_iterations=100000):\n",
    "    # create data structure to save off\n",
    "    columns = ['gamma', 'epsilon', 'time', 'iterations', 'reward', 'average_steps', 'steps_stddev', 'success_pct', 'policy', 'mean_rewards', 'max_rewards', 'error']\n",
    "    data = pd.DataFrame(0.0, index=np.arange(len(gammas)*len(epsilons)), columns=columns)\n",
    "    \n",
    "    print('Gamma,\\tEps,\\tTime,\\tIter,\\tReward')\n",
    "    print(80*'_')\n",
    "    \n",
    "    testNum = 0\n",
    "    for g in gammas:\n",
    "        for e in epsilons:\n",
    "            test = ValueIteration(t, r, gamma=g, epsilon=e, max_iter=max_iterations)\n",
    "            \n",
    "            runs  = test.run()\n",
    "            time  = runs[-1]['Time']\n",
    "            iters = runs[-1]['Iteration']\n",
    "            maxR  = runs[-1]['Max V']\n",
    "            \n",
    "            max_rewards, mean_rewards, errors = [], [], []\n",
    "            for run in runs:\n",
    "                max_rewards.append(run['Max V'])\n",
    "                mean_rewards.append(run['Mean V'])\n",
    "                errors.append(run['Error'])\n",
    "            \n",
    "            policy = np.array(test.policy)\n",
    "            policy = policy.reshape(4,4)\n",
    "            \n",
    "            data['gamma'][testNum]        = g\n",
    "            data['epsilon'][testNum]      = e\n",
    "            data['time'][testNum]         = time\n",
    "            data['iterations'][testNum]   = iters\n",
    "            data['reward'][testNum]       = maxR\n",
    "            data['mean_rewards'][testNum] = {tuple(mean_rewards)}\n",
    "            data['max_rewards'][testNum]  = {tuple(max_rewards)}\n",
    "            data['error'][testNum]        = {tuple(errors)}\n",
    "            data['policy'][testNum]       = {test.policy}\n",
    "            \n",
    "            print('%.2f,\\t%.0E,\\t%.2f,\\t%d,\\t%f' % (g, e, time, iters, maxR))\n",
    "            \n",
    "            if showResults:\n",
    "                title = 'FrozenLake_VI_' + str(rows) + 'x' + str(cols) + '_g' + str(g) + '_e' + str(e)\n",
    "                plot_lake(env, policy, title)\n",
    "            \n",
    "            testNum = testNum + 1\n",
    "            \n",
    "    # See differences in policy\n",
    "    policies = data['policy']\n",
    "    \n",
    "    for i,p in enumerate(policies):\n",
    "        pol = list(p)[0]\n",
    "        steps, steps_stddev, failures = get_score(env, pol, showResults)\n",
    "        data['average_steps'][i] = steps\n",
    "        data['steps_stddev'][i]  = steps_stddev\n",
    "        data['success_pct'][i]   = 100-failures      \n",
    "        \n",
    "    # replace all NaN's\n",
    "    data.fillna(0, inplace=True)\n",
    "    data.head()\n",
    "        \n",
    "    return data"
   ]
  },
  {
   "cell_type": "markdown",
   "metadata": {},
   "source": [
    "## Setup"
   ]
  },
  {
   "cell_type": "code",
   "execution_count": 8,
   "metadata": {
    "scrolled": false
   },
   "outputs": [
    {
     "name": "stdout",
     "output_type": "stream",
     "text": [
      "Gamma,\tEps,\tTime,\tIter,\tReward\n",
      "________________________________________________________________________________\n",
      "0.10,\t1E-02,\t0.00,\t1,\t0.333333\n",
      "0.10,\t1E-03,\t0.00,\t2,\t0.344444\n",
      "0.10,\t1E-08,\t0.00,\t7,\t0.345239\n",
      "0.10,\t1E-12,\t0.00,\t11,\t0.345239\n",
      "0.30,\t1E-02,\t0.00,\t3,\t0.373333\n",
      "0.30,\t1E-03,\t0.00,\t4,\t0.374667\n",
      "0.30,\t1E-08,\t0.00,\t13,\t0.375103\n",
      "0.30,\t1E-12,\t0.00,\t20,\t0.375103\n",
      "0.60,\t1E-02,\t0.00,\t6,\t0.445120\n",
      "0.60,\t1E-03,\t0.00,\t9,\t0.447311\n",
      "0.60,\t1E-08,\t0.00,\t29,\t0.447649\n",
      "0.60,\t1E-12,\t0.00,\t46,\t0.447649\n",
      "0.90,\t1E-02,\t0.00,\t26,\t0.637540\n",
      "0.90,\t1E-03,\t0.00,\t43,\t0.638883\n",
      "0.90,\t1E-08,\t0.01,\t128,\t0.639020\n",
      "0.90,\t1E-12,\t0.01,\t195,\t0.639020\n"
     ]
    },
    {
     "name": "stderr",
     "output_type": "stream",
     "text": [
      "/opt/python/anaconda3-2019-03/envs/mavan/lib/python3.7/site-packages/numpy/core/fromnumeric.py:3335: RuntimeWarning: Mean of empty slice.\n",
      "  out=out, **kwargs)\n",
      "/opt/python/anaconda3-2019-03/envs/mavan/lib/python3.7/site-packages/numpy/core/_methods.py:161: RuntimeWarning: invalid value encountered in double_scalars\n",
      "  ret = ret.dtype.type(ret / rcount)\n",
      "/opt/python/anaconda3-2019-03/envs/mavan/lib/python3.7/site-packages/numpy/core/_methods.py:217: RuntimeWarning: Degrees of freedom <= 0 for slice\n",
      "  keepdims=keepdims)\n",
      "/opt/python/anaconda3-2019-03/envs/mavan/lib/python3.7/site-packages/numpy/core/_methods.py:186: RuntimeWarning: invalid value encountered in true_divide\n",
      "  arrmean, rcount, out=arrmean, casting='unsafe', subok=False)\n",
      "/opt/python/anaconda3-2019-03/envs/mavan/lib/python3.7/site-packages/numpy/core/_methods.py:209: RuntimeWarning: invalid value encountered in double_scalars\n",
      "  ret = ret.dtype.type(ret / rcount)\n"
     ]
    }
   ],
   "source": [
    "gammas   = [0.1, 0.3, 0.6, 0.9]\n",
    "epsilons = [1e-2, 1e-3, 1e-8, 1e-12]\n",
    "vi_data  = valueIteration(T, R, gammas, epsilons, showResults=False)\n",
    "\n",
    "#vi_data.head()"
   ]
  },
  {
   "cell_type": "markdown",
   "metadata": {},
   "source": [
    "## Plots"
   ]
  },
  {
   "cell_type": "code",
   "execution_count": 9,
   "metadata": {},
   "outputs": [
    {
     "data": {
      "image/png": "[encoded data removed]",
      "text/plain": [
       "<Figure size 432x288 with 1 Axes>"
      ]
     },
     "metadata": {},
     "output_type": "display_data"
    }
   ],
   "source": [
    "# Compare number of iterations with lowest epsilon\n",
    "\n",
    "# extract the average number of steps for each gamma value\n",
    "x = gammas\n",
    "y = []\n",
    "for g in gammas:\n",
    "    y.append(vi_data.loc[vi_data['gamma'] == g]['average_steps'].mean())\n",
    "\n",
    "\n",
    "sns.set(style=\"whitegrid\")\n",
    "\n",
    "fig = plt.figure(figsize=(6,4))\n",
    "ax  = sns.barplot(x, y)\n",
    "ax.set_title('Average Steps vs. Gamma')\n",
    "ax.set_xlabel('Gamma')\n",
    "ax.set_ylabel('Average Steps')\n",
    "\n",
    "title='VI_averageSteps_vs_gamma'\n",
    "plt.savefig('./frozen/' + title + '.png', dpi=400)\n"
   ]
  },
  {
   "cell_type": "code",
   "execution_count": 10,
   "metadata": {},
   "outputs": [
    {
     "data": {
      "image/png": "[encoded data removed]",
      "text/plain": [
       "<Figure size 432x288 with 1 Axes>"
      ]
     },
     "metadata": {},
     "output_type": "display_data"
    }
   ],
   "source": [
    "# Compare success of runs\n",
    "\n",
    "# extract the average success percentage for each gamma value\n",
    "x = gammas\n",
    "y = []\n",
    "for g in gammas:\n",
    "    y.append(vi_data.loc[vi_data['gamma'] == g]['success_pct'].mean())\n",
    "\n",
    "fig = plt.figure(figsize=(6,4))\n",
    "ax  = sns.barplot(x,y)\n",
    "ax.set_title('Success Percentage vs. Gamma')\n",
    "ax.set_xlabel('Gamma')\n",
    "ax.set_ylabel('Success %')\n",
    "\n",
    "title='VI_successPct_vs_gamma'\n",
    "plt.savefig('./frozen/' + title + '.png', dpi=400)"
   ]
  },
  {
   "cell_type": "markdown",
   "metadata": {},
   "source": [
    "## Results"
   ]
  },
  {
   "cell_type": "code",
   "execution_count": 11,
   "metadata": {},
   "outputs": [
    {
     "name": "stdout",
     "output_type": "stream",
     "text": [
      "Best Result:\n",
      "\tSuccess = 80.30\n",
      "\tGamma = 0.90\n",
      "\tEpsilon= 1E-03\n"
     ]
    },
    {
     "data": {
      "image/png": "[encoded data removed]",
      "text/plain": [
       "<Figure size 432x432 with 1 Axes>"
      ]
     },
     "metadata": {},
     "output_type": "display_data"
    }
   ],
   "source": [
    "# Plot most successful gamma and epsilon\n",
    "\n",
    "# find the score with the highest success percentage and get its policy\n",
    "bestRun = vi_data['success_pct'].argmax()\n",
    "best_policy = vi_data['policy'][bestRun]\n",
    "best_policy = np.array(list(best_policy)[0])\n",
    "best_policy = best_policy.reshape(rows, cols)\n",
    "\n",
    "# plot the policy\n",
    "title='Frozen Lake VI Optimal Policy'\n",
    "plot_lake(env, best_policy, title)\n",
    "\n",
    "# write all results to csv file\n",
    "csvFile = 'frozen/VI_results.csv'\n",
    "vi_data.to_csv(csvFile)\n",
    "\n",
    "print('Best Result:\\n\\tSuccess = %.2f\\n\\tGamma = %.2f\\n\\tEpsilon= %.E' % (vi_data['success_pct'].max(), vi_data['gamma'][bestRun], vi_data['epsilon'][bestRun]))\n"
   ]
  },
  {
   "cell_type": "markdown",
   "metadata": {},
   "source": [
    "# Policy Iteration\n",
    "## Function"
   ]
  },
  {
   "cell_type": "code",
   "execution_count": 12,
   "metadata": {},
   "outputs": [],
   "source": [
    "def policyIteration(t, r, gammas, showResults=False, max_iterations=100000):\n",
    "    # create data structure to save off\n",
    "    columns = ['gamma', 'epsilon', 'time', 'iterations', 'reward', 'average_steps', 'steps_stddev', 'success_pct', 'policy', 'mean_rewards', 'max_rewards', 'error']\n",
    "    data = pd.DataFrame(0.0, index=np.arange(len(gammas)), columns=columns)\n",
    "    \n",
    "    print('Gamma,\\tTime,\\tIter,\\tReward')\n",
    "    print(80*'_')\n",
    "    \n",
    "    testNum = 0\n",
    "    for g in gammas:\n",
    "        test = PolicyIteration(t, r, gamma=g, max_iter=max_iterations, eval_type=\"matrix\") # eval_type=\"iterative\"\n",
    "        \n",
    "        runs  = test.run()\n",
    "        time  = test.time\n",
    "        iters = test.iter\n",
    "        maxR  = runs[-1]['Max V']\n",
    "        \n",
    "        print(iters, time)\n",
    "        \n",
    "        max_rewards, mean_rewards, errors = [], [], []\n",
    "        for run in runs:\n",
    "            max_rewards.append(run['Max V'])\n",
    "            mean_rewards.append(run['Mean V'])\n",
    "            errors.append(run['Error'])\n",
    "        \n",
    "        policy = np.array(test.policy)\n",
    "        policy = policy.reshape(4,4)\n",
    "        \n",
    "        data['gamma'][testNum]        = g\n",
    "        data['time'][testNum]         = time\n",
    "        data['iterations'][testNum]   = iters\n",
    "        data['reward'][testNum]       = maxR\n",
    "        data['mean_rewards'][testNum] = {tuple(mean_rewards)}\n",
    "        data['max_rewards'][testNum]  = {tuple(max_rewards)}\n",
    "        data['error'][testNum]        = {tuple(errors)}\n",
    "        data['policy'][testNum]       = {test.policy}\n",
    "        \n",
    "        print('%.2f,\\t%.2f,\\t%d,\\t%f' % (g, time, iters, maxR))\n",
    "        \n",
    "        if showResults:\n",
    "            title = 'FrozenLake_PI_' + str(rows) + 'x' + str(cols) + '_g' + str(g)\n",
    "            plot_lake(env, policy, title)\n",
    "        \n",
    "        testNum = testNum + 1\n",
    "            \n",
    "    # See differences in policy\n",
    "    policies = data['policy']\n",
    "    \n",
    "    for i,p in enumerate(policies):\n",
    "        pol = list(p)[0]\n",
    "        steps, steps_stddev, failures = get_score(env, pol, showResults)\n",
    "        data['average_steps'][i] = steps\n",
    "        data['steps_stddev'][i]  = steps_stddev\n",
    "        data['success_pct'][i]   = 100-failures      \n",
    "        \n",
    "    # replace all NaN's\n",
    "    data.fillna(0, inplace=True)\n",
    "    data.head()\n",
    "        \n",
    "    return data"
   ]
  },
  {
   "cell_type": "markdown",
   "metadata": {},
   "source": [
    "## Setup"
   ]
  },
  {
   "cell_type": "code",
   "execution_count": 13,
   "metadata": {
    "scrolled": false
   },
   "outputs": [
    {
     "name": "stdout",
     "output_type": "stream",
     "text": [
      "Gamma,\tTime,\tIter,\tReward\n",
      "________________________________________________________________________________\n",
      "4 0.0022573471069335938\n",
      "0.10,\t0.00,\t4,\t0.345239\n",
      "4 0.0018415451049804688\n",
      "0.20,\t0.00,\t4,\t0.358992\n",
      "4 0.0015006065368652344\n",
      "0.30,\t0.00,\t4,\t0.375103\n",
      "4 0.0013186931610107422\n",
      "0.40,\t0.00,\t4,\t0.394332\n",
      "4 0.0016579627990722656\n",
      "0.50,\t0.00,\t4,\t0.417861\n",
      "4 0.0016870498657226562\n",
      "0.60,\t0.00,\t4,\t0.447649\n",
      "4 0.0013170242309570312\n",
      "0.70,\t0.00,\t4,\t0.487267\n",
      "5 0.0016148090362548828\n",
      "0.80,\t0.00,\t5,\t0.544196\n",
      "6 0.001967906951904297\n",
      "0.90,\t0.00,\t6,\t0.639020\n"
     ]
    }
   ],
   "source": [
    "gammas   = [0.1, 0.2, 0.3, 0.4, 0.5, 0.6, 0.7, 0.8, 0.9]\n",
    "pi_data  = policyIteration(T, R, gammas, showResults=False)\n",
    "\n",
    "#pi_data.head()"
   ]
  },
  {
   "cell_type": "markdown",
   "metadata": {},
   "source": [
    "## Plots"
   ]
  },
  {
   "cell_type": "code",
   "execution_count": 32,
   "metadata": {},
   "outputs": [
    {
     "data": {
      "image/png": "[encoded data removed]",
      "text/plain": [
       "<Figure size 432x288 with 1 Axes>"
      ]
     },
     "metadata": {},
     "output_type": "display_data"
    }
   ],
   "source": [
    "# Compare number of iterations with lowest epsilon\n",
    "\n",
    "# extract the average number of steps for each gamma value\n",
    "x = gammas\n",
    "y = pi_data['average_steps']\n",
    "sigma = pi_data['steps_stddev']\n",
    "\n",
    "fig = plt.figure(figsize=(6,4))\n",
    "plt.plot(x, y, 'o-')\n",
    "plt.fill_between(x, y-sigma, y+sigma, color='b', alpha=0.1)\n",
    "\n",
    "plt.title('Average Steps Taken vs. Gamma')\n",
    "plt.xlabel('Gamma')\n",
    "plt.ylabel('Average Steps')\n",
    "plt.grid(True)\n",
    "\n",
    "title='PI_averageSteps_vs_gamma'\n",
    "plt.savefig('./frozen/' + title + '.png', dpi=400)"
   ]
  },
  {
   "cell_type": "code",
   "execution_count": 33,
   "metadata": {},
   "outputs": [
    {
     "data": {
      "image/png": "[encoded data removed]",
      "text/plain": [
       "<Figure size 432x288 with 1 Axes>"
      ]
     },
     "metadata": {},
     "output_type": "display_data"
    }
   ],
   "source": [
    "# Compare success of runs\n",
    "\n",
    "# extract the average success percentage for each gamma value\n",
    "x = pi_data['gamma']\n",
    "y = pi_data['success_pct']\n",
    "\n",
    "fig = plt.figure(figsize=(6,4))\n",
    "plt.plot(x, y, 'o-')\n",
    "\n",
    "plt.title('Success vs. Gamma')\n",
    "plt.xlabel('Gamma')\n",
    "plt.ylabel('Success %')\n",
    "plt.grid(True)\n",
    "\n",
    "title='VI_successPct_vs_gamma'\n",
    "plt.savefig('./frozen/' + title + '.png', dpi=400)"
   ]
  },
  {
   "cell_type": "markdown",
   "metadata": {},
   "source": [
    "## Results"
   ]
  },
  {
   "cell_type": "code",
   "execution_count": 16,
   "metadata": {},
   "outputs": [
    {
     "name": "stdout",
     "output_type": "stream",
     "text": [
      "Best Result:\n",
      "\tSuccess = 78.40\n",
      "\tGamma = 0.90\n"
     ]
    },
    {
     "data": {
      "image/png": "[encoded data removed]",
      "text/plain": [
       "<Figure size 432x432 with 1 Axes>"
      ]
     },
     "metadata": {},
     "output_type": "display_data"
    }
   ],
   "source": [
    "# Plot most successful gamma\n",
    "\n",
    "# find the score with the highest success percentage and get its policy\n",
    "bestRun = pi_data['success_pct'].argmax()\n",
    "\n",
    "best_policy = pi_data['policy'][bestRun]\n",
    "best_policy = np.array(list(best_policy)[0])\n",
    "best_policy = best_policy.reshape(rows, cols)\n",
    "\n",
    "# plot the policy\n",
    "title='Frozen Lake PI Optimal Policy'\n",
    "plot_lake(env, best_policy, title)\n",
    "\n",
    "# write all results to csv file\n",
    "csvFile = 'frozen/PI_results.csv'\n",
    "pi_data.to_csv(csvFile)\n",
    "\n",
    "print('Best Result:\\n\\tSuccess = %.2f\\n\\tGamma = %.2f' % (pi_data['success_pct'].max(), pi_data['gamma'][bestRun]))"
   ]
  },
  {
   "cell_type": "code",
   "execution_count": null,
   "metadata": {},
   "outputs": [],
   "source": []
  },
  {
   "cell_type": "markdown",
   "metadata": {},
   "source": [
    "# Q-Learning\n",
    "\n",
    "## Function"
   ]
  },
  {
   "cell_type": "code",
   "execution_count": 65,
   "metadata": {},
   "outputs": [],
   "source": [
    "def qLearning(t, r, gammas, alphas, alpha_decays=[0.99], epsilon_decays=[0.99], n_iterations=[10000000], showResults=False):\n",
    "    # create data structure to save off\n",
    "    columns = ['gamma', 'alpha', 'alpha_decay', 'epsilon_decay', 'iterations', 'time', 'reward', 'average_steps', 'steps_stddev', 'success_pct', 'policy', 'mean_rewards', 'max_rewards', 'error']\n",
    "    numTests = len(gammas)*len(alphas)*len(alpha_decays)*len(epsilon_decays)*len(n_iterations)\n",
    "    data = pd.DataFrame(0.0, index=np.arange(numTests), columns=columns)\n",
    "    \n",
    "    print('Gamma,\\tAlpha,\\tTime,\\tIter,\\tReward')\n",
    "    print(80*'_')\n",
    "    \n",
    "    testNum = 0\n",
    "    for g in gammas:\n",
    "        for a in alphas:\n",
    "            for a_decay in alpha_decays:\n",
    "                for e_decay in epsilon_decays:\n",
    "                    for n in n_iterations:\n",
    "                        print('Test Num %d/%d' %(testNum, numTests))\n",
    "                        print('Gamma: %.2f,\\tAlpha: %.2f,\\tAlpha Decay:%.3f,\\tEpsilon Decay:%.3f,\\tIterations:%d' \n",
    "                             %(g, a, a_decay, e_decay, n))\n",
    "                        \n",
    "                        test = QLearning(t, r, gamma=g, alpha=a, alpha_decay=a_decay, epsilon_decay=e_decay, n_iter=n)\n",
    "                        \n",
    "                        runs  = test.run()\n",
    "                        time  = runs[-1]['Time']\n",
    "                        iters = runs[-1]['Iteration']\n",
    "                        maxR  = runs[-1]['Max V']\n",
    "                        \n",
    "                        max_rewards, mean_rewards, errors = [], [], []\n",
    "                        for run in runs:\n",
    "                            max_rewards.append(run['Max V'])\n",
    "                            mean_rewards.append(run['Mean V'])\n",
    "                            errors.append(run['Error'])\n",
    "                        \n",
    "                        policy = np.array(test.policy)\n",
    "                        policy = policy.reshape(4,4)\n",
    "                        \n",
    "                        data['gamma'][testNum]         = g\n",
    "                        data['alpha'][testNum]         = a\n",
    "                        data['alpha_decay'][testNum]   = a_decay\n",
    "                        data['epsilon_decay'][testNum] = e_decay\n",
    "                        data['time'][testNum]          = time\n",
    "                        data['iterations'][testNum]    = iters\n",
    "                        data['reward'][testNum]        = maxR\n",
    "                        data['mean_rewards'][testNum]  = {tuple(mean_rewards)}\n",
    "                        data['max_rewards'][testNum]   = {tuple(max_rewards)}\n",
    "                        data['error'][testNum]         = {tuple(errors)}\n",
    "                        data['policy'][testNum]        = {test.policy}\n",
    "                        \n",
    "                        print('%.2f,\\t%.2f,\\t%.2f,\\t%d,\\t%f' % (g, a, time, iters, maxR))\n",
    "                        \n",
    "                        if showResults:\n",
    "                            title = 'FrozenLake_QL_' + str(rows) + 'x' + str(cols) + '_g' + str(g) + '_a' + str(a) + '_adecay' + str(a_decay) + '_edecay' + str(e_decay) + '_iter' + str(n)\n",
    "                            plot_lake(env, policy, title)\n",
    "                        \n",
    "                        testNum = testNum + 1\n",
    "            \n",
    "    # See differences in policy\n",
    "    policies = data['policy']\n",
    "    \n",
    "    for i,p in enumerate(policies):\n",
    "        pol = list(p)[0]\n",
    "        steps, steps_stddev, failures = get_score(env, pol, showResults)\n",
    "        data['average_steps'][i] = steps\n",
    "        data['steps_stddev'][i]  = steps_stddev\n",
    "        data['success_pct'][i]   = 100-failures      \n",
    "        \n",
    "    # replace all NaN's\n",
    "    data.fillna(0, inplace=True)\n",
    "    data.head()\n",
    "        \n",
    "    return data"
   ]
  },
  {
   "cell_type": "markdown",
   "metadata": {},
   "source": [
    "## Setup"
   ]
  },
  {
   "cell_type": "code",
   "execution_count": null,
   "metadata": {
    "scrolled": false
   },
   "outputs": [
    {
     "name": "stdout",
     "output_type": "stream",
     "text": [
      "Gamma,\tAlpha,\tTime,\tIter,\tReward\n",
      "________________________________________________________________________________\n",
      "Test Num 0/108\n",
      "Gamma: 0.80,\tAlpha: 0.01,\tAlpha Decay:0.900,\tEpsilon Decay:0.900,\tIterations:100000\n",
      "0.80,\t0.01,\t4.84,\t100000,\t0.087957\n",
      "Test Num 1/108\n",
      "Gamma: 0.80,\tAlpha: 0.01,\tAlpha Decay:0.900,\tEpsilon Decay:0.900,\tIterations:1000000\n",
      "0.80,\t0.01,\t46.83,\t1000000,\t0.472730\n",
      "Test Num 2/108\n",
      "Gamma: 0.80,\tAlpha: 0.01,\tAlpha Decay:0.900,\tEpsilon Decay:0.900,\tIterations:10000000\n",
      "0.80,\t0.01,\t480.16,\t10000000,\t0.551939\n",
      "Test Num 3/108\n",
      "Gamma: 0.80,\tAlpha: 0.01,\tAlpha Decay:0.900,\tEpsilon Decay:0.999,\tIterations:100000\n",
      "0.80,\t0.01,\t4.87,\t100000,\t0.101924\n",
      "Test Num 4/108\n",
      "Gamma: 0.80,\tAlpha: 0.01,\tAlpha Decay:0.900,\tEpsilon Decay:0.999,\tIterations:1000000\n",
      "0.80,\t0.01,\t47.32,\t1000000,\t0.461346\n",
      "Test Num 5/108\n",
      "Gamma: 0.80,\tAlpha: 0.01,\tAlpha Decay:0.900,\tEpsilon Decay:0.999,\tIterations:10000000\n",
      "0.80,\t0.01,\t466.65,\t10000000,\t0.510185\n",
      "Test Num 6/108\n",
      "Gamma: 0.80,\tAlpha: 0.01,\tAlpha Decay:0.999,\tEpsilon Decay:0.900,\tIterations:100000\n",
      "0.80,\t0.01,\t4.81,\t100000,\t0.100821\n",
      "Test Num 7/108\n",
      "Gamma: 0.80,\tAlpha: 0.01,\tAlpha Decay:0.999,\tEpsilon Decay:0.900,\tIterations:1000000\n",
      "0.80,\t0.01,\t46.28,\t1000000,\t0.429591\n",
      "Test Num 8/108\n",
      "Gamma: 0.80,\tAlpha: 0.01,\tAlpha Decay:0.999,\tEpsilon Decay:0.900,\tIterations:10000000\n",
      "0.80,\t0.01,\t471.71,\t10000000,\t0.402432\n",
      "Test Num 9/108\n",
      "Gamma: 0.80,\tAlpha: 0.01,\tAlpha Decay:0.999,\tEpsilon Decay:0.999,\tIterations:100000\n",
      "0.80,\t0.01,\t4.77,\t100000,\t0.092960\n",
      "Test Num 10/108\n",
      "Gamma: 0.80,\tAlpha: 0.01,\tAlpha Decay:0.999,\tEpsilon Decay:0.999,\tIterations:1000000\n",
      "0.80,\t0.01,\t46.72,\t1000000,\t0.441042\n",
      "Test Num 11/108\n",
      "Gamma: 0.80,\tAlpha: 0.01,\tAlpha Decay:0.999,\tEpsilon Decay:0.999,\tIterations:10000000\n",
      "0.80,\t0.01,\t475.31,\t10000000,\t0.522811\n",
      "Test Num 12/108\n",
      "Gamma: 0.80,\tAlpha: 0.10,\tAlpha Decay:0.900,\tEpsilon Decay:0.900,\tIterations:100000\n",
      "0.80,\t0.10,\t4.77,\t100000,\t0.086430\n",
      "Test Num 13/108\n",
      "Gamma: 0.80,\tAlpha: 0.10,\tAlpha Decay:0.900,\tEpsilon Decay:0.900,\tIterations:1000000\n",
      "0.80,\t0.10,\t46.54,\t1000000,\t0.437734\n",
      "Test Num 14/108\n",
      "Gamma: 0.80,\tAlpha: 0.10,\tAlpha Decay:0.900,\tEpsilon Decay:0.900,\tIterations:10000000\n",
      "0.80,\t0.10,\t480.97,\t10000000,\t0.511460\n",
      "Test Num 15/108\n",
      "Gamma: 0.80,\tAlpha: 0.10,\tAlpha Decay:0.900,\tEpsilon Decay:0.999,\tIterations:100000\n",
      "0.80,\t0.10,\t4.97,\t100000,\t0.076878\n",
      "Test Num 16/108\n",
      "Gamma: 0.80,\tAlpha: 0.10,\tAlpha Decay:0.900,\tEpsilon Decay:0.999,\tIterations:1000000\n",
      "0.80,\t0.10,\t48.93,\t1000000,\t0.338518\n",
      "Test Num 17/108\n",
      "Gamma: 0.80,\tAlpha: 0.10,\tAlpha Decay:0.900,\tEpsilon Decay:0.999,\tIterations:10000000\n",
      "0.80,\t0.10,\t485.08,\t10000000,\t0.534129\n",
      "Test Num 18/108\n",
      "Gamma: 0.80,\tAlpha: 0.10,\tAlpha Decay:0.999,\tEpsilon Decay:0.900,\tIterations:100000\n",
      "0.80,\t0.10,\t4.97,\t100000,\t0.140236\n",
      "Test Num 19/108\n",
      "Gamma: 0.80,\tAlpha: 0.10,\tAlpha Decay:0.999,\tEpsilon Decay:0.900,\tIterations:1000000\n",
      "0.80,\t0.10,\t48.58,\t1000000,\t0.425125\n",
      "Test Num 20/108\n",
      "Gamma: 0.80,\tAlpha: 0.10,\tAlpha Decay:0.999,\tEpsilon Decay:0.900,\tIterations:10000000\n",
      "0.80,\t0.10,\t448.36,\t10000000,\t0.403116\n"
     ]
    },
    {
     "name": "stderr",
     "output_type": "stream",
     "text": [
      "/opt/python/anaconda3-2019-03/envs/mavan/lib/python3.7/site-packages/ipykernel_launcher.py:17: RuntimeWarning: More than 20 figures have been opened. Figures created through the pyplot interface (`matplotlib.pyplot.figure`) are retained until explicitly closed and may consume too much memory. (To control this warning, see the rcParam `figure.max_open_warning`).\n"
     ]
    },
    {
     "name": "stdout",
     "output_type": "stream",
     "text": [
      "Test Num 21/108\n",
      "Gamma: 0.80,\tAlpha: 0.10,\tAlpha Decay:0.999,\tEpsilon Decay:0.999,\tIterations:100000\n",
      "0.80,\t0.10,\t4.60,\t100000,\t0.185699\n",
      "Test Num 22/108\n",
      "Gamma: 0.80,\tAlpha: 0.10,\tAlpha Decay:0.999,\tEpsilon Decay:0.999,\tIterations:1000000\n",
      "0.80,\t0.10,\t44.60,\t1000000,\t0.480933\n",
      "Test Num 23/108\n",
      "Gamma: 0.80,\tAlpha: 0.10,\tAlpha Decay:0.999,\tEpsilon Decay:0.999,\tIterations:10000000\n",
      "0.80,\t0.10,\t445.02,\t10000000,\t0.513565\n",
      "Test Num 24/108\n",
      "Gamma: 0.80,\tAlpha: 0.20,\tAlpha Decay:0.900,\tEpsilon Decay:0.900,\tIterations:100000\n",
      "0.80,\t0.20,\t4.53,\t100000,\t0.079254\n",
      "Test Num 25/108\n",
      "Gamma: 0.80,\tAlpha: 0.20,\tAlpha Decay:0.900,\tEpsilon Decay:0.900,\tIterations:1000000\n",
      "0.80,\t0.20,\t43.89,\t1000000,\t0.463171\n",
      "Test Num 26/108\n",
      "Gamma: 0.80,\tAlpha: 0.20,\tAlpha Decay:0.900,\tEpsilon Decay:0.900,\tIterations:10000000\n",
      "0.80,\t0.20,\t468.26,\t10000000,\t0.535653\n",
      "Test Num 27/108\n",
      "Gamma: 0.80,\tAlpha: 0.20,\tAlpha Decay:0.900,\tEpsilon Decay:0.999,\tIterations:100000\n",
      "0.80,\t0.20,\t5.08,\t100000,\t0.080877\n",
      "Test Num 28/108\n",
      "Gamma: 0.80,\tAlpha: 0.20,\tAlpha Decay:0.900,\tEpsilon Decay:0.999,\tIterations:1000000\n",
      "0.80,\t0.20,\t49.02,\t1000000,\t0.422684\n",
      "Test Num 29/108\n",
      "Gamma: 0.80,\tAlpha: 0.20,\tAlpha Decay:0.900,\tEpsilon Decay:0.999,\tIterations:10000000\n",
      "0.80,\t0.20,\t494.31,\t10000000,\t0.523672\n",
      "Test Num 30/108\n",
      "Gamma: 0.80,\tAlpha: 0.20,\tAlpha Decay:0.999,\tEpsilon Decay:0.900,\tIterations:100000\n",
      "0.80,\t0.20,\t4.97,\t100000,\t0.109737\n",
      "Test Num 31/108\n",
      "Gamma: 0.80,\tAlpha: 0.20,\tAlpha Decay:0.999,\tEpsilon Decay:0.900,\tIterations:1000000\n",
      "0.80,\t0.20,\t48.90,\t1000000,\t0.345324\n",
      "Test Num 32/108\n",
      "Gamma: 0.80,\tAlpha: 0.20,\tAlpha Decay:0.999,\tEpsilon Decay:0.900,\tIterations:10000000\n"
     ]
    }
   ],
   "source": [
    "gammas   = [0.8, 0.9, 0.99]\n",
    "alphas   = [0.01, 0.1, 0.2]\n",
    "alpha_decays = [0.9, 0.999]\n",
    "epsilon_decays = [0.9, 0.999]\n",
    "iterations = [1e5, 1e6, 1e7]\n",
    "\n",
    "ql_data  = qLearning(T, R, gammas, alphas, alpha_decays=alpha_decays, epsilon_decays=epsilon_decays, n_iterations=iterations, showResults=True)\n",
    "\n",
    "# write all results to csv file\n",
    "csvFile = 'frozen/QI_results.csv'\n",
    "ql_data.to_csv(csvFile)\n",
    "\n",
    "ql_data.head()\n"
   ]
  },
  {
   "cell_type": "code",
   "execution_count": 48,
   "metadata": {},
   "outputs": [
    {
     "data": {
      "text/html": [
       "<div>\n",
       "<style scoped>\n",
       "    .dataframe tbody tr th:only-of-type {\n",
       "        vertical-align: middle;\n",
       "    }\n",
       "\n",
       "    .dataframe tbody tr th {\n",
       "        vertical-align: top;\n",
       "    }\n",
       "\n",
       "    .dataframe thead th {\n",
       "        text-align: right;\n",
       "    }\n",
       "</style>\n",
       "<table border=\"1\" class=\"dataframe\">\n",
       "  <thead>\n",
       "    <tr style=\"text-align: right;\">\n",
       "      <th></th>\n",
       "      <th>gamma</th>\n",
       "      <th>alpha</th>\n",
       "      <th>time</th>\n",
       "      <th>iterations</th>\n",
       "      <th>reward</th>\n",
       "      <th>average_steps</th>\n",
       "      <th>steps_stddev</th>\n",
       "      <th>success_pct</th>\n",
       "      <th>policy</th>\n",
       "      <th>mean_rewards</th>\n",
       "      <th>max_rewards</th>\n",
       "      <th>error</th>\n",
       "    </tr>\n",
       "  </thead>\n",
       "  <tbody>\n",
       "    <tr>\n",
       "      <th>0</th>\n",
       "      <td>0.9</td>\n",
       "      <td>0.1</td>\n",
       "      <td>455.687366</td>\n",
       "      <td>10000000.0</td>\n",
       "      <td>0.635796</td>\n",
       "      <td>18.511811</td>\n",
       "      <td>10.076765</td>\n",
       "      <td>12.7</td>\n",
       "      <td>{(2, 1, 0, 0, 2, 0, 0, 0, 3, 1, 0, 0, 0, 2, 1,...</td>\n",
       "      <td>{(0.0, 0.0, 0.0, 0.0, 0.0, 0.0, 0.0, 0.0, 0.0,...</td>\n",
       "      <td>{(0.0, 0.0, 0.0, 0.0, 0.0, 0.0, 0.0, 0.0, 0.0,...</td>\n",
       "      <td>{(0.0, 0.0, 0.0, 0.0, 0.0, 0.0, 0.0, 0.0, 0.0,...</td>\n",
       "    </tr>\n",
       "  </tbody>\n",
       "</table>\n",
       "</div>"
      ],
      "text/plain": [
       "   gamma  alpha        time  iterations    reward  average_steps  \\\n",
       "0    0.9    0.1  455.687366  10000000.0  0.635796      18.511811   \n",
       "\n",
       "   steps_stddev  success_pct  \\\n",
       "0     10.076765         12.7   \n",
       "\n",
       "                                              policy  \\\n",
       "0  {(2, 1, 0, 0, 2, 0, 0, 0, 3, 1, 0, 0, 0, 2, 1,...   \n",
       "\n",
       "                                        mean_rewards  \\\n",
       "0  {(0.0, 0.0, 0.0, 0.0, 0.0, 0.0, 0.0, 0.0, 0.0,...   \n",
       "\n",
       "                                         max_rewards  \\\n",
       "0  {(0.0, 0.0, 0.0, 0.0, 0.0, 0.0, 0.0, 0.0, 0.0,...   \n",
       "\n",
       "                                               error  \n",
       "0  {(0.0, 0.0, 0.0, 0.0, 0.0, 0.0, 0.0, 0.0, 0.0,...  "
      ]
     },
     "execution_count": 48,
     "metadata": {},
     "output_type": "execute_result"
    }
   ],
   "source": [
    "ql_data.head()"
   ]
  },
  {
   "cell_type": "markdown",
   "metadata": {},
   "source": [
    "## Plots"
   ]
  },
  {
   "cell_type": "code",
   "execution_count": null,
   "metadata": {},
   "outputs": [],
   "source": []
  },
  {
   "cell_type": "code",
   "execution_count": null,
   "metadata": {},
   "outputs": [],
   "source": []
  },
  {
   "cell_type": "markdown",
   "metadata": {},
   "source": [
    "## Results"
   ]
  },
  {
   "cell_type": "code",
   "execution_count": null,
   "metadata": {},
   "outputs": [],
   "source": [
    "# Plot most successful gamma\n",
    "\n",
    "# find the score with the highest success percentage and get its policy\n",
    "bestRun = pi_data['success_pct'].argmax()\n",
    "\n",
    "best_policy = pi_data['policy'][bestRun]\n",
    "best_policy = np.array(list(best_policy)[0])\n",
    "best_policy = best_policy.reshape(rows, cols)\n",
    "\n",
    "# plot the policy\n",
    "title='Frozen Lake PI Optimal Policy'\n",
    "plot_lake(env, best_policy, title)\n",
    "\n",
    "print('Best Result:\\n\\tSuccess = %.2f\\n\\tGamma = %.2f' % (pi_data['success_pct'].max(), pi_data['gamma'][bestRun]))"
   ]
  }
 ],
 "metadata": {
  "kernelspec": {
   "display_name": "Python 3",
   "language": "python",
   "name": "python3"
  },
  "language_info": {
   "codemirror_mode": {
    "name": "ipython",
    "version": 3
   },
   "file_extension": ".py",
   "mimetype": "text/x-python",
   "name": "python",
   "nbconvert_exporter": "python",
   "pygments_lexer": "ipython3",
   "version": "3.7.6"
  }
 },
 "nbformat": 4,
 "nbformat_minor": 2
}
