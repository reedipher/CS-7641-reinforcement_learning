{
 "cells": [
  {
   "cell_type": "markdown",
   "metadata": {},
   "source": [
    "# Common\n",
    "## Imports"
   ]
  },
  {
   "cell_type": "code",
   "execution_count": 4,
   "metadata": {},
   "outputs": [
    {
     "name": "stdout",
     "output_type": "stream",
     "text": [
      "3.7.6\n"
     ]
    }
   ],
   "source": [
    "from platform import python_version\n",
    "\n",
    "print(python_version())"
   ]
  },
  {
   "cell_type": "code",
   "execution_count": 5,
   "metadata": {},
   "outputs": [],
   "source": [
    "import gym\n",
    "\n",
    "import hiive.mdptoolbox as mdptoolbox\n",
    "from hiive.mdptoolbox.mdp import ValueIteration, PolicyIteration, QLearning\n",
    "\n",
    "import numpy as np\n",
    "import pandas as pd\n",
    "import matplotlib.pyplot as plt\n",
    "import seaborn as sns\n",
    "from time import time\n",
    "\n",
    "from IPython.display import clear_output, display\n",
    "\n",
    "# suppress pandas warning\n",
    "pd.options.mode.chained_assignment = None\n",
    "\n",
    "# set seed\n",
    "np.random.seed(0)\n",
    "\n",
    "%matplotlib inline"
   ]
  },
  {
   "cell_type": "markdown",
   "metadata": {},
   "source": [
    "# Helper Functions"
   ]
  },
  {
   "cell_type": "code",
   "execution_count": 6,
   "metadata": {},
   "outputs": [],
   "source": [
    "colors = {\n",
    "    b'S': 'b',\n",
    "    b'F': 'w',\n",
    "    b'H': 'k',\n",
    "    b'G': 'g'\n",
    "}\n",
    "\n",
    "directions = {\n",
    "            0: '←',\n",
    "            1: '↓',\n",
    "            2: '→',\n",
    "            3: '↑'\n",
    "}\n",
    "\n",
    "def plot_lake(env, policy=None, title='Frozen Lake'):\n",
    "    squares = env.nrow\n",
    "    fig = plt.figure(figsize=(6, 6))\n",
    "    ax = fig.add_subplot(111, xlim=(-.01, squares+0.01), ylim=(-.01, squares+0.01))\n",
    "    plt.title(title, fontsize=16, weight='bold', y=1.01)\n",
    "    for i in range(squares):\n",
    "        for j in range(squares):\n",
    "            y = squares - i - 1\n",
    "            x = j\n",
    "            p = plt.Rectangle([x, y], 1, 1, linewidth=1, edgecolor='k')\n",
    "            p.set_facecolor(colors[env.desc[i,j]])\n",
    "            ax.add_patch(p)\n",
    "            \n",
    "            if policy is not None:\n",
    "                text = ax.text(x+0.5, y+0.5, directions[policy[i, j]],\n",
    "                               horizontalalignment='center', size=25, verticalalignment='center',\n",
    "                               color='k')\n",
    "            \n",
    "    plt.axis('off')\n",
    "    plt.savefig('./frozen/' + title + '.png', dpi=400)\n",
    "    \n",
    "#plot_lake(env, policy)"
   ]
  },
  {
   "cell_type": "code",
   "execution_count": 7,
   "metadata": {},
   "outputs": [],
   "source": [
    "# code based on:\n",
    "# https://medium.com/analytics-vidhya/solving-the-frozenlake-environment-from-openai-gym-using-value-iteration-5a078dffe438\n",
    "def get_score(env, policy, printInfo=False, episodes=1000):\n",
    "    misses = 0\n",
    "    steps_list = []\n",
    "    for episode in range(episodes):\n",
    "        observation = env.reset()\n",
    "        steps=0\n",
    "        while True:\n",
    "            action = policy[observation]\n",
    "            observation, reward, done, _ = env.step(action)\n",
    "            steps+=1\n",
    "            if done and reward == 1:\n",
    "                # print('You have got the Frisbee after {} steps'.format(steps))\n",
    "                steps_list.append(steps)\n",
    "                break\n",
    "            elif done and reward == 0:\n",
    "                # print(\"You fell in a hole!\")\n",
    "                misses += 1\n",
    "                break\n",
    "    ave_steps = np.mean(steps_list)\n",
    "    std_steps = np.std(steps_list)\n",
    "    pct_fail  = (misses/episodes)* 100\n",
    "    \n",
    "    if (printInfo):\n",
    "        print('----------------------------------------------')\n",
    "        print('You took an average of {:.0f} steps to get the frisbee'.format(ave_steps))\n",
    "        print('And you fell in the hole {:.2f} % of the times'.format(pct_fail))\n",
    "        print('----------------------------------------------')\n",
    "  \n",
    "    return ave_steps, std_steps, pct_fail\n"
   ]
  },
  {
   "cell_type": "code",
   "execution_count": 8,
   "metadata": {},
   "outputs": [],
   "source": [
    "# code based on:\n",
    "# https://medium.com/analytics-vidhya/solving-the-frozenlake-environment-from-openai-gym-using-value-iteration-5a078dffe438\n",
    "def get_policy(env,stateValue, lmbda=0.9):\n",
    "    policy = [0 for i in range(env.nS)]\n",
    "    for state in range(env.nS):\n",
    "        action_values = []\n",
    "        for action in range(env.nA):\n",
    "            action_value = 0\n",
    "            for i in range(len(env.P[state][action])):\n",
    "                prob, next_state, r, _ = env.P[state][action][i]\n",
    "                action_value += prob * (r + lmbda * stateValue[next_state])\n",
    "            action_values.append(action_value)\n",
    "        best_action = np.argmax(np.asarray(action_values))\n",
    "        policy[state] = best_action\n",
    "    return policy "
   ]
  },
  {
   "cell_type": "markdown",
   "metadata": {},
   "source": [
    "# Setup Problem"
   ]
  },
  {
   "cell_type": "code",
   "execution_count": 9,
   "metadata": {
    "scrolled": false
   },
   "outputs": [
    {
     "data": {
      "image/png": "[encoded data removed]",
      "text/plain": [
       "<Figure size 432x432 with 1 Axes>"
      ]
     },
     "metadata": {
      "needs_background": "light"
     },
     "output_type": "display_data"
    }
   ],
   "source": [
    "# Setup 4x4\n",
    "env = gym.make('FrozenLake-v0').unwrapped\n",
    "\n",
    "# Create transition and reward matrices from OpenAI P matrix\n",
    "rows = env.nrow\n",
    "cols = env.ncol\n",
    "T = np.zeros((4, rows*cols, rows*cols))\n",
    "R = np.zeros((4, rows*cols, rows*cols))\n",
    "\n",
    "old_state = np.inf\n",
    "\n",
    "for square in env.P:\n",
    "    for action in env.P[square]:\n",
    "        for i in range(len(env.P[square][action])):\n",
    "            new_state = env.P[square][action][i][1]\n",
    "            if new_state == old_state:\n",
    "                T[action][square][env.P[square][action][i][1]] = T[action][square][old_state] + env.P[square][action][i][0]\n",
    "                R[action][square][env.P[square][action][i][1]] = R[action][square][old_state] + env.P[square][action][i][2]\n",
    "            else:\n",
    "                T[action][square][env.P[square][action][i][1]] = env.P[square][action][i][0]\n",
    "                R[action][square][env.P[square][action][i][1]] = env.P[square][action][i][2]\n",
    "            old_state = env.P[square][action][i][1]\n",
    "            \n",
    "#print(T)\n",
    "#print(R)\n",
    "plot_lake(env)"
   ]
  },
  {
   "cell_type": "markdown",
   "metadata": {},
   "source": [
    "# Value Iteration\n",
    "## Function"
   ]
  },
  {
   "cell_type": "code",
   "execution_count": 10,
   "metadata": {},
   "outputs": [],
   "source": [
    "def valueIteration(t, r, gammas, epsilons, showResults=False, max_iterations=100000):\n",
    "    # create data structure to save off\n",
    "    columns = ['gamma', 'epsilon', 'time', 'iterations', 'reward', 'average_steps', 'steps_stddev', 'success_pct', 'policy', 'mean_rewards', 'max_rewards', 'error']\n",
    "    data = pd.DataFrame(0.0, index=np.arange(len(gammas)*len(epsilons)), columns=columns)\n",
    "    \n",
    "    print('Gamma,\\tEps,\\tTime,\\tIter,\\tReward')\n",
    "    print(80*'_')\n",
    "    \n",
    "    testNum = 0\n",
    "    for g in gammas:\n",
    "        for e in epsilons:\n",
    "            test = ValueIteration(t, r, gamma=g, epsilon=e, max_iter=max_iterations)\n",
    "            \n",
    "            runs  = test.run()\n",
    "            time  = runs[-1]['Time']\n",
    "            iters = runs[-1]['Iteration']\n",
    "            maxR  = runs[-1]['Max V']\n",
    "            \n",
    "            max_rewards, mean_rewards, errors = [], [], []\n",
    "            for run in runs:\n",
    "                max_rewards.append(run['Max V'])\n",
    "                mean_rewards.append(run['Mean V'])\n",
    "                errors.append(run['Error'])\n",
    "            \n",
    "            policy = np.array(test.policy)\n",
    "            policy = policy.reshape(4,4)\n",
    "            \n",
    "            data['gamma'][testNum]        = g\n",
    "            data['epsilon'][testNum]      = e\n",
    "            data['time'][testNum]         = time\n",
    "            data['iterations'][testNum]   = iters\n",
    "            data['reward'][testNum]       = maxR\n",
    "            data['mean_rewards'][testNum] = {tuple(mean_rewards)}\n",
    "            data['max_rewards'][testNum]  = {tuple(max_rewards)}\n",
    "            data['error'][testNum]        = {tuple(errors)}\n",
    "            data['policy'][testNum]       = {test.policy}\n",
    "            \n",
    "            print('%.2f,\\t%.0E,\\t%.2f,\\t%d,\\t%f' % (g, e, time, iters, maxR))\n",
    "            \n",
    "            if showResults:\n",
    "                title = 'FrozenLake_VI_' + str(rows) + 'x' + str(cols) + '_g' + str(g) + '_e' + str(e)\n",
    "                plot_lake(env, policy, title)\n",
    "            \n",
    "            testNum = testNum + 1\n",
    "            \n",
    "    # See differences in policy\n",
    "    policies = data['policy']\n",
    "    \n",
    "    for i,p in enumerate(policies):\n",
    "        pol = list(p)[0]\n",
    "        steps, steps_stddev, failures = get_score(env, pol, showResults)\n",
    "        data['average_steps'][i] = steps\n",
    "        data['steps_stddev'][i]  = steps_stddev\n",
    "        data['success_pct'][i]   = 100-failures      \n",
    "        \n",
    "    # replace all NaN's\n",
    "    data.fillna(0, inplace=True)\n",
    "    data.head()\n",
    "        \n",
    "    return data"
   ]
  },
  {
   "cell_type": "markdown",
   "metadata": {},
   "source": [
    "## Setup"
   ]
  },
  {
   "cell_type": "code",
   "execution_count": 11,
   "metadata": {
    "scrolled": false
   },
   "outputs": [
    {
     "name": "stdout",
     "output_type": "stream",
     "text": [
      "Gamma,\tEps,\tTime,\tIter,\tReward\n",
      "________________________________________________________________________________\n",
      "0.10,\t1E-02,\t0.00,\t1,\t0.333333\n",
      "0.10,\t1E-03,\t0.00,\t2,\t0.344444\n",
      "0.10,\t1E-08,\t0.00,\t7,\t0.345239\n",
      "0.10,\t1E-12,\t0.00,\t11,\t0.345239\n",
      "0.30,\t1E-02,\t0.00,\t3,\t0.373333\n",
      "0.30,\t1E-03,\t0.00,\t4,\t0.374667\n",
      "0.30,\t1E-08,\t0.00,\t13,\t0.375103\n",
      "0.30,\t1E-12,\t0.00,\t20,\t0.375103\n",
      "0.60,\t1E-02,\t0.00,\t6,\t0.445120\n",
      "0.60,\t1E-03,\t0.00,\t9,\t0.447311\n",
      "0.60,\t1E-08,\t0.00,\t29,\t0.447649\n",
      "0.60,\t1E-12,\t0.00,\t46,\t0.447649\n",
      "0.90,\t1E-02,\t0.00,\t26,\t0.637540\n",
      "0.90,\t1E-03,\t0.00,\t43,\t0.638883\n",
      "0.90,\t1E-08,\t0.01,\t128,\t0.639020\n",
      "0.90,\t1E-12,\t0.01,\t195,\t0.639020\n"
     ]
    },
    {
     "name": "stderr",
     "output_type": "stream",
     "text": [
      "/opt/python/anaconda3-2019-03/envs/mavan/lib/python3.7/site-packages/numpy/core/fromnumeric.py:3335: RuntimeWarning: Mean of empty slice.\n",
      "  out=out, **kwargs)\n",
      "/opt/python/anaconda3-2019-03/envs/mavan/lib/python3.7/site-packages/numpy/core/_methods.py:161: RuntimeWarning: invalid value encountered in double_scalars\n",
      "  ret = ret.dtype.type(ret / rcount)\n",
      "/opt/python/anaconda3-2019-03/envs/mavan/lib/python3.7/site-packages/numpy/core/_methods.py:217: RuntimeWarning: Degrees of freedom <= 0 for slice\n",
      "  keepdims=keepdims)\n",
      "/opt/python/anaconda3-2019-03/envs/mavan/lib/python3.7/site-packages/numpy/core/_methods.py:186: RuntimeWarning: invalid value encountered in true_divide\n",
      "  arrmean, rcount, out=arrmean, casting='unsafe', subok=False)\n",
      "/opt/python/anaconda3-2019-03/envs/mavan/lib/python3.7/site-packages/numpy/core/_methods.py:209: RuntimeWarning: invalid value encountered in double_scalars\n",
      "  ret = ret.dtype.type(ret / rcount)\n"
     ]
    }
   ],
   "source": [
    "gammas   = [0.1, 0.3, 0.6, 0.9]\n",
    "epsilons = [1e-2, 1e-3, 1e-8, 1e-12]\n",
    "vi_data  = valueIteration(T, R, gammas, epsilons, showResults=False)\n",
    "\n",
    "#vi_data.head()"
   ]
  },
  {
   "cell_type": "markdown",
   "metadata": {},
   "source": [
    "## Plots"
   ]
  },
  {
   "cell_type": "code",
   "execution_count": 12,
   "metadata": {},
   "outputs": [
    {
     "data": {
      "image/png": "[encoded data removed]",
      "text/plain": [
       "<Figure size 432x288 with 1 Axes>"
      ]
     },
     "metadata": {},
     "output_type": "display_data"
    }
   ],
   "source": [
    "# Compare number of iterations with lowest epsilon\n",
    "\n",
    "# extract the average number of steps for each gamma value\n",
    "x = gammas\n",
    "y = []\n",
    "for g in gammas:\n",
    "    y.append(vi_data.loc[vi_data['gamma'] == g]['average_steps'].mean())\n",
    "\n",
    "\n",
    "sns.set(style=\"whitegrid\")\n",
    "\n",
    "fig = plt.figure(figsize=(6,4))\n",
    "ax  = sns.barplot(x, y)\n",
    "ax.set_title('Average Steps vs. Gamma')\n",
    "ax.set_xlabel('Gamma')\n",
    "ax.set_ylabel('Average Steps')\n",
    "\n",
    "title='VI_averageSteps_vs_gamma'\n",
    "plt.savefig('./frozen/' + title + '.png', dpi=400)\n"
   ]
  },
  {
   "cell_type": "code",
   "execution_count": 13,
   "metadata": {},
   "outputs": [
    {
     "data": {
      "image/png": "[encoded data removed]",
      "text/plain": [
       "<Figure size 432x288 with 1 Axes>"
      ]
     },
     "metadata": {},
     "output_type": "display_data"
    }
   ],
   "source": [
    "# Compare success of runs\n",
    "\n",
    "# extract the average success percentage for each gamma value\n",
    "x = gammas\n",
    "y = []\n",
    "for g in gammas:\n",
    "    y.append(vi_data.loc[vi_data['gamma'] == g]['success_pct'].mean())\n",
    "\n",
    "fig = plt.figure(figsize=(6,4))\n",
    "ax  = sns.barplot(x,y)\n",
    "ax.set_title('Success Percentage vs. Gamma')\n",
    "ax.set_xlabel('Gamma')\n",
    "ax.set_ylabel('Success %')\n",
    "\n",
    "title='VI_successPct_vs_gamma'\n",
    "plt.savefig('./frozen/' + title + '.png', dpi=400)"
   ]
  },
  {
   "cell_type": "markdown",
   "metadata": {},
   "source": [
    "## Results"
   ]
  },
  {
   "cell_type": "code",
   "execution_count": 14,
   "metadata": {},
   "outputs": [
    {
     "name": "stdout",
     "output_type": "stream",
     "text": [
      "Best Result:\n",
      "\tSuccess = 79.40\n",
      "\tGamma = 0.90\n",
      "\tEpsilon= 1E-02\n"
     ]
    },
    {
     "data": {
      "image/png": "[encoded data removed]",
      "text/plain": [
       "<Figure size 432x432 with 1 Axes>"
      ]
     },
     "metadata": {},
     "output_type": "display_data"
    }
   ],
   "source": [
    "# Plot most successful gamma and epsilon\n",
    "\n",
    "# find the score with the highest success percentage and get its policy\n",
    "bestRun = vi_data['success_pct'].argmax()\n",
    "best_policy = vi_data['policy'][bestRun]\n",
    "best_policy = np.array(list(best_policy)[0])\n",
    "best_policy = best_policy.reshape(rows, cols)\n",
    "\n",
    "# plot the policy\n",
    "title='Frozen Lake VI Optimal Policy'\n",
    "plot_lake(env, best_policy, title)\n",
    "\n",
    "# write all results to csv file\n",
    "csvFile = 'frozen/VI_results.csv'\n",
    "vi_data.to_csv(csvFile)\n",
    "\n",
    "print('Best Result:\\n\\tSuccess = %.2f\\n\\tGamma = %.2f\\n\\tEpsilon= %.E' % (vi_data['success_pct'].max(), vi_data['gamma'][bestRun], vi_data['epsilon'][bestRun]))\n"
   ]
  },
  {
   "cell_type": "markdown",
   "metadata": {},
   "source": [
    "# Policy Iteration\n",
    "## Function"
   ]
  },
  {
   "cell_type": "code",
   "execution_count": 23,
   "metadata": {},
   "outputs": [],
   "source": [
    "def policyIteration(t, r, gammas, showResults=False, max_iterations=100000):\n",
    "    # create data structure to save off\n",
    "    columns = ['gamma', 'epsilon', 'time', 'iterations', 'reward', 'average_steps', 'steps_stddev', 'success_pct', 'policy', 'mean_rewards', 'max_rewards', 'error']\n",
    "    data = pd.DataFrame(0.0, index=np.arange(len(gammas)), columns=columns)\n",
    "    \n",
    "    print('gamma,\\ttime,\\titer,\\treward')\n",
    "    print(80*'_')\n",
    "    \n",
    "    testnum = 0\n",
    "    for g in gammas:\n",
    "        test = PolicyIteration(t, r, gamma=g, max_iter=max_iterations, eval_type=\"matrix\") # eval_type=\"iterative\"\n",
    "        \n",
    "        runs  = test.run()\n",
    "        time  = test.time\n",
    "        iters = test.iter\n",
    "        maxr  = runs[-1]['Max V']\n",
    "        \n",
    "        print(iters, time)\n",
    "        \n",
    "        max_rewards, mean_rewards, errors = [], [], []\n",
    "        for run in runs:\n",
    "            max_rewards.append(run['Max V'])\n",
    "            mean_rewards.append(run['Mean V'])\n",
    "            errors.append(run['Error'])\n",
    "        \n",
    "        policy = np.array(test.policy)\n",
    "        policy = policy.reshape(4,4)\n",
    "        \n",
    "        data['gamma'][testnum]        = g\n",
    "        data['time'][testnum]         = time\n",
    "        data['iterations'][testnum]   = iters\n",
    "        data['reward'][testnum]       = maxr\n",
    "        data['mean_rewards'][testnum] = {tuple(mean_rewards)}\n",
    "        data['max_rewards'][testnum]  = {tuple(max_rewards)}\n",
    "        data['error'][testnum]        = {tuple(errors)}\n",
    "        data['policy'][testnum]       = {test.policy}\n",
    "        \n",
    "        print('%.2f,\\t%.2f,\\t%d,\\t%f' % (g, time, iters, maxr))\n",
    "        \n",
    "        if showResults:\n",
    "            title = 'frozenlake_pi_' + str(rows) + 'x' + str(cols) + '_g' + str(g)\n",
    "            plot_lake(env, policy, title)\n",
    "        \n",
    "        testnum = testnum + 1\n",
    "            \n",
    "    # see differences in policy\n",
    "    policies = data['policy']\n",
    "    \n",
    "    for i,p in enumerate(policies):\n",
    "        pol = list(p)[0]\n",
    "        steps, steps_stddev, failures = get_score(env, pol, showResults)\n",
    "        data['average_steps'][i] = steps\n",
    "        data['steps_stddev'][i]  = steps_stddev\n",
    "        data['success_pct'][i]   = 100-failures      \n",
    "        \n",
    "    # replace all nan's\n",
    "    data.fillna(0, inplace=true)\n",
    "    data.head()\n",
    "        \n",
    "    return data"
   ]
  },
  {
   "cell_type": "markdown",
   "metadata": {},
   "source": [
    "## Setup"
   ]
  },
  {
   "cell_type": "code",
   "execution_count": 24,
   "metadata": {
    "scrolled": false
   },
   "outputs": [
    {
     "name": "stdout",
     "output_type": "stream",
     "text": [
      "gamma,\ttime,\titer,\treward\n",
      "________________________________________________________________________________\n",
      "4 0.004198551177978516\n",
      "0.10,\t0.00,\t4,\t0.345239\n"
     ]
    },
    {
     "ename": "NameError",
     "evalue": "name 'showresults' is not defined",
     "output_type": "error",
     "traceback": [
      "\u001b[0;31m---------------------------------------------------------------------------\u001b[0m",
      "\u001b[0;31mNameError\u001b[0m                                 Traceback (most recent call last)",
      "\u001b[0;32m<ipython-input-24-479d94332399>\u001b[0m in \u001b[0;36m<module>\u001b[0;34m\u001b[0m\n\u001b[1;32m      1\u001b[0m \u001b[0mgammas\u001b[0m   \u001b[0;34m=\u001b[0m \u001b[0;34m[\u001b[0m\u001b[0;36m0.1\u001b[0m\u001b[0;34m,\u001b[0m \u001b[0;36m0.2\u001b[0m\u001b[0;34m,\u001b[0m \u001b[0;36m0.3\u001b[0m\u001b[0;34m,\u001b[0m \u001b[0;36m0.4\u001b[0m\u001b[0;34m,\u001b[0m \u001b[0;36m0.5\u001b[0m\u001b[0;34m,\u001b[0m \u001b[0;36m0.6\u001b[0m\u001b[0;34m,\u001b[0m \u001b[0;36m0.7\u001b[0m\u001b[0;34m,\u001b[0m \u001b[0;36m0.8\u001b[0m\u001b[0;34m,\u001b[0m \u001b[0;36m0.9\u001b[0m\u001b[0;34m]\u001b[0m\u001b[0;34m\u001b[0m\u001b[0;34m\u001b[0m\u001b[0m\n\u001b[0;32m----> 2\u001b[0;31m \u001b[0mpi_data\u001b[0m  \u001b[0;34m=\u001b[0m \u001b[0mpolicyIteration\u001b[0m\u001b[0;34m(\u001b[0m\u001b[0mT\u001b[0m\u001b[0;34m,\u001b[0m \u001b[0mR\u001b[0m\u001b[0;34m,\u001b[0m \u001b[0mgammas\u001b[0m\u001b[0;34m,\u001b[0m \u001b[0mshowResults\u001b[0m\u001b[0;34m=\u001b[0m\u001b[0;32mFalse\u001b[0m\u001b[0;34m)\u001b[0m\u001b[0;34m\u001b[0m\u001b[0;34m\u001b[0m\u001b[0m\n\u001b[0m\u001b[1;32m      3\u001b[0m \u001b[0;34m\u001b[0m\u001b[0m\n\u001b[1;32m      4\u001b[0m \u001b[0;31m#pi_data.head()\u001b[0m\u001b[0;34m\u001b[0m\u001b[0;34m\u001b[0m\u001b[0;34m\u001b[0m\u001b[0m\n",
      "\u001b[0;32m<ipython-input-23-5679fdd1556b>\u001b[0m in \u001b[0;36mpolicyIteration\u001b[0;34m(t, r, gammas, showResults, max_iterations)\u001b[0m\n\u001b[1;32m     38\u001b[0m         \u001b[0mprint\u001b[0m\u001b[0;34m(\u001b[0m\u001b[0;34m'%.2f,\\t%.2f,\\t%d,\\t%f'\u001b[0m \u001b[0;34m%\u001b[0m \u001b[0;34m(\u001b[0m\u001b[0mg\u001b[0m\u001b[0;34m,\u001b[0m \u001b[0mtime\u001b[0m\u001b[0;34m,\u001b[0m \u001b[0miters\u001b[0m\u001b[0;34m,\u001b[0m \u001b[0mmaxr\u001b[0m\u001b[0;34m)\u001b[0m\u001b[0;34m)\u001b[0m\u001b[0;34m\u001b[0m\u001b[0;34m\u001b[0m\u001b[0m\n\u001b[1;32m     39\u001b[0m \u001b[0;34m\u001b[0m\u001b[0m\n\u001b[0;32m---> 40\u001b[0;31m         \u001b[0;32mif\u001b[0m \u001b[0mshowresults\u001b[0m\u001b[0;34m:\u001b[0m\u001b[0;34m\u001b[0m\u001b[0;34m\u001b[0m\u001b[0m\n\u001b[0m\u001b[1;32m     41\u001b[0m             \u001b[0mtitle\u001b[0m \u001b[0;34m=\u001b[0m \u001b[0;34m'frozenlake_pi_'\u001b[0m \u001b[0;34m+\u001b[0m \u001b[0mstr\u001b[0m\u001b[0;34m(\u001b[0m\u001b[0mrows\u001b[0m\u001b[0;34m)\u001b[0m \u001b[0;34m+\u001b[0m \u001b[0;34m'x'\u001b[0m \u001b[0;34m+\u001b[0m \u001b[0mstr\u001b[0m\u001b[0;34m(\u001b[0m\u001b[0mcols\u001b[0m\u001b[0;34m)\u001b[0m \u001b[0;34m+\u001b[0m \u001b[0;34m'_g'\u001b[0m \u001b[0;34m+\u001b[0m \u001b[0mstr\u001b[0m\u001b[0;34m(\u001b[0m\u001b[0mg\u001b[0m\u001b[0;34m)\u001b[0m\u001b[0;34m\u001b[0m\u001b[0;34m\u001b[0m\u001b[0m\n\u001b[1;32m     42\u001b[0m             \u001b[0mplot_lake\u001b[0m\u001b[0;34m(\u001b[0m\u001b[0menv\u001b[0m\u001b[0;34m,\u001b[0m \u001b[0mpolicy\u001b[0m\u001b[0;34m,\u001b[0m \u001b[0mtitle\u001b[0m\u001b[0;34m)\u001b[0m\u001b[0;34m\u001b[0m\u001b[0;34m\u001b[0m\u001b[0m\n",
      "\u001b[0;31mNameError\u001b[0m: name 'showresults' is not defined"
     ]
    }
   ],
   "source": [
    "gammas   = [0.1, 0.2, 0.3, 0.4, 0.5, 0.6, 0.7, 0.8, 0.9]\n",
    "pi_data  = policyIteration(T, R, gammas, showResults=False)\n",
    "\n",
    "#pi_data.head()"
   ]
  },
  {
   "cell_type": "markdown",
   "metadata": {},
   "source": [
    "## Plots"
   ]
  },
  {
   "cell_type": "code",
   "execution_count": 32,
   "metadata": {},
   "outputs": [
    {
     "data": {
      "image/png": "[encoded data removed]",
      "text/plain": [
       "<Figure size 432x288 with 1 Axes>"
      ]
     },
     "metadata": {},
     "output_type": "display_data"
    }
   ],
   "source": [
    "# Compare number of iterations with lowest epsilon\n",
    "\n",
    "# extract the average number of steps for each gamma value\n",
    "x = gammas\n",
    "y = pi_data['average_steps']\n",
    "sigma = pi_data['steps_stddev']\n",
    "\n",
    "fig = plt.figure(figsize=(6,4))\n",
    "plt.plot(x, y, 'o-')\n",
    "plt.fill_between(x, y-sigma, y+sigma, color='b', alpha=0.1)\n",
    "\n",
    "plt.title('Average Steps Taken vs. Gamma')\n",
    "plt.xlabel('Gamma')\n",
    "plt.ylabel('Average Steps')\n",
    "plt.grid(True)\n",
    "\n",
    "title='PI_averageSteps_vs_gamma'\n",
    "plt.savefig('./frozen/' + title + '.png', dpi=400)"
   ]
  },
  {
   "cell_type": "code",
   "execution_count": 33,
   "metadata": {},
   "outputs": [
    {
     "data": {
      "image/png": "[encoded data removed]",
      "text/plain": [
       "<Figure size 432x288 with 1 Axes>"
      ]
     },
     "metadata": {},
     "output_type": "display_data"
    }
   ],
   "source": [
    "# Compare success of runs\n",
    "\n",
    "# extract the average success percentage for each gamma value\n",
    "x = pi_data['gamma']\n",
    "y = pi_data['success_pct']\n",
    "\n",
    "fig = plt.figure(figsize=(6,4))\n",
    "plt.plot(x, y, 'o-')\n",
    "\n",
    "plt.title('Success vs. Gamma')\n",
    "plt.xlabel('Gamma')\n",
    "plt.ylabel('Success %')\n",
    "plt.grid(True)\n",
    "\n",
    "title='VI_successPct_vs_gamma'\n",
    "plt.savefig('./frozen/' + title + '.png', dpi=400)"
   ]
  },
  {
   "cell_type": "markdown",
   "metadata": {},
   "source": [
    "## Results"
   ]
  },
  {
   "cell_type": "code",
   "execution_count": 16,
   "metadata": {},
   "outputs": [
    {
     "name": "stdout",
     "output_type": "stream",
     "text": [
      "Best Result:\n",
      "\tSuccess = 78.40\n",
      "\tGamma = 0.90\n"
     ]
    },
    {
     "data": {
      "image/png": "[encoded data removed]",
      "text/plain": [
       "<Figure size 432x432 with 1 Axes>"
      ]
     },
     "metadata": {},
     "output_type": "display_data"
    }
   ],
   "source": [
    "# Plot most successful gamma\n",
    "\n",
    "# find the score with the highest success percentage and get its policy\n",
    "bestRun = pi_data['success_pct'].argmax()\n",
    "\n",
    "best_policy = pi_data['policy'][bestRun]\n",
    "best_policy = np.array(list(best_policy)[0])\n",
    "best_policy = best_policy.reshape(rows, cols)\n",
    "\n",
    "# plot the policy\n",
    "title='Frozen Lake PI Optimal Policy'\n",
    "plot_lake(env, best_policy, title)\n",
    "\n",
    "# write all results to csv file\n",
    "csvFile = 'frozen/PI_results.csv'\n",
    "pi_data.to_csv(csvFile)\n",
    "\n",
    "print('Best Result:\\n\\tSuccess = %.2f\\n\\tGamma = %.2f' % (pi_data['success_pct'].max(), pi_data['gamma'][bestRun]))"
   ]
  },
  {
   "cell_type": "code",
   "execution_count": null,
   "metadata": {},
   "outputs": [],
   "source": []
  },
  {
   "cell_type": "markdown",
   "metadata": {},
   "source": [
    "# Q-Learning\n",
    "\n",
    "## Function"
   ]
  },
  {
   "cell_type": "code",
   "execution_count": 65,
   "metadata": {},
   "outputs": [],
   "source": [
    "def qLearning(t, r, gammas, alphas, alpha_decays=[0.99], epsilon_decays=[0.99], n_iterations=[10000000], showResults=False):\n",
    "    # create data structure to save off\n",
    "    columns = ['gamma', 'alpha', 'alpha_decay', 'epsilon_decay', 'iterations', 'time', 'reward', 'average_steps', 'steps_stddev', 'success_pct', 'policy', 'mean_rewards', 'max_rewards', 'error']\n",
    "    numTests = len(gammas)*len(alphas)*len(alpha_decays)*len(epsilon_decays)*len(n_iterations)\n",
    "    data = pd.DataFrame(0.0, index=np.arange(numTests), columns=columns)\n",
    "    \n",
    "    print('Gamma,\\tAlpha,\\tTime,\\tIter,\\tReward')\n",
    "    print(80*'_')\n",
    "    \n",
    "    testNum = 0\n",
    "    for g in gammas:\n",
    "        for a in alphas:\n",
    "            for a_decay in alpha_decays:\n",
    "                for e_decay in epsilon_decays:\n",
    "                    for n in n_iterations:\n",
    "                        print('Test Num %d/%d' %(testNum+1, numTests))\n",
    "                        print('Gamma: %.2f,\\tAlpha: %.2f,\\tAlpha Decay:%.3f,\\tEpsilon Decay:%.3f,\\tIterations:%d' \n",
    "                             %(g, a, a_decay, e_decay, n))\n",
    "                        \n",
    "                        test = QLearning(t, r, gamma=g, alpha=a, alpha_decay=a_decay, epsilon_decay=e_decay, n_iter=n)\n",
    "                        \n",
    "                        runs  = test.run()\n",
    "                        time  = runs[-1]['Time']\n",
    "                        iters = runs[-1]['Iteration']\n",
    "                        maxR  = runs[-1]['Max V']\n",
    "                        \n",
    "                        max_rewards, mean_rewards, errors = [], [], []\n",
    "                        for run in runs:\n",
    "                            max_rewards.append(run['Max V'])\n",
    "                            mean_rewards.append(run['Mean V'])\n",
    "                            errors.append(run['Error'])\n",
    "                        \n",
    "                        policy = np.array(test.policy)\n",
    "                        policy = policy.reshape(4,4)\n",
    "                        \n",
    "                        data['gamma'][testNum]         = g\n",
    "                        data['alpha'][testNum]         = a\n",
    "                        data['alpha_decay'][testNum]   = a_decay\n",
    "                        data['epsilon_decay'][testNum] = e_decay\n",
    "                        data['time'][testNum]          = time\n",
    "                        data['iterations'][testNum]    = iters\n",
    "                        data['reward'][testNum]        = maxR\n",
    "                        data['mean_rewards'][testNum]  = {tuple(mean_rewards)}\n",
    "                        data['max_rewards'][testNum]   = {tuple(max_rewards)}\n",
    "                        data['error'][testNum]         = {tuple(errors)}\n",
    "                        data['policy'][testNum]        = {test.policy}\n",
    "                        \n",
    "                        print('%.2f,\\t%.2f,\\t%.2f,\\t%d,\\t%f' % (g, a, time, iters, maxR))\n",
    "                        \n",
    "                        if showResults:\n",
    "                            title = 'FrozenLake_QL_' + str(rows) + 'x' + str(cols) + '_g' + str(g) + '_a' + str(a) + '_adecay' + str(a_decay) + '_edecay' + str(e_decay) + '_iter' + str(n)\n",
    "                            plot_lake(env, policy, title)\n",
    "                        \n",
    "                        testNum = testNum + 1\n",
    "            \n",
    "    # See differences in policy\n",
    "    policies = data['policy']\n",
    "    \n",
    "    for i,p in enumerate(policies):\n",
    "        pol = list(p)[0]\n",
    "        steps, steps_stddev, failures = get_score(env, pol, showResults)\n",
    "        data['average_steps'][i] = steps\n",
    "        data['steps_stddev'][i]  = steps_stddev\n",
    "        data['success_pct'][i]   = 100-failures      \n",
    "        \n",
    "    # replace all NaN's\n",
    "    data.fillna(0, inplace=True)\n",
    "    data.head()\n",
    "        \n",
    "    return data"
   ]
  },
  {
   "cell_type": "markdown",
   "metadata": {},
   "source": [
    "## Setup"
   ]
  },
  {
   "cell_type": "code",
   "execution_count": 2,
   "metadata": {
    "scrolled": true
   },
   "outputs": [
    {
     "ename": "NameError",
     "evalue": "name 'ql_data' is not defined",
     "output_type": "error",
     "traceback": [
      "\u001b[0;31m---------------------------------------------------------------------------\u001b[0m",
      "\u001b[0;31mNameError\u001b[0m                                 Traceback (most recent call last)",
      "\u001b[0;32m<ipython-input-2-376d3b803cf1>\u001b[0m in \u001b[0;36m<module>\u001b[0;34m\u001b[0m\n\u001b[1;32m     15\u001b[0m '''\n\u001b[1;32m     16\u001b[0m \u001b[0;34m\u001b[0m\u001b[0m\n\u001b[0;32m---> 17\u001b[0;31m \u001b[0mql_data\u001b[0m\u001b[0;34m.\u001b[0m\u001b[0mhead\u001b[0m\u001b[0;34m(\u001b[0m\u001b[0;34m)\u001b[0m\u001b[0;34m\u001b[0m\u001b[0;34m\u001b[0m\u001b[0m\n\u001b[0m",
      "\u001b[0;31mNameError\u001b[0m: name 'ql_data' is not defined"
     ]
    }
   ],
   "source": [
    "gammas   = [0.8, 0.9, 0.99]\n",
    "alphas   = [0.01, 0.1, 0.2]\n",
    "alpha_decays = [0.9, 0.999]\n",
    "epsilon_decays = [0.9, 0.999]\n",
    "iterations = [1e5, 1e6, 1e7]\n",
    "\n",
    "''' PROCEED WITH CAUTION >>>> THIS WILL OVERWRITE DATA AND TAKE HOURS\n",
    "\n",
    "ql_data  = qLearning(T, R, gammas, alphas, alpha_decays=alpha_decays, epsilon_decays=epsilon_decays, n_iterations=iterations, showResults=True)\n",
    "\n",
    "# write all results to csv file\n",
    "csvFile = 'frozen/QL_results.csv'\n",
    "ql_data.to_csv(csvFile)\n",
    "\n",
    "'''\n",
    "\n",
    "ql_data.head()\n"
   ]
  },
  {
   "cell_type": "code",
   "execution_count": 3,
   "metadata": {},
   "outputs": [
    {
     "ename": "NameError",
     "evalue": "name 'pd' is not defined",
     "output_type": "error",
     "traceback": [
      "\u001b[0;31m---------------------------------------------------------------------------\u001b[0m",
      "\u001b[0;31mNameError\u001b[0m                                 Traceback (most recent call last)",
      "\u001b[0;32m<ipython-input-3-f62ca526e374>\u001b[0m in \u001b[0;36m<module>\u001b[0;34m\u001b[0m\n\u001b[1;32m      1\u001b[0m \u001b[0;31m# Read in Q-Learning data\u001b[0m\u001b[0;34m\u001b[0m\u001b[0;34m\u001b[0m\u001b[0;34m\u001b[0m\u001b[0m\n\u001b[0;32m----> 2\u001b[0;31m \u001b[0mql_data\u001b[0m \u001b[0;34m=\u001b[0m \u001b[0mpd\u001b[0m\u001b[0;34m.\u001b[0m\u001b[0mread_csv\u001b[0m\u001b[0;34m(\u001b[0m\u001b[0;34m'frozen/QL_results.csv'\u001b[0m\u001b[0;34m)\u001b[0m\u001b[0;34m\u001b[0m\u001b[0;34m\u001b[0m\u001b[0m\n\u001b[0m\u001b[1;32m      3\u001b[0m \u001b[0mql_data\u001b[0m\u001b[0;34m.\u001b[0m\u001b[0mhead\u001b[0m\u001b[0;34m(\u001b[0m\u001b[0;34m)\u001b[0m\u001b[0;34m\u001b[0m\u001b[0;34m\u001b[0m\u001b[0m\n",
      "\u001b[0;31mNameError\u001b[0m: name 'pd' is not defined"
     ]
    }
   ],
   "source": [
    "# Read in Q-Learning data\n",
    "ql_data = pd.read_csv('frozen/QL_results.csv')\n",
    "ql_data.head()"
   ]
  },
  {
   "cell_type": "code",
   "execution_count": 94,
   "metadata": {},
   "outputs": [],
   "source": [
    "# Look at correlation matrix\n",
    "interest = ['gamma', 'alpha', 'alpha_decay', 'epsilon_decay', 'iterations', 'reward', 'time', 'success_pct']\n",
    "\n",
    "# pick out hyperparameters and how succesful they were\n",
    "df = ql_data[interest]\n",
    "\n",
    "# See what affected the success_pct the most\n",
    "ql_corr = df.corr()"
   ]
  },
  {
   "cell_type": "markdown",
   "metadata": {},
   "source": [
    "## Plots"
   ]
  },
  {
   "cell_type": "code",
   "execution_count": 115,
   "metadata": {},
   "outputs": [
    {
     "data": {
      "text/plain": [
       "<matplotlib.axes._subplots.AxesSubplot at 0x7fe031db1f10>"
      ]
     },
     "execution_count": 115,
     "metadata": {},
     "output_type": "execute_result"
    },
    {
     "data": {
      "image/png": "[encoded data removed]",
      "text/plain": [
       "<Figure size 576x504 with 2 Axes>"
      ]
     },
     "metadata": {},
     "output_type": "display_data"
    }
   ],
   "source": [
    "# Create heatmap of correlation matrix\n",
    "sns.set(style=\"white\")\n",
    "fig, ax = plt.subplots(figsize=(8,7))\n",
    "ax.set_title('Correlation Matrix of Q-Learning Parameters', fontsize=20)\n",
    "mask = np.triu(np.ones_like(ql_corr, dtype=np.bool))\n",
    "cmap = sns.diverging_palette(255, 0, as_cmap=True)\n",
    "sns.heatmap(ql_corr, mask=mask, cmap=cmap, square=True, linewidths=0.5, cbar_kws={\"shrink\":.75})"
   ]
  },
  {
   "cell_type": "code",
   "execution_count": 163,
   "metadata": {},
   "outputs": [],
   "source": [
    "def plot_QL(dependent, independent, title=None, logscale=False):\n",
    "    if dependent not in interest:\n",
    "        print('Dependent variable not available')\n",
    "        return\n",
    "    if independent not in interest:\n",
    "        print('Independent variable not available')\n",
    "        return\n",
    "    \n",
    "    x = np.unique(df[dependent])\n",
    "    y = []\n",
    "    \n",
    "    for i in x:\n",
    "        y.append(df.loc[df[dependent] == i][independent].mean())\n",
    "        \n",
    "    fig = plt.figure(figsize=(6,4))\n",
    "    plt.plot(x, y, 'o-')\n",
    "    \n",
    "    if title == None:\n",
    "        title = independent + ' vs. ' + dependent\n",
    "    plt.title(title, fontsize=15)\n",
    "    plt.xlabel(dependent)\n",
    "    plt.ylabel(independent)\n",
    "    plt.grid(True)\n",
    "    if logscale:\n",
    "        plt.xscale('log')\n",
    "    \n",
    "    title='QL_' + independent + '_vs_' + dependent\n",
    "    plt.savefig('./frozen/' + title + '.png', dpi=400)\n",
    "    "
   ]
  },
  {
   "cell_type": "code",
   "execution_count": 1,
   "metadata": {},
   "outputs": [
    {
     "ename": "NameError",
     "evalue": "name 'plot_QL' is not defined",
     "output_type": "error",
     "traceback": [
      "\u001b[0;31m---------------------------------------------------------------------------\u001b[0m",
      "\u001b[0;31mNameError\u001b[0m                                 Traceback (most recent call last)",
      "\u001b[0;32m<ipython-input-1-df290424ed49>\u001b[0m in \u001b[0;36m<module>\u001b[0;34m\u001b[0m\n\u001b[1;32m      1\u001b[0m \u001b[0;31m# Plot values vs. Iterations\u001b[0m\u001b[0;34m\u001b[0m\u001b[0;34m\u001b[0m\u001b[0;34m\u001b[0m\u001b[0m\n\u001b[0;32m----> 2\u001b[0;31m \u001b[0mplot_QL\u001b[0m\u001b[0;34m(\u001b[0m\u001b[0;34m'iterations'\u001b[0m\u001b[0;34m,\u001b[0m \u001b[0;34m'time'\u001b[0m\u001b[0;34m,\u001b[0m \u001b[0mtitle\u001b[0m\u001b[0;34m=\u001b[0m\u001b[0;34m'Mean Time Taken vs. Iterations'\u001b[0m\u001b[0;34m,\u001b[0m \u001b[0mlogscale\u001b[0m\u001b[0;34m=\u001b[0m\u001b[0;32mTrue\u001b[0m\u001b[0;34m)\u001b[0m\u001b[0;34m\u001b[0m\u001b[0;34m\u001b[0m\u001b[0m\n\u001b[0m\u001b[1;32m      3\u001b[0m \u001b[0mplot_QL\u001b[0m\u001b[0;34m(\u001b[0m\u001b[0;34m'iterations'\u001b[0m\u001b[0;34m,\u001b[0m \u001b[0;34m'success_pct'\u001b[0m\u001b[0;34m,\u001b[0m \u001b[0mtitle\u001b[0m\u001b[0;34m=\u001b[0m\u001b[0;34m'Mean Success Percentage vs. Iterations'\u001b[0m\u001b[0;34m,\u001b[0m \u001b[0mlogscale\u001b[0m\u001b[0;34m=\u001b[0m\u001b[0;32mTrue\u001b[0m\u001b[0;34m)\u001b[0m\u001b[0;34m\u001b[0m\u001b[0;34m\u001b[0m\u001b[0m\n\u001b[1;32m      4\u001b[0m \u001b[0;34m\u001b[0m\u001b[0m\n\u001b[1;32m      5\u001b[0m \u001b[0;31m# Plot alpha decay vs success pct\u001b[0m\u001b[0;34m\u001b[0m\u001b[0;34m\u001b[0m\u001b[0;34m\u001b[0m\u001b[0m\n",
      "\u001b[0;31mNameError\u001b[0m: name 'plot_QL' is not defined"
     ]
    }
   ],
   "source": [
    "# Plot values vs. Iterations\n",
    "plot_QL('iterations', 'time', title='Mean Time Taken vs. Iterations', logscale=True)\n",
    "plot_QL('iterations', 'success_pct', title='Mean Success Percentage vs. Iterations', logscale=True)\n",
    "\n",
    "# Plot alpha decay vs success pct\n",
    "plot_QL('alpha_decay', 'success_pct', title='Mean Success Percentage vs. Alpha Decay')\n",
    "\n",
    "# Plot results vs. gamma\n",
    "plot_QL('gamma', 'reward', title='Mean Success Percentage vs. Gamma')\n",
    "plot_QL('gamma', 'success_pct', title='Mean Reward vs. Gamma')"
   ]
  },
  {
   "cell_type": "markdown",
   "metadata": {},
   "source": [
    "## Results"
   ]
  },
  {
   "cell_type": "code",
   "execution_count": 211,
   "metadata": {},
   "outputs": [
    {
     "name": "stdout",
     "output_type": "stream",
     "text": [
      "Best Result:\n",
      "\tSuccess = 66.10\n",
      "\tGamma = 0.99,\n",
      "\tAlpha = 0.01,\n",
      "\tAlpha Decay: 0.999,\n",
      "\tEpsilon Decay: 0.999,\n",
      "\tIterations: 1.0E+07\n"
     ]
    },
    {
     "data": {
      "image/png": "[encoded data removed]",
      "text/plain": [
       "<Figure size 432x432 with 1 Axes>"
      ]
     },
     "metadata": {},
     "output_type": "display_data"
    }
   ],
   "source": [
    "# Plot most successful gamma\n",
    "\n",
    "# find the score with the highest success percentage and get its policy\n",
    "bestRun = ql_data['success_pct'].argmax()\n",
    "\n",
    "best_policy = ql_data['policy'][bestRun]\n",
    "\n",
    "# reshape the policy since we pulled from a csv file\n",
    "best_policy = best_policy[1:-1]\n",
    "best_policy = eval(best_policy)\n",
    "best_policy = np.array(best_policy)\n",
    "best_policy = best_policy.reshape(rows, cols)\n",
    "\n",
    "# plot the policy\n",
    "title='Frozen Lake QL Optimal Policy'\n",
    "plot_lake(env, best_policy, title)\n",
    "\n",
    "print('Best Result:\\n\\tSuccess = %.2f\\n\\tGamma = %.2f,\\n\\tAlpha = %.2f,\\n\\tAlpha Decay: %.3f,\\n\\tEpsilon Decay: %.3f,\\n\\tIterations: %.1E' \n",
    "      % (ql_data['success_pct'].max(), ql_data['gamma'][bestRun], ql_data['alpha'][bestRun], ql_data['alpha_decay'][bestRun], ql_data['epsilon_decay'][bestRun], ql_data['iterations'][bestRun]))"
   ]
  }
 ],
 "metadata": {
  "kernelspec": {
   "display_name": "Python 3",
   "language": "python",
   "name": "python3"
  },
  "language_info": {
   "codemirror_mode": {
    "name": "ipython",
    "version": 3
   },
   "file_extension": ".py",
   "mimetype": "text/x-python",
   "name": "python",
   "nbconvert_exporter": "python",
   "pygments_lexer": "ipython3",
   "version": "3.7.6"
  }
 },
 "nbformat": 4,
 "nbformat_minor": 2
}
